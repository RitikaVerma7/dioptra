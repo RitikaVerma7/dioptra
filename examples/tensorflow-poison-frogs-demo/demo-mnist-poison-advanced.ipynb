{
 "cells": [
  {
   "cell_type": "markdown",
   "metadata": {},
   "source": [
    "# Tensorflow Poison Frogs MNIST demo for Securing AI Lab deployment\n",
    "\n",
    "This is an advanced version of the MNIST Poison Frogs Demo.\n",
    "Here, users may parse through regular and poisoned images to select the best target parameters for attacks. "
   ]
  },
  {
   "cell_type": "markdown",
   "metadata": {},
   "source": [
    "## Setup"
   ]
  },
  {
   "cell_type": "markdown",
   "metadata": {},
   "source": [
    "**Note:** This demo is specifically for the NCCoE DGX Workstation with hostname `dgx-station-2`.\n",
    "\n",
    "Port forwarding is required in order to run this demo.\n",
    "The recommended port mapping is as follows:\n",
    "\n",
    "- Map `localhost:30080` on laptop to `localhost:30080` on `dgx-station-2`\n",
    "- Map `localhost:35000` on laptop to `localhost:35000` on `dgx-station-2`\n",
    "\n",
    "A sample SSH config file that enables the above port forwarding is provided below,\n",
    "\n",
    "> ⚠️ **Edits required**: replace `username` with your assigned username _on the NCCoE virtual machines_!"
   ]
  },
  {
   "cell_type": "markdown",
   "metadata": {},
   "source": [
    "```conf\n",
    "# vm hostname: jumphost001\n",
    "Host nccoe-jumphost001\n",
    "    Hostname 10.33.53.98\n",
    "    User username\n",
    "    Port 54131\n",
    "    IdentityFile %d/.ssh/nccoe-vm\n",
    "\n",
    "# vm hostname: dgx-station-2\n",
    "Host nccoe-k8s-gpu002\n",
    "    Hostname 192.168.1.28\n",
    "    User username\n",
    "    Port 22\n",
    "    IdentityFile %d/.ssh/nccoe-vm\n",
    "    ProxyJump nccoe-jumphost001\n",
    "    LocalForward 30080 localhost:30080\n",
    "    LocalForward 35000 localhost:35000\n",
    "```"
   ]
  },
  {
   "cell_type": "markdown",
   "metadata": {},
   "source": [
    "Now, connect to the NCCoE VPN and SSH into the DGX Workstation,"
   ]
  },
  {
   "cell_type": "markdown",
   "metadata": {},
   "source": [
    "```bash\n",
    "ssh nccoe-k8s-gpu002\n",
    "```"
   ]
  },
  {
   "cell_type": "markdown",
   "metadata": {},
   "source": [
    "Next, we import the necessary Python modules and ensure the proper environment variables are set so that all the code blocks will work as expected,"
   ]
  },
  {
   "cell_type": "code",
   "execution_count": 1,
   "metadata": {},
   "outputs": [],
   "source": [
    "# Import packages from the Python standard library\n",
    "import os\n",
    "import pprint\n",
    "import time\n",
    "import warnings\n",
    "from pathlib import Path\n",
    "from typing import Tuple\n",
    "import tarfile\n",
    "\n",
    "# Please enter your username here.\n",
    "USERNAME = \"howard\"\n",
    "\n",
    "# Filter out warning messages\n",
    "warnings.filterwarnings(\"ignore\")\n",
    "\n",
    "# Default address for accessing the RESTful API service\n",
    "RESTAPI_ADDRESS = \"http://localhost:30080\"\n",
    "\n",
    "# Base API address\n",
    "RESTAPI_API_BASE = f\"{RESTAPI_ADDRESS}/api\"\n",
    "\n",
    "# Default address for accessing the MLFlow Tracking server\n",
    "MLFLOW_TRACKING_URI = \"http://localhost:35000\"\n",
    "\n",
    "# Path to workflows archive\n",
    "WORKFLOWS_TAR_GZ = Path(\"workflows.tar.gz\")\n",
    "\n",
    "# Experiment name (note the username_ prefix convention)\n",
    "EXPERIMENT_NAME = f\"{USERNAME}_mnist_poison_frogs\"\n",
    "\n",
    "# Set MLFLOW_TRACKING_URI variable, used to connect to MLFlow Tracking service\n",
    "if os.getenv(\"MLFLOW_TRACKING_URI\") is None:\n",
    "    os.environ[\"MLFLOW_TRACKING_URI\"] = MLFLOW_TRACKING_URI\n",
    "\n",
    "# Import third-party Python packages\n",
    "import numpy as np\n",
    "import requests\n",
    "from mlflow.tracking import MlflowClient\n",
    "\n",
    "# Import utils.py file\n",
    "import utils\n",
    "\n",
    "# Create random number generator\n",
    "rng = np.random.default_rng(54399264723942495723666216079516778448)"
   ]
  },
  {
   "cell_type": "markdown",
   "metadata": {},
   "source": [
    "Check that the Makefile works in your environment by executing the `bash` code block below,"
   ]
  },
  {
   "cell_type": "code",
   "execution_count": 2,
   "metadata": {},
   "outputs": [
    {
     "name": "stdout",
     "output_type": "stream",
     "text": [
      "\u001b[1mAvailable rules:\u001b[m\n",
      "\n",
      "\u001b[36mclean              \u001b[m Remove temporary files \n",
      "\u001b[36mdata               \u001b[m Download and prepare MNIST dataset \n",
      "\u001b[36minitdb             \u001b[m Initialize the RESTful API database \n",
      "\u001b[36mservices           \u001b[m Launch the Minio S3 and MLFlow Tracking services \n",
      "\u001b[36mteardown           \u001b[m Destroy service containers \n",
      "\u001b[36mworkflows          \u001b[m Create workflows tarball \n"
     ]
    },
    {
     "name": "stderr",
     "output_type": "stream",
     "text": [
      "/home/hhuang/.conda/envs/tensorflow-mnist-classifier/lib/python3.7/site-packages/ipykernel/ipkernel.py:287: DeprecationWarning: `should_run_async` will not call `transform_cell` automatically in the future. Please pass the result to `transformed_cell` argument and any exception that happen during thetransform in `preprocessing_exc_tuple` in IPython 7.17 and above.\n",
      "  and should_run_async(code)\n"
     ]
    }
   ],
   "source": [
    "%%bash\n",
    "\n",
    "# Running this will just list the available rules defined in the demo's Makefile.\n",
    "make"
   ]
  },
  {
   "cell_type": "markdown",
   "metadata": {},
   "source": [
    "## Submit and run jobs"
   ]
  },
  {
   "cell_type": "markdown",
   "metadata": {},
   "source": [
    "The jobs that we will be running are implemented in the Python source files under `src/`, which will be executed using the entrypoints defined in the `MLproject` file.\n",
    "To get this information into the architecture, we need to package those files up into an archive and upload it to the lab API.\n",
    "For convenience, the `Makefile` provides a rule for creating the archive file, just run `make workflows`,"
   ]
  },
  {
   "cell_type": "code",
   "execution_count": 3,
   "metadata": {},
   "outputs": [
    {
     "name": "stdout",
     "output_type": "stream",
     "text": [
      "make: Nothing to be done for 'workflows'.\n"
     ]
    },
    {
     "name": "stderr",
     "output_type": "stream",
     "text": [
      "/home/hhuang/.conda/envs/tensorflow-mnist-classifier/lib/python3.7/site-packages/ipykernel/ipkernel.py:287: DeprecationWarning: `should_run_async` will not call `transform_cell` automatically in the future. Please pass the result to `transformed_cell` argument and any exception that happen during thetransform in `preprocessing_exc_tuple` in IPython 7.17 and above.\n",
      "  and should_run_async(code)\n"
     ]
    }
   ],
   "source": [
    "%%bash\n",
    "\n",
    "# Create the workflows.tar.gz file\n",
    "make workflows"
   ]
  },
  {
   "cell_type": "markdown",
   "metadata": {},
   "source": [
    "To connect with the endpoint, we will use a client class defined in the `utils.py` file that is able to connect with the lab's RESTful API using the HTTP protocol.\n",
    "We connect using the client below,"
   ]
  },
  {
   "cell_type": "code",
   "execution_count": 4,
   "metadata": {},
   "outputs": [
    {
     "name": "stderr",
     "output_type": "stream",
     "text": [
      "/home/hhuang/.conda/envs/tensorflow-mnist-classifier/lib/python3.7/site-packages/ipykernel/ipkernel.py:287: DeprecationWarning: `should_run_async` will not call `transform_cell` automatically in the future. Please pass the result to `transformed_cell` argument and any exception that happen during thetransform in `preprocessing_exc_tuple` in IPython 7.17 and above.\n",
      "  and should_run_async(code)\n"
     ]
    }
   ],
   "source": [
    "restapi_client = utils.SecuringAIClient(address=RESTAPI_API_BASE)"
   ]
  },
  {
   "cell_type": "markdown",
   "metadata": {},
   "source": [
    "We need to register an experiment under which to collect our job runs.\n",
    "The code below checks if the relevant experiment named `howard_mnist_poison_frogs` exists.\n",
    "If it does, then it just returns info about the experiment, if it doesn't, it then registers the new experiment."
   ]
  },
  {
   "cell_type": "code",
   "execution_count": 5,
   "metadata": {},
   "outputs": [
    {
     "data": {
      "text/plain": [
       "{'experimentId': 9,\n",
       " 'lastModified': '2020-11-05T07:06:19.144936',\n",
       " 'createdOn': '2020-11-05T07:06:19.144936',\n",
       " 'name': 'howard_mnist_poison_frogs'}"
      ]
     },
     "execution_count": 5,
     "metadata": {},
     "output_type": "execute_result"
    }
   ],
   "source": [
    "response_experiment = restapi_client.get_experiment_by_name(name=EXPERIMENT_NAME)\n",
    "\n",
    "if response_experiment is None or \"Not Found\" in response_experiment.get(\"message\", []):\n",
    "    response_experiment = restapi_client.register_experiment(name=EXPERIMENT_NAME)\n",
    "\n",
    "response_experiment"
   ]
  },
  {
   "cell_type": "markdown",
   "metadata": {},
   "source": [
    "Next, we need to train our model.\n",
    "We will be using the V100 GPUs that are available on the DGX Workstation, which we can use by submitting our job to the `\"tensorflow_gpu\"` queue.\n",
    "We will train three models, a shallow network model, a LeNet-5 model, and an AlexNet model,"
   ]
  },
  {
   "cell_type": "code",
   "execution_count": 6,
   "metadata": {},
   "outputs": [
    {
     "name": "stdout",
     "output_type": "stream",
     "text": [
      "Training job for LeNet-5 neural network submitted\n",
      "\n",
      "{'createdOn': '2020-12-10T08:50:05.193374',\n",
      " 'dependsOn': None,\n",
      " 'entryPoint': 'train',\n",
      " 'entryPointKwargs': '-P batch_size=256 -P register_model=True -P '\n",
      "                     'model_architecture=le_net -P epochs=30 -P '\n",
      "                     'data_dir_train=/nfs/data/Mnist/training -P '\n",
      "                     'data_dir_test=/nfs/data/Mnist/testing',\n",
      " 'experimentId': 9,\n",
      " 'jobId': '8f039caf-2522-4264-9845-9565b31c8737',\n",
      " 'lastModified': '2020-12-10T08:50:05.193374',\n",
      " 'mlflowRunId': None,\n",
      " 'queueId': 2,\n",
      " 'status': 'queued',\n",
      " 'timeout': '1h',\n",
      " 'workflowUri': 's3://workflow/1a176f7f7c74448fbc0f473c2be2f912/workflows.tar.gz'}\n"
     ]
    }
   ],
   "source": [
    "def mlflow_run_id_is_not_known(response_fgm):\n",
    "    return response_fgm[\"mlflowRunId\"] is None and response_fgm[\"status\"] not in [\n",
    "        \"failed\",\n",
    "        \"finished\",\n",
    "    ]\n",
    "\n",
    "response_le_net_train = restapi_client.submit_job(\n",
    "    workflows_file=WORKFLOWS_TAR_GZ,\n",
    "    experiment_name=EXPERIMENT_NAME,\n",
    "    entry_point=\"train\",\n",
    "    entry_point_kwargs=\" \".join([\n",
    "        \"-P batch_size=256\",\n",
    "        \"-P register_model=True\",\n",
    "        \"-P model_architecture=le_net\",\n",
    "        \"-P epochs=30\",\n",
    "        \"-P data_dir_train=/nfs/data/Mnist/training\",\n",
    "        \"-P data_dir_test=/nfs/data/Mnist/testing\",\n",
    "    ]),\n",
    "    queue=\"tensorflow_gpu\",\n",
    "    timeout=\"1h\",\n",
    "    \n",
    ")\n",
    "\n",
    "print(\"Training job for LeNet-5 neural network submitted\")\n",
    "print(\"\")\n",
    "pprint.pprint(response_le_net_train)\n",
    "\n",
    "while mlflow_run_id_is_not_known(response_le_net_train):\n",
    "    time.sleep(1)\n",
    "    response_le_net_train = restapi_client.get_job_by_id(\n",
    "        response_le_net_train[\"jobId\"]\n",
    "    )"
   ]
  },
  {
   "cell_type": "markdown",
   "metadata": {},
   "source": [
    "# Poison Frogs: Image Selection\n",
    "### Now we will examine the test set and select a particular image we'd like to corrupt:\n",
    "\n",
    "Once the trained model is availabe from the previous run, lets run through the model to see how it behaves."
   ]
  },
  {
   "cell_type": "code",
   "execution_count": 7,
   "metadata": {},
   "outputs": [
    {
     "name": "stdout",
     "output_type": "stream",
     "text": [
      "Accessing MLflow Client Server. Downloading model files.\n",
      "{'Server': 'nginx/1.18.0 (Ubuntu)', 'Date': 'Thu, 10 Dec 2020 08:56:12 GMT', 'Content-Type': 'application/octet-stream', 'Content-Length': '14446376', 'Connection': 'keep-alive', 'Content-Disposition': 'attachment; filename=model.h5', 'Last-Modified': 'Thu, 10 Dec 2020 08:56:12 GMT', 'Cache-Control': 'public, max-age=43200', 'Expires': 'Thu, 10 Dec 2020 20:56:12 GMT', 'ETag': '\"1607590572.2842283-14446376-4154133791\"'}\n"
     ]
    },
    {
     "name": "stderr",
     "output_type": "stream",
     "text": [
      "/home/hhuang/.conda/envs/tensorflow-mnist-classifier/lib/python3.7/site-packages/tensorflow_core/python/framework/tensor_util.py:523: DeprecationWarning: tostring() is deprecated. Use tobytes() instead.\n",
      "  tensor_proto.tensor_content = nparray.tostring()\n",
      "/home/hhuang/.conda/envs/tensorflow-mnist-classifier/lib/python3.7/site-packages/tensorflow_core/python/training/tracking/data_structures.py:720: DeprecationWarning: Using or importing the ABCs from 'collections' instead of from 'collections.abc' is deprecated since Python 3.3,and in 3.9 it will stop working\n",
      "  if not isinstance(wrapped_dict, collections.Mapping):\n",
      "/home/hhuang/.conda/envs/tensorflow-mnist-classifier/lib/python3.7/site-packages/tensorflow_core/python/framework/indexed_slices.py:348: DeprecationWarning: Using or importing the ABCs from 'collections' instead of from 'collections.abc' is deprecated since Python 3.3,and in 3.9 it will stop working\n",
      "  if not isinstance(values, collections.Sequence):\n"
     ]
    }
   ],
   "source": [
    "# Model download:\n",
    "import requests\n",
    "import os\n",
    "import tensorflow as tf\n",
    "\n",
    "def load_model_from_job_run(run_id, model_dir):\n",
    "    params = {\"path\":\"model/data/model.h5\", \"run_uuid\": run_id}\n",
    "    r = requests.get('http://localhost:35000/get-artifact', params=params)\n",
    "    print(\"Accessing MLflow Client Server. Downloading model files.\")\n",
    "    print(r.headers)\n",
    "    model_path = os.path.join(model_dir, 'model.h5')\n",
    "    \n",
    "    if not os.path.exists(model_dir):\n",
    "        os.makedirs(model_dir)\n",
    "        \n",
    "    with open(model_path, \"wb+\") as f:\n",
    "        f.write(r.content)\n",
    "    \n",
    "    return tf.keras.models.load_model(model_path)\n",
    "\n",
    "def load_images_from_job_run(run_id, image_dir):\n",
    "    params = {\"path\":\"adversarial_poison.tar.gz\", \"run_uuid\": run_id}\n",
    "    r = requests.get('http://localhost:35000/get-artifact', params=params)\n",
    "    print(\"Accessing MLflow Client Server. Downloading image files.\")\n",
    "    print(r.headers)\n",
    "    zip_path = os.path.join(image_dir, 'adversarial_poison.tar.gz')\n",
    "    \n",
    "    if not os.path.exists(image_dir):\n",
    "        os.makedirs(image_dir)\n",
    "        \n",
    "    with open(zip_path, \"wb+\") as f:\n",
    "        f.write(r.content)\n",
    "    \n",
    "    with tarfile.open(zip_path, \"r:gz\") as f:\n",
    "        f.extractall(path=image_dir)\n",
    "    \n",
    "\n",
    "while response_le_net_train['status'] != \"finished\":\n",
    "    time.sleep(1)\n",
    "    response_le_net_train = restapi_client.get_job_by_id(\n",
    "        response_le_net_train[\"jobId\"]\n",
    "    )    \n",
    "    \n",
    "original_model = load_model_from_job_run(response_le_net_train['mlflowRunId'], './original_model')"
   ]
  },
  {
   "cell_type": "code",
   "execution_count": 8,
   "metadata": {},
   "outputs": [
    {
     "name": "stderr",
     "output_type": "stream",
     "text": [
      "/home/hhuang/.conda/envs/tensorflow-mnist-classifier/lib/python3.7/site-packages/ipykernel/ipkernel.py:287: DeprecationWarning: `should_run_async` will not call `transform_cell` automatically in the future. Please pass the result to `transformed_cell` argument and any exception that happen during thetransform in `preprocessing_exc_tuple` in IPython 7.17 and above.\n",
      "  and should_run_async(code)\n"
     ]
    }
   ],
   "source": [
    "from os import listdir\n",
    "from os.path import isfile, join\n",
    "import random\n",
    "\n",
    "image_list = []\n",
    "for path, subdirs, files in os.walk(\"/nfs/1/datasets/Mnist/testing\"):\n",
    "    for name in files:\n",
    "        image_list.append(os.path.join(path, name))\n"
   ]
  },
  {
   "cell_type": "markdown",
   "metadata": {},
   "source": [
    "### Here we will randomly parse through images of interest and select a target image for attack.\n",
    "\n",
    "The code below will pull an image from the MNIST test set, and run it through the trained mode.\n",
    "\n",
    "For this demo, we'd like to start with an image that the model predicts correctly.\n",
    "\n",
    "Rerun the the cell below until an image of interest is selected. Then proceed to the rest of the demo."
   ]
  },
  {
   "cell_type": "code",
   "execution_count": 9,
   "metadata": {},
   "outputs": [
    {
     "name": "stderr",
     "output_type": "stream",
     "text": [
      "/home/hhuang/.conda/envs/tensorflow-mnist-classifier/lib/python3.7/site-packages/tensorflow_core/python/framework/tensor_util.py:523: DeprecationWarning: tostring() is deprecated. Use tobytes() instead.\n",
      "  tensor_proto.tensor_content = nparray.tostring()\n"
     ]
    },
    {
     "name": "stdout",
     "output_type": "stream",
     "text": [
      "Image label: 6\n",
      "Predicted label: 6\n",
      "Filename: 00156.png\n"
     ]
    },
    {
     "data": {
      "image/png": "[encoded data removed]",
      "text/plain": [
       "<Figure size 432x288 with 1 Axes>"
      ]
     },
     "metadata": {
      "needs_background": "light"
     },
     "output_type": "display_data"
    }
   ],
   "source": [
    "random_file = random.choice(image_list)\n",
    "(label,filename) = random_file.split('/')[-2:]\n",
    "#label = 9\n",
    "#random_file = \"/nfs/1/datasets/Mnist/testing/9/01045.png\"\n",
    "# load and show an image with Pillow\n",
    "from PIL import Image\n",
    "import tensorflow as tf\n",
    "# Open the image form working directory\n",
    "image = Image.open(random_file)\n",
    "# summarize some details about the image\n",
    "print(\"Image label: \" + str(label) )\n",
    "print(\"Predicted label: \" + str(np.argmax(original_model.predict(np.reshape(image, (1,28,28,1))), axis=1)[0]))\n",
    "print(\"Filename: \" + filename)\n",
    "# show the image\n",
    "image = np.asarray(image)\n",
    "\n",
    "# display the array of pixels as an image\n",
    "import matplotlib.pyplot as plt\n",
    "# plot the sample\n",
    "fig = plt.figure\n",
    "plt.imshow(image, cmap='gray')\n",
    "plt.show()"
   ]
  },
  {
   "cell_type": "code",
   "execution_count": 10,
   "metadata": {},
   "outputs": [
    {
     "name": "stdout",
     "output_type": "stream",
     "text": [
      "Current target label: 4\n"
     ]
    },
    {
     "name": "stderr",
     "output_type": "stream",
     "text": [
      "/home/hhuang/.conda/envs/tensorflow-mnist-classifier/lib/python3.7/site-packages/ipykernel/ipkernel.py:287: DeprecationWarning: `should_run_async` will not call `transform_cell` automatically in the future. Please pass the result to `transformed_cell` argument and any exception that happen during thetransform in `preprocessing_exc_tuple` in IPython 7.17 and above.\n",
      "  and should_run_async(code)\n"
     ]
    }
   ],
   "source": [
    "# Set target image to propogate into clean label images from another class\n",
    "target_file = filename #\"01045.png\" #\"07996.png\" #filename\n",
    "original_label = label #9 #5 #label\n",
    "\n",
    "# Set target label here, this will be the new label that the target image will be reclassified as.\n",
    "# If the target label matches original label, a new random label will be selected.\n",
    "target_label = 6\n",
    "while(target_label == int(label)):\n",
    "    target_label = np.random.randint(0,10)\n",
    "print(f\"Current target label: {target_label}\")"
   ]
  },
  {
   "cell_type": "markdown",
   "metadata": {},
   "source": [
    "### Generating and Deploying Poisoned Images."
   ]
  },
  {
   "cell_type": "markdown",
   "metadata": {},
   "source": [
    "Now we will create our set of poisoned images and examine them visually.\n",
    "\n",
    "Start by submitting the poison generation job below."
   ]
  },
  {
   "cell_type": "code",
   "execution_count": 11,
   "metadata": {},
   "outputs": [
    {
     "name": "stdout",
     "output_type": "stream",
     "text": [
      "Poison attack (LeNet-5 architecture) job submitted\n",
      "\n",
      "{'createdOn': '2020-12-10T08:56:14.642448',\n",
      " 'dependsOn': '8f039caf-2522-4264-9845-9565b31c8737',\n",
      " 'entryPoint': 'gen_poison',\n",
      " 'entryPointKwargs': '-P model=howard_mnist_poison_frogs_le_net/1 -P '\n",
      "                     'model_architecture=le_net -P '\n",
      "                     'data_dir=/nfs/data/Mnist/training -P '\n",
      "                     'target_image_path=/nfs/data/Mnist/testing/6/00156.png -P '\n",
      "                     'target_class=4 -P feature_layer_index=-1 -P max_iter=100 '\n",
      "                     '-P similarity_coeff=512 -P watermark=0.30 -P '\n",
      "                     'batch_size=100 -P num_poisoned_batches=5',\n",
      " 'experimentId': 9,\n",
      " 'jobId': 'ef02ff4a-6e9f-44f0-a33e-7779bb0bfc56',\n",
      " 'lastModified': '2020-12-10T08:56:14.642448',\n",
      " 'mlflowRunId': None,\n",
      " 'queueId': 2,\n",
      " 'status': 'queued',\n",
      " 'timeout': '24h',\n",
      " 'workflowUri': 's3://workflow/c8d8e665e9ff43c09784d8596041fa1c/workflows.tar.gz'}\n",
      "\n"
     ]
    }
   ],
   "source": [
    "## Create poisoned images.\n",
    "response_gen_poison_le_net = restapi_client.submit_job(\n",
    "    workflows_file=WORKFLOWS_TAR_GZ,\n",
    "    experiment_name=EXPERIMENT_NAME,\n",
    "    entry_point=\"gen_poison\",\n",
    "    entry_point_kwargs=\" \".join(\n",
    "        [\n",
    "            f\"-P model={EXPERIMENT_NAME}_le_net/1\",\n",
    "            \"-P model_architecture=le_net\",\n",
    "            \"-P data_dir=/nfs/data/Mnist/training\",\n",
    "            f\"-P target_image_path=/nfs/data/Mnist/testing/{original_label}/{target_file}\",\n",
    "            f\"-P target_class={target_label}\",\n",
    "            \"-P feature_layer_index=-1\",\n",
    "            \"-P max_iter=100\",\n",
    "            \"-P similarity_coeff=512\",\n",
    "            \"-P watermark=0.30\", #.30\",\n",
    "            \"-P batch_size=100\",\n",
    "            \"-P num_poisoned_batches=5\"\n",
    "            \n",
    "        ]\n",
    "    ),\n",
    "    queue=\"tensorflow_gpu\",\n",
    "    depends_on=response_le_net_train[\"jobId\"],\n",
    ")\n",
    "\n",
    "print(\"Poison attack (LeNet-5 architecture) job submitted\")\n",
    "print(\"\")\n",
    "pprint.pprint(response_gen_poison_le_net)\n",
    "print(\"\")\n",
    "\n",
    "while mlflow_run_id_is_not_known(response_gen_poison_le_net):\n",
    "    time.sleep(1)\n",
    "    response_gen_poison_le_net = restapi_client.get_job_by_id(response_gen_poison_le_net[\"jobId\"])"
   ]
  },
  {
   "cell_type": "markdown",
   "metadata": {},
   "source": [
    "This will create a set of poisoned images that we can insert into the MNIST training set.\n",
    "\n",
    "To see if the images can past inspection, we will now examine the image similarity metrics generated from our job and some sample images from the test set.\n"
   ]
  },
  {
   "cell_type": "code",
   "execution_count": 12,
   "metadata": {},
   "outputs": [
    {
     "name": "stdout",
     "output_type": "stream",
     "text": [
      "{'cosine_similarity_iqr': 0.09032250940799713,\n",
      " 'cosine_similarity_max': 0.9408192038536072,\n",
      " 'cosine_similarity_mean': 0.7302829027175903,\n",
      " 'cosine_similarity_median': 0.7283405065536499,\n",
      " 'cosine_similarity_min': 0.550428032875061,\n",
      " 'cosine_similarity_stdev': 0.06658634543418884,\n",
      " 'euclidean_distance_iqr': 1.0064349174499512,\n",
      " 'euclidean_distance_max': 10.349806785583496,\n",
      " 'euclidean_distance_mean': 8.867987632751465,\n",
      " 'euclidean_distance_median': 8.979292869567871,\n",
      " 'euclidean_distance_min': 5.146545886993408,\n",
      " 'euclidean_distance_stdev': 0.7519574165344238,\n",
      " 'l_infinity_norm_iqr': 0.0,\n",
      " 'l_infinity_norm_max': 1.0,\n",
      " 'l_infinity_norm_mean': 1.0,\n",
      " 'l_infinity_norm_median': 1.0,\n",
      " 'l_infinity_norm_min': 1.0,\n",
      " 'l_infinity_norm_stdev': 0.0,\n",
      " 'manhattan_distance_iqr': 17.207843780517578,\n",
      " 'manhattan_distance_max': 111.79904174804688,\n",
      " 'manhattan_distance_mean': 85.17089080810547,\n",
      " 'manhattan_distance_median': 86.82940673828125,\n",
      " 'manhattan_distance_min': 32.1607780456543,\n",
      " 'manhattan_distance_stdev': 12.647686958312988,\n",
      " 'wasserstein_distance_iqr': 0.021948780863883216,\n",
      " 'wasserstein_distance_max': 0.14259849254360274,\n",
      " 'wasserstein_distance_mean': 0.10863626365394127,\n",
      " 'wasserstein_distance_median': 0.1107517972681196,\n",
      " 'wasserstein_distance_min': 0.0410214011089363,\n",
      " 'wasserstein_distance_stdev': 0.016132325952342524}\n"
     ]
    }
   ],
   "source": [
    "# Wait for Poison attack to finish.\n",
    "while response_gen_poison_le_net['status'] != \"finished\":\n",
    "    time.sleep(1)\n",
    "    response_gen_poison_le_net = restapi_client.get_job_by_id(\n",
    "        response_gen_poison_le_net[\"jobId\"]\n",
    "    )   \n",
    "\n",
    "mlflow_client = MlflowClient()\n",
    "run_id = response_gen_poison_le_net[\"mlflowRunId\"]\n",
    "view_run_le_net = mlflow_client.get_run(run_id)\n",
    "pprint.pprint(view_run_le_net.data.metrics)"
   ]
  },
  {
   "cell_type": "markdown",
   "metadata": {},
   "source": [
    "### We will also visually inspect the changes made to each poisoned image from its original counterpart:"
   ]
  },
  {
   "cell_type": "code",
   "execution_count": 13,
   "metadata": {},
   "outputs": [
    {
     "name": "stdout",
     "output_type": "stream",
     "text": [
      "Accessing MLflow Client Server. Downloading image files.\n",
      "{'Server': 'nginx/1.18.0 (Ubuntu)', 'Date': 'Thu, 10 Dec 2020 08:56:37 GMT', 'Content-Type': 'application/x-tar', 'Content-Length': '113639', 'Connection': 'keep-alive', 'Content-Disposition': 'attachment; filename=adversarial_poison.tar.gz', 'Last-Modified': 'Thu, 10 Dec 2020 08:56:37 GMT', 'Cache-Control': 'public, max-age=43200', 'Expires': 'Thu, 10 Dec 2020 20:56:37 GMT', 'ETag': '\"1607590597.1239283-113639-1381634050\"'}\n",
      "0\n"
     ]
    }
   ],
   "source": [
    "\n",
    "load_images_from_job_run(run_id, \"./poisoned_images\")\n",
    "\n",
    "def get_target_class_name(poison_dir):\n",
    "    for item in os.listdir(poison_dir):\n",
    "        if os.path.isdir(poison_dir +\"/\"+ item):\n",
    "            return item\n",
    "    return \"None\"\n",
    "print(get_target_class_name(\"./poisoned_images/adv_poison_data\"))"
   ]
  },
  {
   "cell_type": "code",
   "execution_count": 14,
   "metadata": {},
   "outputs": [
    {
     "data": {
      "image/png": "[encoded data removed]",
      "text/plain": [
       "<Figure size 432x288 with 1 Axes>"
      ]
     },
     "metadata": {
      "needs_background": "light"
     },
     "output_type": "display_data"
    },
    {
     "name": "stdout",
     "output_type": "stream",
     "text": [
      "Model prediction: 6\n"
     ]
    },
    {
     "name": "stderr",
     "output_type": "stream",
     "text": [
      "/home/hhuang/.conda/envs/tensorflow-mnist-classifier/lib/python3.7/site-packages/tensorflow_core/python/framework/tensor_util.py:523: DeprecationWarning: tostring() is deprecated. Use tobytes() instead.\n",
      "  tensor_proto.tensor_content = nparray.tostring()\n"
     ]
    },
    {
     "data": {
      "image/png": "[encoded data removed]",
      "text/plain": [
       "<Figure size 432x288 with 1 Axes>"
      ]
     },
     "metadata": {
      "needs_background": "light"
     },
     "output_type": "display_data"
    },
    {
     "name": "stdout",
     "output_type": "stream",
     "text": [
      "Model prediction: 4\n"
     ]
    },
    {
     "data": {
      "image/png": "[encoded data removed]",
      "text/plain": [
       "<Figure size 432x288 with 1 Axes>"
      ]
     },
     "metadata": {
      "needs_background": "light"
     },
     "output_type": "display_data"
    },
    {
     "name": "stdout",
     "output_type": "stream",
     "text": [
      "Model prediction: 6\n"
     ]
    }
   ],
   "source": [
    "def check_image(image_path, descriptor):\n",
    "    image = Image.open(image_path)\n",
    "    image = np.asarray(image)\n",
    "        # plot the sample\n",
    "    fig = plt.figure\n",
    "    plt.title(descriptor)\n",
    "    plt.imshow(image, cmap='gray')\n",
    "    plt.show()\n",
    "    return image\n",
    "\n",
    "def compare_image_sets(original_model, src_image_dir, corrupt_image_dir):\n",
    "    corrupt_image_list = [os.path.join(corrupt_image_dir, f) for f in os.listdir(corrupt_image_dir) if os.path.isfile(os.path.join(corrupt_image_dir, f))]\n",
    "    \n",
    "    corrupt_image = np.random.choice(corrupt_image_list,1)[0]\n",
    "\n",
    "    original_image = os.path.join(src_image_dir, corrupt_image.split('_')[-1])\n",
    "    \n",
    "    target_image =  f\"/nfs/1/datasets/Mnist/testing/{original_label}/{target_file}\"\n",
    "    \n",
    "    image = check_image(target_image, \"Target Test Image\")\n",
    "    print(\"Model prediction: \" + str(np.argmax(original_model.predict(np.reshape(image, (1,28,28,1))), axis=1)[0]))\n",
    "    image = check_image(original_image, \"Original Training Image\")\n",
    "    print(\"Model prediction: \" + str(np.argmax(original_model.predict(np.reshape(image, (1,28,28,1))), axis=1)[0]))\n",
    "    image = check_image(corrupt_image, \"Corrupted Training Image\")\n",
    "    print(\"Model prediction: \" + str(np.argmax(original_model.predict(np.reshape(image, (1,28,28,1))), axis=1)[0]))\n",
    "\n",
    "src  = f\"/nfs/1/datasets/Mnist/training/{target_label}\"\n",
    "corr_src = f\"./poisoned_images/adv_poison_data/{target_label}\"\n",
    "compare_image_sets(original_model,src, corr_src)\n",
    "    "
   ]
  },
  {
   "cell_type": "markdown",
   "metadata": {},
   "source": [
    "Now we will deploy the poisoned images into the original target dataset for training."
   ]
  },
  {
   "cell_type": "code",
   "execution_count": 15,
   "metadata": {},
   "outputs": [
    {
     "name": "stdout",
     "output_type": "stream",
     "text": [
      "Poison deployment (LeNet-5 architecture) job submitted\n",
      "\n",
      "{'createdOn': '2020-12-10T08:56:37.816544',\n",
      " 'dependsOn': 'ef02ff4a-6e9f-44f0-a33e-7779bb0bfc56',\n",
      " 'entryPoint': 'deploy_poison',\n",
      " 'entryPointKwargs': '-P run_id=22aa6177f1b2401589af89fb0d85aba2 -P '\n",
      "                     'data_dir=/nfs/data/Mnist/training -P '\n",
      "                     'poison_deployment_method=replace',\n",
      " 'experimentId': 9,\n",
      " 'jobId': '0dbb955a-27d5-4aeb-8d72-b1c7ee0d1f42',\n",
      " 'lastModified': '2020-12-10T08:56:37.816544',\n",
      " 'mlflowRunId': None,\n",
      " 'queueId': 1,\n",
      " 'status': 'queued',\n",
      " 'timeout': '24h',\n",
      " 'workflowUri': 's3://workflow/ab119579515e4704bc980c8954bb3822/workflows.tar.gz'}\n",
      "\n"
     ]
    }
   ],
   "source": [
    "response_deploy_poison_le_net = restapi_client.submit_job(\n",
    "    workflows_file=WORKFLOWS_TAR_GZ,\n",
    "    experiment_name=EXPERIMENT_NAME,\n",
    "    entry_point=\"deploy_poison\",\n",
    "    entry_point_kwargs=\" \".join(\n",
    "        [\n",
    "            f\"-P run_id={response_gen_poison_le_net['mlflowRunId']}\",\n",
    "            \"-P data_dir=/nfs/data/Mnist/training\",\n",
    "            \"-P poison_deployment_method=replace\",\n",
    "            #\"-P num_poisoned_images=100\",\n",
    "        ]\n",
    "    ),\n",
    "    queue=\"tensorflow_cpu\",\n",
    "    depends_on=response_gen_poison_le_net[\"jobId\"],\n",
    ")\n",
    "\n",
    "\n",
    "print(\"Poison deployment (LeNet-5 architecture) job submitted\")\n",
    "print(\"\")\n",
    "pprint.pprint(response_deploy_poison_le_net)\n",
    "print(\"\")\n",
    "\n",
    "while mlflow_run_id_is_not_known(response_deploy_poison_le_net):\n",
    "    time.sleep(1)\n",
    "    response_deploy_poison_le_net = restapi_client.get_job_by_id(response_deploy_poison_le_net[\"jobId\"])"
   ]
  },
  {
   "cell_type": "markdown",
   "metadata": {},
   "source": [
    "### Finally, train and retest poisoned dataset."
   ]
  },
  {
   "cell_type": "code",
   "execution_count": 16,
   "metadata": {},
   "outputs": [
    {
     "name": "stdout",
     "output_type": "stream",
     "text": [
      "Poisoned training (LeNet-5 architecture) job submitted\n",
      "\n",
      "{'createdOn': '2020-12-10T08:56:41.930147',\n",
      " 'dependsOn': '0dbb955a-27d5-4aeb-8d72-b1c7ee0d1f42',\n",
      " 'entryPoint': 'train',\n",
      " 'entryPointKwargs': '-P testing_dataset_run_id=None -P '\n",
      "                     'training_dataset_run_id=ec960ca901514d6b940b98a36ee9ac31 '\n",
      "                     '-P batch_size=256 -P register_model=True -P '\n",
      "                     'model_architecture=le_net -P '\n",
      "                     'model_tag=poisoned_runID_ec960ca901514d6b940b98a36ee9ac31 '\n",
      "                     '-P epochs=30 -P data_dir_train=/nfs/data/ -P '\n",
      "                     'data_dir_test=/nfs/data/Mnist/testing -P '\n",
      "                     'load_dataset_from_mlruns=True',\n",
      " 'experimentId': 9,\n",
      " 'jobId': '1c35982c-45da-46cc-8c7e-3bbffe54f611',\n",
      " 'lastModified': '2020-12-10T08:56:41.930147',\n",
      " 'mlflowRunId': None,\n",
      " 'queueId': 2,\n",
      " 'status': 'queued',\n",
      " 'timeout': '24h',\n",
      " 'workflowUri': 's3://workflow/6cb5fe21c9df45d1b7cc3b6bb6f052b7/workflows.tar.gz'}\n",
      "\n"
     ]
    }
   ],
   "source": [
    "response_le_net_poison_mnist_training = restapi_client.submit_job(\n",
    "    workflows_file=WORKFLOWS_TAR_GZ,\n",
    "    experiment_name=EXPERIMENT_NAME,\n",
    "    entry_point=\"train\",\n",
    "    entry_point_kwargs=\" \".join(\n",
    "        [\n",
    "            f\"-P training_dataset_run_id={response_deploy_poison_le_net['mlflowRunId']}\",\n",
    "            \"-P batch_size=256\",\n",
    "            \"-P register_model=True\",\n",
    "            \"-P model_architecture=le_net\",\n",
    "            f\"-P model_tag=poisoned_runID_{response_deploy_poison_le_net['mlflowRunId']}\",\n",
    "            \"-P epochs=30\",\n",
    "            \"-P data_dir_train=/nfs/data/\",\n",
    "            \"-P data_dir_test=/nfs/data/Mnist/testing\",\n",
    "            \"-P load_dataset_from_mlruns=True\",\n",
    "\n",
    "        ]\n",
    "    ),\n",
    "    \n",
    "    queue=\"tensorflow_gpu\",\n",
    "    depends_on=response_deploy_poison_le_net[\"jobId\"],\n",
    ")\n",
    "\n",
    "\n",
    "print(\"Poisoned training (LeNet-5 architecture) job submitted\")\n",
    "print(\"\")\n",
    "pprint.pprint(response_le_net_poison_mnist_training)\n",
    "print(\"\")\n",
    "\n",
    "# Wait for poisoned training to finish.\n",
    "while (response_le_net_poison_mnist_training['status'] != 'finished'):\n",
    "    time.sleep(1)\n",
    "    response_le_net_poison_mnist_training = restapi_client.get_job_by_id(response_le_net_poison_mnist_training[\"jobId\"])"
   ]
  },
  {
   "cell_type": "markdown",
   "metadata": {},
   "source": [
    "### Let's check if the attack worked, the target image should be reclassified as beloning to the new target class."
   ]
  },
  {
   "cell_type": "code",
   "execution_count": 17,
   "metadata": {},
   "outputs": [
    {
     "name": "stdout",
     "output_type": "stream",
     "text": [
      "Accessing MLflow Client Server. Downloading model files.\n",
      "{'Server': 'nginx/1.18.0 (Ubuntu)', 'Date': 'Thu, 10 Dec 2020 09:00:22 GMT', 'Content-Type': 'application/octet-stream', 'Content-Length': '14446376', 'Connection': 'keep-alive', 'Content-Disposition': 'attachment; filename=model.h5', 'Last-Modified': 'Thu, 10 Dec 2020 09:00:22 GMT', 'Cache-Control': 'public, max-age=43200', 'Expires': 'Thu, 10 Dec 2020 21:00:22 GMT', 'ETag': '\"1607590822.5492136-14446376-4137225496\"'}\n"
     ]
    }
   ],
   "source": [
    "corrupt_model = load_model_from_job_run(response_le_net_poison_mnist_training['mlflowRunId'], './test_dir')"
   ]
  },
  {
   "cell_type": "code",
   "execution_count": 18,
   "metadata": {},
   "outputs": [
    {
     "name": "stderr",
     "output_type": "stream",
     "text": [
      "/home/hhuang/.conda/envs/tensorflow-mnist-classifier/lib/python3.7/site-packages/ipykernel/ipkernel.py:287: DeprecationWarning: `should_run_async` will not call `transform_cell` automatically in the future. Please pass the result to `transformed_cell` argument and any exception that happen during thetransform in `preprocessing_exc_tuple` in IPython 7.17 and above.\n",
      "  and should_run_async(code)\n",
      "/home/hhuang/.conda/envs/tensorflow-mnist-classifier/lib/python3.7/site-packages/tensorflow_core/python/framework/tensor_util.py:523: DeprecationWarning: tostring() is deprecated. Use tobytes() instead.\n",
      "  tensor_proto.tensor_content = nparray.tostring()\n"
     ]
    },
    {
     "name": "stdout",
     "output_type": "stream",
     "text": [
      "Original Image label: 6\n",
      "Predicted label (original model): 6\n",
      "Predicted label (corrupted model): 6\n"
     ]
    },
    {
     "data": {
      "image/png": "[encoded data removed]",
      "text/plain": [
       "<Figure size 432x288 with 1 Axes>"
      ]
     },
     "metadata": {
      "needs_background": "light"
     },
     "output_type": "display_data"
    }
   ],
   "source": [
    "target_image = f\"/nfs/1/datasets/Mnist/testing/{original_label}/{target_file}\"\n",
    "\n",
    "# load and show an image with Pillow\n",
    "from PIL import Image\n",
    "import tensorflow as tf\n",
    "# Open the image form working directory\n",
    "image = Image.open(target_image)\n",
    "# summarize some details about the image\n",
    "print(\"Original Image label: \" + str(original_label) )\n",
    "print(\"Predicted label (original model): \" + str(np.argmax(original_model.predict(np.reshape(image, (1,28,28,1))), axis=1)[0]))\n",
    "print(\"Predicted label (corrupted model): \" + str(np.argmax(corrupt_model.predict(np.reshape(image, (1,28,28,1))), axis=1)[0]))\n",
    "image = np.asarray(image)\n",
    "\n",
    "# display the array of pixels as an image\n",
    "import matplotlib.pyplot as plt\n",
    "# plot the sample\n",
    "fig = plt.figure\n",
    "plt.imshow(image, cmap='gray')\n",
    "plt.show()"
   ]
  },
  {
   "cell_type": "code",
   "execution_count": null,
   "metadata": {},
   "outputs": [],
   "source": []
  },
  {
   "cell_type": "code",
   "execution_count": null,
   "metadata": {},
   "outputs": [],
   "source": []
  }
 ],
 "metadata": {
  "kernelspec": {
   "display_name": "Python 3",
   "language": "python",
   "name": "python3"
  },
  "language_info": {
   "codemirror_mode": {
    "name": "ipython",
    "version": 3
   },
   "file_extension": ".py",
   "mimetype": "text/x-python",
   "name": "python",
   "nbconvert_exporter": "python",
   "pygments_lexer": "ipython3",
   "version": "3.7.7"
  }
 },
 "nbformat": 4,
 "nbformat_minor": 4
}
