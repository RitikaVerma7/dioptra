{
 "cells": [
  {
   "cell_type": "markdown",
   "metadata": {},
   "source": [
    "# Tensorflow MNIST Pixel Threshold demo"
   ]
  },
  {
   "cell_type": "markdown",
   "metadata": {},
   "source": [
    "## Setup"
   ]
  },
  {
   "cell_type": "markdown",
   "metadata": {},
   "source": [
    "Below we import the necessary Python modules and ensure the proper environment variables are set so that all the code blocks will work as expected,"
   ]
  },
  {
   "cell_type": "code",
   "execution_count": null,
   "metadata": {},
   "outputs": [],
   "source": [
    "# Import packages from the Python standard library\n",
    "import os\n",
    "import pprint\n",
    "import time\n",
    "import warnings\n",
    "from pathlib import Path\n",
    "from typing import Tuple\n",
    "\n",
    "# Filter out warning messages\n",
    "warnings.filterwarnings(\"ignore\")\n",
    "\n",
    "# Default address for accessing the RESTful API service\n",
    "RESTAPI_ADDRESS = \"http://localhost:30080\"\n",
    "\n",
    "# Base API address\n",
    "RESTAPI_API_BASE = f\"{RESTAPI_ADDRESS}/api\"\n",
    "\n",
    "# Default address for accessing the MLFlow Tracking server\n",
    "MLFLOW_TRACKING_URI = \"http://localhost:35000\"\n",
    "\n",
    "# Path to workflows archive\n",
    "WORKFLOWS_TAR_GZ = Path(\"workflows.tar.gz\")\n",
    "\n",
    "# Set MLFLOW_TRACKING_URI variable, used to connect to MLFlow Tracking service\n",
    "if os.getenv(\"MLFLOW_TRACKING_URI\") is None:\n",
    "    os.environ[\"MLFLOW_TRACKING_URI\"] = MLFLOW_TRACKING_URI\n",
    "\n",
    "# Import third-party Python packages\n",
    "import numpy as np\n",
    "import requests\n",
    "from mlflow.tracking import MlflowClient\n",
    "\n",
    "# Import utils.py file\n",
    "import utils\n",
    "\n",
    "# Create random number generator\n",
    "rng = np.random.default_rng(54399264723942495723666216079516778448)"
   ]
  },
  {
   "cell_type": "markdown",
   "metadata": {},
   "source": [
    "Check that the Makefile works in your environment by executing the `bash` code block below,"
   ]
  },
  {
   "cell_type": "code",
   "execution_count": null,
   "metadata": {},
   "outputs": [],
   "source": [
    "%%bash\n",
    "\n",
    "# Running this will just list the available rules defined in the demo's Makefile.\n",
    "make"
   ]
  },
  {
   "cell_type": "markdown",
   "metadata": {},
   "source": [
    "This demo has the same prerequisites as the **Tensorflow MNIST Classifier** example, so we follow the same setup pattern of downloading and organizing the MNIST dataset, followed by deploying the lab architecture microservices:"
   ]
  },
  {
   "cell_type": "code",
   "execution_count": null,
   "metadata": {},
   "outputs": [],
   "source": [
    "%%bash\n",
    "\n",
    "# If you have already run this command, you should just see the message:\n",
    "#\n",
    "#     make: Nothing to be done for `data'.\n",
    "\n",
    "make data"
   ]
  },
  {
   "cell_type": "code",
   "execution_count": null,
   "metadata": {},
   "outputs": [],
   "source": [
    "%%bash\n",
    "\n",
    "# Deploy the lab microservices declared in docker-compose.yml\n",
    "make services"
   ]
  },
  {
   "cell_type": "markdown",
   "metadata": {},
   "source": [
    "The user is referred to the notebook in the [tensorflow-mnist-classifier](../tensorflow-mnist-classifier) example folder for additional details."
   ]
  },
  {
   "cell_type": "markdown",
   "metadata": {},
   "source": [
    "## Submit and run jobs"
   ]
  },
  {
   "cell_type": "markdown",
   "metadata": {},
   "source": [
    "Like in the **Tensorflow MNIST Classifier** example, the jobs that we will be running are implemented in the Python source files under `src/`, which will be executed using the entrypoints defined in the `MLproject` file.\n",
    "These files need to be packaged into an archive before they can be uploaded to the API as part of the job submission.\n",
    "To package the files, run `make workflows`,"
   ]
  },
  {
   "cell_type": "code",
   "execution_count": null,
   "metadata": {},
   "outputs": [],
   "source": [
    "%%bash\n",
    "\n",
    "# Create the workflows.tar.gz file\n",
    "make workflows"
   ]
  },
  {
   "cell_type": "markdown",
   "metadata": {},
   "source": [
    "To interact with the lab API, we use the client defined in the `utils.py` file,"
   ]
  },
  {
   "cell_type": "code",
   "execution_count": null,
   "metadata": {},
   "outputs": [],
   "source": [
    "restapi_client = utils.SecuringAIClient(address=RESTAPI_API_BASE)"
   ]
  },
  {
   "cell_type": "markdown",
   "metadata": {},
   "source": [
    "We also need to register an experiment under which to collect our job runs.\n",
    "We will name the experiment `\"mnist\"`.\n",
    "The code below checks if the relevant experiment named `\"mnist\"` exists.\n",
    "If it does, then it just returns info about the experiment, if it doesn't, it then registers the new experiment."
   ]
  },
  {
   "cell_type": "code",
   "execution_count": null,
   "metadata": {},
   "outputs": [],
   "source": [
    "response_experiment = restapi_client.get_experiment_by_name(name=\"mnist\")\n",
    "\n",
    "if response_experiment is None or \"Not Found\" in response_experiment.get(\"message\", []):\n",
    "    response_experiment = restapi_client.register_experiment(name=\"mnist\")\n",
    "\n",
    "response_experiment"
   ]
  },
  {
   "cell_type": "markdown",
   "metadata": {},
   "source": [
    "Next, we need to train a neural network architecture on the MNIST dataset.\n",
    "We will be using the LeNet-5 architecture for this demo.\n",
    "Depending on the specs of your computer, training the model on a CPU can take 10-20 minutes or longer to complete.\n",
    "If you are fortunate enough to have access to a dedicated GPU, then the training time will be much shorter.\n",
    "So that we do not start this code by accident, we add a guard around the code that checks whether a model is registered under the name `mnist_le_net`.\n",
    "If it doesn't then training proceeds, otherwise the code will be skipped.\n",
    "If you haven't trained the model yet, do so now,"
   ]
  },
  {
   "cell_type": "code",
   "execution_count": null,
   "metadata": {},
   "outputs": [],
   "source": [
    "registered_models = [x.name for x in MlflowClient().list_registered_models()]\n",
    "\n",
    "if \"mnist_le_net\" not in registered_models:\n",
    "    response_le_net_train = restapi_client.submit_job(\n",
    "        workflows_file=WORKFLOWS_TAR_GZ,\n",
    "        experiment_name=\"mnist\",\n",
    "        entry_point=\"train\",\n",
    "        entry_point_kwargs=\" \".join([\n",
    "            \"-P register_model=True\",\n",
    "            \"-P model_architecture=le_net\",\n",
    "        ]),\n",
    "    )\n",
    "\n",
    "    print(\"Training job for LeNet-5 neural network submitted\")\n",
    "    print(\"\")\n",
    "    pprint.pprint(response_le_net_train)"
   ]
  },
  {
   "cell_type": "markdown",
   "metadata": {},
   "source": [
    "You can monitor the status of the job by querying the endpoint using the code below, which again will not run if a trained model is already registered."
   ]
  },
  {
   "cell_type": "code",
   "execution_count": null,
   "metadata": {},
   "outputs": [],
   "source": [
    "def job_id_or_none():\n",
    "    try:\n",
    "        return response_le_net_train.get(\"jobId\")\n",
    "\n",
    "    except NameError:\n",
    "        pass\n",
    "    \n",
    "    return None\n",
    "\n",
    "\n",
    "if job_id_or_none() is not None:\n",
    "    response_le_net_train = restapi_client.get_job_by_id(\n",
    "        job_id_or_none()\n",
    "    )\n",
    "\n",
    "    pprint.pprint(response_le_net_train)"
   ]
  },
  {
   "cell_type": "markdown",
   "metadata": {},
   "source": [
    "With the LeNet-5 model properly trained, it is now time to apply the Pixel Threshold evasion attack to generate adversarial images to try and fool the classifier.\n",
    "The success of the evasion attack is then measured by applying standard machine learning metrics to the predictions made on the generated adversarial images.\n",
    "Below we declare a dependency on the training job so that we can queue up this job to start immediately after training is complete.\n",
    "The message \"Pixel Threshold attack (LeNet-5 architecture) job submitted\" will display upon successful submission."
   ]
  },
  {
   "cell_type": "code",
   "execution_count": null,
   "metadata": {},
   "outputs": [],
   "source": [
    "response_pt_le_net = restapi_client.submit_job(\n",
    "    workflows_file=WORKFLOWS_TAR_GZ,\n",
    "    experiment_name=\"mnist\",\n",
    "    entry_point=\"pt\",\n",
    "    entry_point_kwargs=\" \".join(\n",
    "        [\"-P model=mnist_le_net/1\", \"-P model_architecture=le_net\", \"-P th=1\"]\n",
    "    ),\n",
    "    depends_on=job_id_or_none(),\n",
    ")\n",
    "\n",
    "print(\"Pixel Threshold attack (LeNet-5 architecture) job submitted\")\n",
    "print(\"\")\n",
    "pprint.pprint(response_pt_le_net)\n",
    "print(\"\")"
   ]
  },
  {
   "cell_type": "markdown",
   "metadata": {},
   "source": [
    "We can poll the status of the job using the code below.\n",
    "We should see the status of the jobs shift from \"queued\" to \"started\" and eventually become \"finished\"."
   ]
  },
  {
   "cell_type": "code",
   "execution_count": null,
   "metadata": {},
   "outputs": [],
   "source": [
    "response_pt_le_net = restapi_client.get_job_by_id(\n",
    "    response_pt_le_net[\"jobId\"]\n",
    ")\n",
    "\n",
    "pprint.pprint(response_pt_le_net)"
   ]
  },
  {
   "cell_type": "markdown",
   "metadata": {},
   "source": [
    "## Cleanup"
   ]
  },
  {
   "cell_type": "markdown",
   "metadata": {},
   "source": [
    "To clean up, you simply need to shut down the services, which can be done using the following Makefile rule,"
   ]
  },
  {
   "cell_type": "code",
   "execution_count": null,
   "metadata": {},
   "outputs": [],
   "source": [
    "%%bash\n",
    "\n",
    "# Stop and remove all microservices\n",
    "make teardown"
   ]
  }
 ],
 "metadata": {
  "kernelspec": {
   "display_name": "Python 3",
   "language": "python",
   "name": "python3"
  },
  "language_info": {
   "codemirror_mode": {
    "name": "ipython",
    "version": 3
   },
   "file_extension": ".py",
   "mimetype": "text/x-python",
   "name": "python",
   "nbconvert_exporter": "python",
   "pygments_lexer": "ipython3",
   "version": "3.7.7"
  }
 },
 "nbformat": 4,
 "nbformat_minor": 4
}
