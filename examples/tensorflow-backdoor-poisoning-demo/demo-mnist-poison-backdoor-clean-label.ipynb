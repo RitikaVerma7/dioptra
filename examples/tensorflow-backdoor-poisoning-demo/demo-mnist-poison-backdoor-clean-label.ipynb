{
 "cells": [
  {
   "cell_type": "markdown",
   "metadata": {},
   "source": [
    "# Tensorflow Adversarial Embedding MNIST demo for Securing AI Lab deployment\n",
    "\n",
    "This demo will cover the adversarial clean label backdoor attack on an MNIST-LeNet model.\n",
    "\n",
    "The following two sections cover experiment setup and is similar across all demos.\n",
    "\n",
    "To access demo results in MlFlow, please follow the general experiment setup steps outlined in `basic-mlflow-demo`."
   ]
  },
  {
   "cell_type": "markdown",
   "metadata": {},
   "source": [
    "## Setup: Experiment Name and MNIST Dataset\n",
    "\n",
    "Here we will import the necessary Python modules and ensure the proper environment variables are set so that all the code blocks will work as expected.\n",
    "\n",
    "### Important: Users will need to verify or update the following parameters:\n",
    "- Ensure that the `USERNAME` parameter is set to your own name.\n",
    "- Ensure that the `DATASET_DIR` parameter is set to the location of the MNIST dataset directory. Currently set to `/nfs/data/Mnist` as the default location.\n",
    "- (Optional) Set the `EXPERIMENT_NAME` parameter to your own preferred experiment name.\n",
    "\n",
    "Other parameters can be modified to alter the RESTful API and MLFlow tracking addresses. "
   ]
  },
  {
   "cell_type": "code",
   "execution_count": 1,
   "metadata": {},
   "outputs": [],
   "source": [
    "# Import packages from the Python standard library\n",
    "import os\n",
    "import pprint\n",
    "import time\n",
    "import warnings\n",
    "from pathlib import Path\n",
    "from typing import Tuple\n",
    "import tarfile\n",
    "\n",
    "# Please enter your username here.\n",
    "USERNAME = \"howard\"\n",
    "\n",
    "# Ensure that the MNIST dataset location is properly set here.\n",
    "DATASET_DIR = \"/nfs/data/Mnist\"\n",
    "\n",
    "# Filter out warning messages\n",
    "warnings.filterwarnings(\"ignore\")\n",
    "\n",
    "# Default address for accessing the RESTful API service\n",
    "RESTAPI_ADDRESS = \"http://localhost:30080\"\n",
    "\n",
    "# Base API address\n",
    "RESTAPI_API_BASE = f\"{RESTAPI_ADDRESS}/api\"\n",
    "\n",
    "# Default address for accessing the MLFlow Tracking server\n",
    "MLFLOW_TRACKING_URI = \"http://localhost:35000\"\n",
    "\n",
    "# Path to workflows archive\n",
    "WORKFLOWS_TAR_GZ = Path(\"workflows.tar.gz\")\n",
    "\n",
    "# Experiment name (note the username_ prefix convention)\n",
    "EXPERIMENT_NAME = f\"{USERNAME}_mnist_clean_label_backdoor\"\n",
    "\n",
    "# Set MLFLOW_TRACKING_URI variable, used to connect to MLFlow Tracking service\n",
    "if os.getenv(\"MLFLOW_TRACKING_URI\") is None:\n",
    "    os.environ[\"MLFLOW_TRACKING_URI\"] = MLFLOW_TRACKING_URI\n",
    "\n",
    "# Import third-party Python packages\n",
    "import numpy as np\n",
    "import requests\n",
    "from mlflow.tracking import MlflowClient\n",
    "\n",
    "# Import utils.py file\n",
    "import utils\n",
    "\n",
    "# Create random number generator\n",
    "rng = np.random.default_rng(54399264723942495723666216079516778448)"
   ]
  },
  {
   "cell_type": "markdown",
   "metadata": {},
   "source": [
    "Check that the Makefile works in your environment by executing the `bash` code block below,"
   ]
  },
  {
   "cell_type": "code",
   "execution_count": 2,
   "metadata": {},
   "outputs": [
    {
     "name": "stdout",
     "output_type": "stream",
     "text": [
      "\u001b[1mAvailable rules:\u001b[m\n",
      "\n",
      "\u001b[36mclean              \u001b[m Remove temporary files \n",
      "\u001b[36mdata               \u001b[m Download and prepare MNIST dataset \n",
      "\u001b[36minitdb             \u001b[m Initialize the RESTful API database \n",
      "\u001b[36mservices           \u001b[m Launch the Minio S3 and MLFlow Tracking services \n",
      "\u001b[36mteardown           \u001b[m Destroy service containers \n",
      "\u001b[36mworkflows          \u001b[m Create workflows tarball \n"
     ]
    }
   ],
   "source": [
    "%%bash\n",
    "\n",
    "# Running this will just list the available rules defined in the demo's Makefile.\n",
    "make"
   ]
  },
  {
   "cell_type": "markdown",
   "metadata": {},
   "source": [
    "## Submit and run jobs"
   ]
  },
  {
   "cell_type": "markdown",
   "metadata": {},
   "source": [
    "The jobs that we will be running are implemented in the Python source files under `src/`, which will be executed using the entrypoints defined in the `MLproject` file.\n",
    "To get this information into the architecture, we need to package those files up into an archive and upload it to the lab API.\n",
    "For convenience, the `Makefile` provides a rule for creating the archive file, just run `make workflows`,"
   ]
  },
  {
   "cell_type": "code",
   "execution_count": 3,
   "metadata": {},
   "outputs": [
    {
     "name": "stdout",
     "output_type": "stream",
     "text": [
      "make: Nothing to be done for 'workflows'.\n"
     ]
    }
   ],
   "source": [
    "%%bash\n",
    "\n",
    "# Create the workflows.tar.gz file\n",
    "make workflows"
   ]
  },
  {
   "cell_type": "markdown",
   "metadata": {},
   "source": [
    "To connect with the endpoint, we will use a client class defined in the `utils.py` file that is able to connect with the lab's RESTful API using the HTTP protocol.\n",
    "We connect using the client below,"
   ]
  },
  {
   "cell_type": "code",
   "execution_count": 4,
   "metadata": {},
   "outputs": [],
   "source": [
    "restapi_client = utils.SecuringAIClient(address=RESTAPI_API_BASE)"
   ]
  },
  {
   "cell_type": "markdown",
   "metadata": {},
   "source": [
    "We need to register an experiment under which to collect our job runs.\n",
    "The code below checks if the relevant experiment exists.\n",
    "If it does, then it just returns info about the experiment, if it doesn't, it then registers the new experiment."
   ]
  },
  {
   "cell_type": "code",
   "execution_count": 5,
   "metadata": {},
   "outputs": [
    {
     "data": {
      "text/plain": [
       "{'createdOn': '2021-01-25T20:03:56.964324',\n",
       " 'experimentId': 22,\n",
       " 'lastModified': '2021-01-25T20:03:56.964324',\n",
       " 'name': 'howard_mnist_clean_label_backdoor'}"
      ]
     },
     "execution_count": 5,
     "metadata": {},
     "output_type": "execute_result"
    }
   ],
   "source": [
    "response_experiment = restapi_client.get_experiment_by_name(name=EXPERIMENT_NAME)\n",
    "\n",
    "if response_experiment is None or \"Not Found\" in response_experiment.get(\"message\", []):\n",
    "    response_experiment = restapi_client.register_experiment(name=EXPERIMENT_NAME)\n",
    "\n",
    "response_experiment"
   ]
  },
  {
   "cell_type": "code",
   "execution_count": 6,
   "metadata": {},
   "outputs": [],
   "source": [
    "# The following helper functions will recheck the job responses until the job is completed or a run ID is available. \n",
    "# The run ID is needed to link dependencies between jobs.\n",
    "def mlflow_run_id_is_not_known(job_response):\n",
    "    return job_response[\"mlflowRunId\"] is None and job_response[\"status\"] not in [\n",
    "        \"failed\",\n",
    "        \"finished\",\n",
    "    ]\n",
    "\n",
    "def get_run_id(job_response):\n",
    "    while mlflow_run_id_is_not_known(job_response):\n",
    "        time.sleep(1)\n",
    "        job_response = restapi_client.get_job_by_id(job_response[\"jobId\"])\n",
    "        \n",
    "    return job_response\n",
    "\n",
    "def wait_until_finished(job_response):\n",
    "    # First make sure job has started.\n",
    "    job_response = get_run_id(job_response)\n",
    "    \n",
    "    # Next re-check job until it has stopped running.\n",
    "    while (job_response[\"status\"] not in [\"failed\", \"finished\"]):\n",
    "        time.sleep(1)\n",
    "        job_response = restapi_client.get_job_by_id(job_response[\"jobId\"])\n",
    "    \n",
    "    return job_response\n",
    "\n",
    "# Helper function for viewing MLflow results.\n",
    "def get_mlflow_results(job_response):\n",
    "    mlflow_client = MlflowClient()\n",
    "    job_response = wait_until_finished(job_response)\n",
    "    \n",
    "    if(job_response['status']==\"failed\"):\n",
    "        return {}\n",
    "    \n",
    "    run = mlflow_client.get_run(job_response[\"mlflowRunId\"])  \n",
    "    \n",
    "    while(len(run.data.metrics) == 0):\n",
    "        time.sleep(1)\n",
    "        run = mlflow_client.get_run(job_response[\"mlflowRunId\"])\n",
    "        \n",
    "    return run\n",
    "\n",
    "def print_mlflow_results(response):\n",
    "    results = get_mlflow_results(response)\n",
    "    pprint.pprint(results.data.metrics)"
   ]
  },
  {
   "cell_type": "markdown",
   "metadata": {},
   "source": [
    "## MNIST Training: Baseline Model"
   ]
  },
  {
   "cell_type": "markdown",
   "metadata": {},
   "source": [
    "Next, we need to train our baseline model that will serve as a reference point for the effectiveness of our attacks.\n",
    "\n",
    "We will be using the V100 GPUs that are available on the DGX Workstation, which we can use by submitting our job to the `\"tensorflow_gpu\"` queue."
   ]
  },
  {
   "cell_type": "code",
   "execution_count": 7,
   "metadata": {},
   "outputs": [
    {
     "name": "stdout",
     "output_type": "stream",
     "text": [
      "Training job for LeNet-5 neural network submitted\n",
      "\n",
      "{'createdOn': '2021-02-15T08:03:26.699644',\n",
      " 'dependsOn': None,\n",
      " 'entryPoint': 'train',\n",
      " 'entryPointKwargs': '-P batch_size=256 -P register_model=True -P '\n",
      "                     'model_architecture=le_net -P epochs=30 -P '\n",
      "                     'data_dir_train=/nfs/data/Mnist/training -P '\n",
      "                     'data_dir_test=/nfs/data/Mnist/testing',\n",
      " 'experimentId': 22,\n",
      " 'jobId': '2e9eac60-c4ee-426e-83bb-da31d36b6ce3',\n",
      " 'lastModified': '2021-02-15T08:03:26.699644',\n",
      " 'mlflowRunId': None,\n",
      " 'queueId': 2,\n",
      " 'status': 'queued',\n",
      " 'timeout': '1h',\n",
      " 'workflowUri': 's3://workflow/f8652e6d193549c4a54e4c0dad600d06/workflows.tar.gz'}\n",
      "{'accuracy': 0.9827514290809631,\n",
      " 'auc': 0.9993622899055481,\n",
      " 'fn': 940.0,\n",
      " 'fp': 706.0,\n",
      " 'loss': 0.05485766302924903,\n",
      " 'precision': 0.9852208495140076,\n",
      " 'recall': 0.98041832447052,\n",
      " 'restored_epoch': 4.0,\n",
      " 'stopped_epoch': 9.0,\n",
      " 'tn': 431330.0,\n",
      " 'tp': 47064.0,\n",
      " 'training_time_in_minutes': 6.9349874,\n",
      " 'val_accuracy': 0.9864121079444885,\n",
      " 'val_auc': 0.999261736869812,\n",
      " 'val_fn': 176.0,\n",
      " 'val_fp': 145.0,\n",
      " 'val_loss': 0.04147899919684897,\n",
      " 'val_precision': 0.9878813028335571,\n",
      " 'val_recall': 0.9853284358978271,\n",
      " 'val_tn': 107819.0,\n",
      " 'val_tp': 11820.0}\n"
     ]
    }
   ],
   "source": [
    "def mlflow_run_id_is_not_known(response_fgm):\n",
    "    return response_fgm[\"mlflowRunId\"] is None and response_fgm[\"status\"] not in [\n",
    "        \"failed\",\n",
    "        \"finished\",\n",
    "    ]\n",
    "\n",
    "response_le_net_train = restapi_client.submit_job(\n",
    "    workflows_file=WORKFLOWS_TAR_GZ,\n",
    "    experiment_name=EXPERIMENT_NAME,\n",
    "    entry_point=\"train\",\n",
    "    entry_point_kwargs=\" \".join([\n",
    "        \"-P batch_size=256\",\n",
    "        \"-P register_model=True\",\n",
    "        \"-P model_architecture=le_net\",\n",
    "        \"-P epochs=30\",\n",
    "        f\"-P data_dir_train={DATASET_DIR}/training\",\n",
    "        f\"-P data_dir_test={DATASET_DIR}/testing\",\n",
    "    ]),\n",
    "    queue=\"tensorflow_gpu\",\n",
    "    timeout=\"1h\",\n",
    "    \n",
    ")\n",
    "\n",
    "print(\"Training job for LeNet-5 neural network submitted\")\n",
    "print(\"\")\n",
    "pprint.pprint(response_le_net_train)\n",
    "\n",
    "response_le_net_train = get_run_id(response_le_net_train)\n",
    "print_mlflow_results(response_le_net_train)"
   ]
  },
  {
   "cell_type": "code",
   "execution_count": null,
   "metadata": {},
   "outputs": [
    {
     "name": "stdout",
     "output_type": "stream",
     "text": [
      "Training job for LeNet-5 neural network submitted\n",
      "\n",
      "{'createdOn': '2021-02-15T08:10:54.568068',\n",
      " 'dependsOn': None,\n",
      " 'entryPoint': 'train',\n",
      " 'entryPointKwargs': '-P batch_size=256 -P register_model=True -P '\n",
      "                     'model_architecture=le_net -P model_tag=robust -P '\n",
      "                     'epochs=30 -P data_dir_train=/nfs/data/Mnist/training -P '\n",
      "                     'data_dir_test=/nfs/data/Mnist/testing -P '\n",
      "                     'apply_defense=True',\n",
      " 'experimentId': 22,\n",
      " 'jobId': '4eba9971-ada6-4c46-b879-b3c0ca6b7d89',\n",
      " 'lastModified': '2021-02-15T08:10:54.568068',\n",
      " 'mlflowRunId': None,\n",
      " 'queueId': 2,\n",
      " 'status': 'queued',\n",
      " 'timeout': '1h',\n",
      " 'workflowUri': 's3://workflow/5a989dd31797453cb29c445e83318e79/workflows.tar.gz'}\n"
     ]
    }
   ],
   "source": [
    "# Train a special model for making poisons\n",
    "\n",
    "response_le_net_train_robust = restapi_client.submit_job(\n",
    "    workflows_file=WORKFLOWS_TAR_GZ,\n",
    "    experiment_name=EXPERIMENT_NAME,\n",
    "    entry_point=\"train\",\n",
    "    entry_point_kwargs=\" \".join([\n",
    "        \"-P batch_size=256\",\n",
    "        \"-P register_model=True\",\n",
    "        \"-P model_architecture=le_net\",\n",
    "        \"-P model_tag=robust\",\n",
    "        \"-P epochs=30\",\n",
    "        f\"-P data_dir_train={DATASET_DIR}/training\",\n",
    "        f\"-P data_dir_test={DATASET_DIR}/testing\",\n",
    "        \"-P apply_defense=True\",\n",
    "    ]),\n",
    "    queue=\"tensorflow_gpu\",\n",
    "    timeout=\"1h\",\n",
    "    \n",
    ")\n",
    "\n",
    "print(\"Training job for LeNet-5 neural network submitted\")\n",
    "print(\"\")\n",
    "pprint.pprint(response_le_net_train_robust)\n",
    "\n",
    "response_le_net_train_robust = get_run_id(response_le_net_train_robust)\n",
    "print_mlflow_results(response_le_net_train_robust)"
   ]
  },
  {
   "cell_type": "markdown",
   "metadata": {},
   "source": [
    "## Generating Poisoned Images."
   ]
  },
  {
   "cell_type": "markdown",
   "metadata": {},
   "source": [
    "Now we will create our set of poisoned images.\n",
    "\n",
    "Start by submitting the poison generation job below."
   ]
  },
  {
   "cell_type": "code",
   "execution_count": null,
   "metadata": {},
   "outputs": [],
   "source": [
    "## Create poisoned test images.\n",
    "        \n",
    "response_gen_poison_le_net_test = restapi_client.submit_job(\n",
    "    workflows_file=WORKFLOWS_TAR_GZ,\n",
    "    experiment_name=EXPERIMENT_NAME,\n",
    "    entry_point=\"gen_poison_test_data\",\n",
    "    entry_point_kwargs=\" \".join(\n",
    "        [\n",
    "            \"-P model_architecture=le_net\",\n",
    "            f\"-P data_dir={DATASET_DIR}/testing\",\n",
    "            \"-P batch_size=100\",\n",
    "            \"-P target_class=1\",\n",
    "            \"-P poison_fraction=1\",\n",
    "            \"-P label_type=test\"\n",
    "            \n",
    "        ]\n",
    "    ),\n",
    "    queue=\"tensorflow_gpu\",\n",
    "    depends_on=response_le_net_train[\"jobId\"],\n",
    ")\n",
    "\n",
    "print(\"Backdoor poison attack (LeNet-5 architecture) job submitted\")\n",
    "print(\"\")\n",
    "pprint.pprint(response_gen_poison_le_net_test)\n",
    "print(\"\")\n",
    "\n",
    "response_gen_poison_le_net_test = get_run_id(response_gen_poison_le_net_test)"
   ]
  },
  {
   "cell_type": "code",
   "execution_count": null,
   "metadata": {},
   "outputs": [],
   "source": [
    "## Create poisoned training images (clean_label).\n",
    "        \n",
    "response_gen_poison_le_net_train_clean = restapi_client.submit_job(\n",
    "    workflows_file=WORKFLOWS_TAR_GZ,\n",
    "    experiment_name=EXPERIMENT_NAME,\n",
    "    entry_point=\"gen_poison_clean_data\",\n",
    "    entry_point_kwargs=\" \".join(\n",
    "        [\n",
    "             f\"-P model={EXPERIMENT_NAME}_robust_le_net/None\",\n",
    "            \"-P model_architecture=le_net\",\n",
    "            f\"-P data_dir={DATASET_DIR}/testing\",\n",
    "            \"-P batch_size=200\",\n",
    "            \"-P target_class=1\",\n",
    "            \"-P poison_fraction=0.33\",\n",
    "            \"-P label_type=train\"\n",
    "            \n",
    "        ]\n",
    "    ),\n",
    "    queue=\"tensorflow_gpu\",\n",
    "    depends_on=response_le_net_train[\"jobId\"],\n",
    ")\n",
    "\n",
    "print(\"Backdoor poison attack (LeNet-5 architecture) job submitted\")\n",
    "print(\"\")\n",
    "pprint.pprint(response_gen_poison_le_net_train_clean)\n",
    "print(\"\")\n",
    "\n",
    "response_gen_poison_le_net_train_clean = get_run_id(response_gen_poison_le_net_train_clean)"
   ]
  },
  {
   "cell_type": "markdown",
   "metadata": {},
   "source": [
    "# Generating Poisoned Model from Training Images"
   ]
  },
  {
   "cell_type": "code",
   "execution_count": null,
   "metadata": {},
   "outputs": [],
   "source": [
    "# Now train a new model on the poisoned clean label images.\n",
    "def mlflow_run_id_is_not_known(response_fgm):\n",
    "    return response_fgm[\"mlflowRunId\"] is None and response_fgm[\"status\"] not in [\n",
    "        \"failed\",\n",
    "        \"finished\",\n",
    "    ]\n",
    "\n",
    "response_le_net_train_backdoor_model_clean = restapi_client.submit_job(\n",
    "    workflows_file=WORKFLOWS_TAR_GZ,\n",
    "    experiment_name=EXPERIMENT_NAME,\n",
    "    entry_point=\"train\",\n",
    "    entry_point_kwargs=\" \".join([\n",
    "        \"-P batch_size=256\",\n",
    "        \"-P register_model=True\",\n",
    "        \"-P model_architecture=le_net\",\n",
    "        \"-P epochs=30\",\n",
    "        \"-P model_tag=data_poison\",\n",
    "        f\"-P data_dir_train={DATASET_DIR}/training\",\n",
    "        f\"-P data_dir_test={DATASET_DIR}/testing\",\n",
    "        \"-P load_dataset_from_mlruns=true\",\n",
    "        f\"-P training_dataset_run_id={response_gen_poison_le_net_train_clean['mlflowRunId']}\",\n",
    "    ]),\n",
    "    depends_on=response_gen_poison_le_net_train_clean[\"jobId\"],\n",
    "    queue=\"tensorflow_gpu\",\n",
    "    timeout=\"1h\",\n",
    "    \n",
    ")\n",
    "\n",
    "print(\"Training job for LeNet-5 neural network submitted\")\n",
    "print(\"\")\n",
    "pprint.pprint(response_le_net_train_backdoor_model_clean)\n",
    "\n",
    "response_le_net_train_backdoor_model_clean = get_run_id(response_le_net_train_backdoor_model_clean)\n",
    "print_mlflow_results(response_le_net_train_backdoor_model_clean)"
   ]
  },
  {
   "cell_type": "markdown",
   "metadata": {},
   "source": [
    "# Model Evaluation: Poisoned vs Regular Models on Backdoor-Poisoned Images.\n",
    "\n",
    "Below we will compare the results of the regular model vs poisoned-backdoor model on backdoor test images."
   ]
  },
  {
   "cell_type": "code",
   "execution_count": null,
   "metadata": {},
   "outputs": [],
   "source": [
    "# Inference: Regular model trained on poisoned backdoor attack.\n",
    "\n",
    "response_infer_pos_model_clean = restapi_client.submit_job(\n",
    "    workflows_file=WORKFLOWS_TAR_GZ,\n",
    "    experiment_name=EXPERIMENT_NAME,\n",
    "    entry_point=\"infer\",\n",
    "    entry_point_kwargs=\" \".join(\n",
    "        [\n",
    "            f\"-P run_id={response_gen_poison_le_net_test['mlflowRunId']}\",\n",
    "            f\"-P model={EXPERIMENT_NAME}_data_poison_le_net/None\",\n",
    "            \"-P batch_size=512\",\n",
    "            \"-P model_architecture=le_net\",\n",
    "            \"-P dataset_tar_name=adversarial_poison.tar.gz\",\n",
    "            \"-P dataset_name=adv_poison_data\",\n",
    "        ]\n",
    "    ),\n",
    "    queue=\"tensorflow_gpu\",\n",
    "    depends_on=response_le_net_train_backdoor_model_clean[\"jobId\"],\n",
    ")\n",
    "\n",
    "print(\"Inference job for LeNet-5 neural network submitted\")\n",
    "print(\"\")\n",
    "pprint.pprint(response_infer_pos_model_clean)\n",
    "print_mlflow_results(response_infer_pos_model_clean)"
   ]
  },
  {
   "cell_type": "code",
   "execution_count": null,
   "metadata": {},
   "outputs": [],
   "source": [
    "# Inference: Regular model on poisoned test images.\n",
    "\n",
    "response_infer_reg_model = restapi_client.submit_job(\n",
    "    workflows_file=WORKFLOWS_TAR_GZ,\n",
    "    experiment_name=EXPERIMENT_NAME,\n",
    "    entry_point=\"infer\",\n",
    "    entry_point_kwargs=\" \".join(\n",
    "        [\n",
    "            f\"-P run_id={response_gen_poison_le_net_test['mlflowRunId']}\",\n",
    "            f\"-P model={EXPERIMENT_NAME}_le_net/None\",\n",
    "            \"-P batch_size=512\",\n",
    "            \"-P model_architecture=le_net\",\n",
    "            \"-P dataset_tar_name=adversarial_poison.tar.gz\",\n",
    "            \"-P dataset_name=adv_poison_data\",\n",
    "        ]\n",
    "    ),\n",
    "    queue=\"tensorflow_gpu\",\n",
    "    depends_on=response_le_net_train[\"jobId\"],\n",
    ")\n",
    "\n",
    "print(\"Inference job for LeNet-5 neural network submitted\")\n",
    "print(\"\")\n",
    "pprint.pprint(response_infer_reg_model)\n",
    "print_mlflow_results(response_infer_reg_model)"
   ]
  },
  {
   "cell_type": "markdown",
   "metadata": {},
   "source": [
    "# Now we will explore available defenses on the adversarial backdoor poisoning attack.\n",
    "\n",
    "The following three jobs will run a selected defense (spatial smoothing, gaussian augmentation, or jpeg compression) and evaluate the defense on the baseline and backdoor trained models.\n",
    "\n",
    "- The first job uses the selected defense entrypoint to apply a preprocessing defense over the poisoned test images.\n",
    "- The second job runs the defended images against the poisoned backdoor model.\n",
    "- The final job runs the defended images against the baseline model.\n",
    "\n",
    "Ideally the defense will not impact the baseline model accuracy, while improving the backdoor model accuracy scores."
   ]
  },
  {
   "cell_type": "code",
   "execution_count": null,
   "metadata": {},
   "outputs": [],
   "source": [
    "defenses = [\"gaussian_augmentation\", \"spatial_smoothing\", \"jpeg_compression\"]\n",
    "defense = defenses[2]\n",
    "response_fgm_resnet50_attack_def = restapi_client.submit_job(\n",
    "    workflows_file=WORKFLOWS_TAR_GZ,\n",
    "    experiment_name=EXPERIMENT_NAME,\n",
    "    entry_point=defense,\n",
    "    entry_point_kwargs=\" \".join(\n",
    "        [\n",
    "            f\"-P model={EXPERIMENT_NAME}_le_net/1\",\n",
    "            \"-P model_architecture=le_net\",\n",
    "            f\"-P data_dir={DATASET_DIR}/testing\",\n",
    "            \"-P batch_size=20\",\n",
    "            \"-P load_dataset_from_mlruns=true\",\n",
    "            f\"-P dataset_run_id={response_gen_poison_le_net_test['mlflowRunId']}\",\n",
    "            \"-P dataset_tar_name=adversarial_poison.tar.gz\",\n",
    "            \"-P dataset_name=adv_poison_data\",\n",
    "            \n",
    "        ]\n",
    "    ),\n",
    "    queue=\"tensorflow_gpu\",\n",
    "    depends_on=response_gen_poison_le_net_test[\"jobId\"],\n",
    ")\n",
    "\n",
    "\n",
    "print(f\"FGM {defense} defense (LeNet architecture) job submitted\")\n",
    "print(\"\")\n",
    "pprint.pprint(response_fgm_resnet50_attack_def)\n",
    "print(\"\")\n",
    "\n",
    "response_fgm_resnet50_attack_def = get_run_id(response_fgm_resnet50_attack_def)"
   ]
  },
  {
   "cell_type": "code",
   "execution_count": null,
   "metadata": {},
   "outputs": [],
   "source": [
    "# Inference: Poisoned model on poisoned test images.\n",
    "\n",
    "response_infer_pos_model = restapi_client.submit_job(\n",
    "    workflows_file=WORKFLOWS_TAR_GZ,\n",
    "    experiment_name=EXPERIMENT_NAME,\n",
    "    entry_point=\"infer\",\n",
    "    entry_point_kwargs=\" \".join(\n",
    "        [\n",
    "            f\"-P run_id={response_fgm_resnet50_attack_def['mlflowRunId']}\",\n",
    "             f\"-P model={EXPERIMENT_NAME}_data_poison_le_net/None\",\n",
    "            \"-P batch_size=512\",\n",
    "            \"-P model_architecture=le_net\",\n",
    "            f\"-P dataset_tar_name={defense}_dataset.tar.gz\",\n",
    "            \"-P dataset_name=adv_testing\",\n",
    "        ]\n",
    "    ),\n",
    "    queue=\"tensorflow_gpu\",\n",
    "    depends_on=response_fgm_resnet50_attack_def[\"jobId\"],\n",
    ")\n",
    "\n",
    "print(\"Inference job for LeNet-5 neural network submitted\")\n",
    "print(\"\")\n",
    "pprint.pprint(response_infer_pos_model)\n",
    "print_mlflow_results(response_infer_pos_model)"
   ]
  },
  {
   "cell_type": "code",
   "execution_count": null,
   "metadata": {},
   "outputs": [],
   "source": [
    "# Inference: Regular model on poisoned test images.\n",
    "response_infer_reg_model = restapi_client.submit_job(\n",
    "    workflows_file=WORKFLOWS_TAR_GZ,\n",
    "    experiment_name=EXPERIMENT_NAME,\n",
    "    entry_point=\"infer\",\n",
    "    entry_point_kwargs=\" \".join(\n",
    "        [\n",
    "            f\"-P run_id={response_fgm_resnet50_attack_def['mlflowRunId']}\",\n",
    "            f\"-P model={EXPERIMENT_NAME}_le_net/None\",\n",
    "            \"-P batch_size=512\",\n",
    "            \"-P model_architecture=le_net\",\n",
    "            f\"-P dataset_tar_name={defense}_dataset.tar.gz\",\n",
    "            \"-P dataset_name=adv_testing\",\n",
    "        ]\n",
    "    ),\n",
    "    queue=\"tensorflow_gpu\",\n",
    "    depends_on=response_fgm_resnet50_attack_def[\"jobId\"],\n",
    ")\n",
    "\n",
    "print(\"Inference job for LeNet-5 neural network submitted\")\n",
    "print(\"\")\n",
    "pprint.pprint(response_infer_reg_model)\n",
    "print_mlflow_results(response_infer_reg_model)"
   ]
  },
  {
   "cell_type": "code",
   "execution_count": null,
   "metadata": {},
   "outputs": [],
   "source": []
  },
  {
   "cell_type": "markdown",
   "metadata": {},
   "source": [
    "<a id='querying_cell'></a>\n",
    "## Querying the MLFlow Tracking Service"
   ]
  },
  {
   "cell_type": "markdown",
   "metadata": {},
   "source": [
    "Currently the lab API can only be used to register experiments and start jobs, so if users wish to extract their results programmatically, they can use the `MlflowClient()` class from the `mlflow` Python package to connect and query their results.\n",
    "Since we captured the run ids generated by MLFlow, we can easily retrieve the data logged about one of our jobs and inspect the results.\n",
    "To start the client, we simply need to run,"
   ]
  },
  {
   "cell_type": "code",
   "execution_count": 22,
   "metadata": {},
   "outputs": [],
   "source": [
    "mlflow_client = MlflowClient()"
   ]
  },
  {
   "cell_type": "markdown",
   "metadata": {},
   "source": [
    "The client uses the environment variable `MLFLOW_TRACKING_URI` to figure out how to connect to the MLFlow Tracking Service, which we configured near the top of this notebook.\n",
    "To query the results of one of our runs, we just need to pass the run id to the client's `get_run()` method.\n",
    "As an example, let's query the run results for the patch attack applied to the LeNet-5 architecture,"
   ]
  },
  {
   "cell_type": "code",
   "execution_count": 23,
   "metadata": {},
   "outputs": [],
   "source": [
    "run_le_net = mlflow_client.get_run(response_le_net_train[\"mlflowRunId\"])"
   ]
  },
  {
   "cell_type": "markdown",
   "metadata": {},
   "source": [
    "If the request completed successfully, we should now be able to query data collected during the run.\n",
    "For example, to review the collected metrics, we just use,"
   ]
  },
  {
   "cell_type": "code",
   "execution_count": 24,
   "metadata": {},
   "outputs": [
    {
     "name": "stdout",
     "output_type": "stream",
     "text": [
      "{'accuracy': 0.9836680293083191,\n",
      " 'auc': 0.9994320869445801,\n",
      " 'fn': 901.0,\n",
      " 'fp': 666.0,\n",
      " 'loss': 0.053702861484105704,\n",
      " 'precision': 0.9860578775405884,\n",
      " 'recall': 0.9812307357788086,\n",
      " 'restored_epoch': 4.0,\n",
      " 'stopped_epoch': 9.0,\n",
      " 'tn': 431370.0,\n",
      " 'tp': 47103.0,\n",
      " 'training_time_in_minutes': 7.423224333333334,\n",
      " 'val_accuracy': 0.9872457385063171,\n",
      " 'val_auc': 0.9992121458053589,\n",
      " 'val_fn': 162.0,\n",
      " 'val_fp': 143.0,\n",
      " 'val_loss': 0.043615993835586814,\n",
      " 'val_precision': 0.988060474395752,\n",
      " 'val_recall': 0.9864954948425293,\n",
      " 'val_tn': 107821.0,\n",
      " 'val_tp': 11834.0}\n"
     ]
    }
   ],
   "source": [
    "pprint.pprint(run_le_net.data.metrics)"
   ]
  },
  {
   "cell_type": "markdown",
   "metadata": {},
   "source": [
    "To review the run's parameters, we use,"
   ]
  },
  {
   "cell_type": "code",
   "execution_count": 25,
   "metadata": {},
   "outputs": [
    {
     "name": "stdout",
     "output_type": "stream",
     "text": [
      "{'apply_defense': 'False',\n",
      " 'baseline': 'None',\n",
      " 'batch_size': '256',\n",
      " 'data_dir_test': '/nfs/data/Mnist/testing',\n",
      " 'data_dir_train': '/nfs/data/Mnist/training',\n",
      " 'dataset_name': 'adv_poison_data',\n",
      " 'dataset_seed': '491391921',\n",
      " 'dataset_tar_name': 'adversarial_poison.tar.gz',\n",
      " 'entry_point_seed': '9362298795793007086857596422728629728',\n",
      " 'epochs': '30',\n",
      " 'learning_rate': '0.001',\n",
      " 'load_dataset_from_mlruns': 'False',\n",
      " 'min_delta': '-0.01',\n",
      " 'model_architecture': 'le_net',\n",
      " 'model_tag': \"''\",\n",
      " 'monitor': 'val_loss',\n",
      " 'opt_amsgrad': 'False',\n",
      " 'opt_beta_1': '0.9',\n",
      " 'opt_beta_2': '0.999',\n",
      " 'opt_decay': '0.0',\n",
      " 'opt_epsilon': '1e-07',\n",
      " 'opt_learning_rate': '0.001',\n",
      " 'opt_name': 'Adam',\n",
      " 'optimizer': 'adam',\n",
      " 'patience': '5',\n",
      " 'register_model': 'True',\n",
      " 'restore_best_weights': 'True',\n",
      " 'seed': '-1',\n",
      " 'tensorflow_global_seed': '878021404',\n",
      " 'training_dataset_run_id': 'None',\n",
      " 'validation_split': '0.2'}\n"
     ]
    }
   ],
   "source": [
    "pprint.pprint(run_le_net.data.params)"
   ]
  },
  {
   "cell_type": "markdown",
   "metadata": {},
   "source": [
    "To review the run's tags, we use,"
   ]
  },
  {
   "cell_type": "code",
   "execution_count": 26,
   "metadata": {},
   "outputs": [
    {
     "name": "stdout",
     "output_type": "stream",
     "text": [
      "{'mlflow.log-model.history': '[{\"run_id\": \"ce1bb519957c4c62aa87fea44b86ed61\", '\n",
      "                             '\"artifact_path\": \"model\", \"utc_time_created\": '\n",
      "                             '\"2021-02-15 06:24:08.566942\", \"flavors\": '\n",
      "                             '{\"keras\": {\"keras_module\": '\n",
      "                             '\"tensorflow_core.keras\", \"keras_version\": '\n",
      "                             '\"2.2.4-tf\", \"data\": \"data\"}, \"python_function\": '\n",
      "                             '{\"loader_module\": \"mlflow.keras\", '\n",
      "                             '\"python_version\": \"3.7.9\", \"data\": \"data\", '\n",
      "                             '\"env\": \"conda.yaml\"}}}]',\n",
      " 'mlflow.project.backend': 'securingai',\n",
      " 'mlflow.project.entryPoint': 'train',\n",
      " 'mlflow.source.name': '/work/tmp5zfs9qj5',\n",
      " 'mlflow.source.type': 'PROJECT',\n",
      " 'mlflow.user': 'securingai',\n",
      " 'securingai.dependsOn': 'None',\n",
      " 'securingai.jobId': '50bcd46f-4f68-4866-9e1b-520697cebe84',\n",
      " 'securingai.queue': 'tensorflow_gpu'}\n"
     ]
    }
   ],
   "source": [
    "pprint.pprint(run_le_net.data.tags)"
   ]
  },
  {
   "cell_type": "markdown",
   "metadata": {},
   "source": [
    "There are many things you can query using the MLFlow client.\n",
    "[The MLFlow documentation gives a full overview of the methods that are available](https://www.mlflow.org/docs/latest/python_api/mlflow.tracking.html#mlflow.tracking.MlflowClient)."
   ]
  }
 ],
 "metadata": {
  "kernelspec": {
   "display_name": "Python 3",
   "language": "python",
   "name": "python3"
  },
  "language_info": {
   "codemirror_mode": {
    "name": "ipython",
    "version": 3
   },
   "file_extension": ".py",
   "mimetype": "text/x-python",
   "name": "python",
   "nbconvert_exporter": "python",
   "pygments_lexer": "ipython3",
   "version": "3.7.7"
  }
 },
 "nbformat": 4,
 "nbformat_minor": 4
}
