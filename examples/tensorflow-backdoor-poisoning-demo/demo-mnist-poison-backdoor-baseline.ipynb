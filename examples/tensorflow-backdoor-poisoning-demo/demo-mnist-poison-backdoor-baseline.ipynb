{
 "cells": [
  {
   "cell_type": "markdown",
   "metadata": {},
   "source": [
    "# Tensorflow Backdoor Poisoning MNIST Demo \n",
    "\n",
    "This demo will cover a basic backdoor poisoning attack on an MNIST-LeNet model.\n",
    "\n",
    "The following two sections cover experiment setup and is similar across all demos.\n",
    "\n",
    "To access demo results in MlFlow, please follow the general experiment setup steps outlined in `basic-mlflow-demo`."
   ]
  },
  {
   "cell_type": "markdown",
   "metadata": {},
   "source": [
    "## Setup: Experiment Name and MNIST Dataset\n",
    "\n",
    "Here we will import the necessary Python modules and ensure the proper environment variables are set so that all the code blocks will work as expected.\n",
    "\n",
    "### Important: Users will need to verify or update the following parameters:\n",
    "- Ensure that the `USERNAME` parameter is set to your own name.\n",
    "- Ensure that the `DATASET_DIR` parameter is set to the location of the MNIST dataset directory. Currently set to `/nfs/data/Mnist` as the default location.\n",
    "- (Optional) Set the `EXPERIMENT_NAME` parameter to your own preferred experiment name.\n",
    "\n",
    "Other parameters can be modified to alter the RESTful API and MLFlow tracking addresses. "
   ]
  },
  {
   "cell_type": "code",
   "execution_count": 8,
   "metadata": {},
   "outputs": [],
   "source": [
    "# Import packages from the Python standard library\n",
    "import os\n",
    "import pprint\n",
    "import time\n",
    "import warnings\n",
    "from pathlib import Path\n",
    "from typing import Tuple\n",
    "import tarfile\n",
    "\n",
    "# Please enter your username here.\n",
    "USERNAME = \"howard\"\n",
    "\n",
    "# Ensure that the MNIST dataset location is properly set here.\n",
    "DATASET_DIR = \"/nfs/data/Mnist\"\n",
    "\n",
    "# Filter out warning messages\n",
    "warnings.filterwarnings(\"ignore\")\n",
    "\n",
    "# Default address for accessing the RESTful API service\n",
    "RESTAPI_ADDRESS = \"http://localhost:30080\"\n",
    "\n",
    "# Base API address\n",
    "RESTAPI_API_BASE = f\"{RESTAPI_ADDRESS}/api\"\n",
    "\n",
    "# Default address for accessing the MLFlow Tracking server\n",
    "MLFLOW_TRACKING_URI = \"http://localhost:35000\"\n",
    "\n",
    "# Path to workflows archive\n",
    "WORKFLOWS_TAR_GZ = Path(\"workflows.tar.gz\")\n",
    "\n",
    "# Experiment name (note the username_ prefix convention)\n",
    "EXPERIMENT_NAME = f\"{USERNAME}_mnist_backdoor_poison\"\n",
    "\n",
    "# Set MLFLOW_TRACKING_URI variable, used to connect to MLFlow Tracking service\n",
    "if os.getenv(\"MLFLOW_TRACKING_URI\") is None:\n",
    "    os.environ[\"MLFLOW_TRACKING_URI\"] = MLFLOW_TRACKING_URI\n",
    "\n",
    "# Import third-party Python packages\n",
    "import numpy as np\n",
    "import requests\n",
    "from mlflow.tracking import MlflowClient\n",
    "\n",
    "# Import utils.py file\n",
    "import utils\n",
    "\n",
    "# Create random number generator\n",
    "rng = np.random.default_rng(54399264723942495723666216079516778448)"
   ]
  },
  {
   "cell_type": "markdown",
   "metadata": {},
   "source": [
    "Check that the Makefile works in your environment by executing the `bash` code block below,"
   ]
  },
  {
   "cell_type": "code",
   "execution_count": 2,
   "metadata": {},
   "outputs": [
    {
     "name": "stdout",
     "output_type": "stream",
     "text": [
      "\u001b[1mAvailable rules:\u001b[m\n",
      "\n",
      "\u001b[36mclean              \u001b[m Remove temporary files \n",
      "\u001b[36mdata               \u001b[m Download and prepare MNIST dataset \n",
      "\u001b[36minitdb             \u001b[m Initialize the RESTful API database \n",
      "\u001b[36mservices           \u001b[m Launch the Minio S3 and MLFlow Tracking services \n",
      "\u001b[36mteardown           \u001b[m Destroy service containers \n",
      "\u001b[36mworkflows          \u001b[m Create workflows tarball \n"
     ]
    }
   ],
   "source": [
    "%%bash\n",
    "\n",
    "# Running this will just list the available rules defined in the demo's Makefile.\n",
    "make"
   ]
  },
  {
   "cell_type": "markdown",
   "metadata": {},
   "source": [
    "## Submit and run jobs"
   ]
  },
  {
   "cell_type": "markdown",
   "metadata": {},
   "source": [
    "The jobs that we will be running are implemented in the Python source files under `src/`, which will be executed using the entrypoints defined in the `MLproject` file.\n",
    "To get this information into the architecture, we need to package those files up into an archive and upload it to the lab API.\n",
    "For convenience, the `Makefile` provides a rule for creating the archive file, just run `make workflows`,"
   ]
  },
  {
   "cell_type": "code",
   "execution_count": 3,
   "metadata": {},
   "outputs": [
    {
     "name": "stdout",
     "output_type": "stream",
     "text": [
      "make: Nothing to be done for 'workflows'.\n"
     ]
    }
   ],
   "source": [
    "%%bash\n",
    "\n",
    "# Create the workflows.tar.gz file\n",
    "make workflows"
   ]
  },
  {
   "cell_type": "markdown",
   "metadata": {},
   "source": [
    "To connect with the endpoint, we will use a client class defined in the `utils.py` file that is able to connect with the lab's RESTful API using the HTTP protocol.\n",
    "We connect using the client below,"
   ]
  },
  {
   "cell_type": "code",
   "execution_count": 4,
   "metadata": {},
   "outputs": [],
   "source": [
    "restapi_client = utils.SecuringAIClient(address=RESTAPI_API_BASE)"
   ]
  },
  {
   "cell_type": "markdown",
   "metadata": {},
   "source": [
    "We need to register an experiment under which to collect our job runs.\n",
    "The code below checks if the relevant experiment exists.\n",
    "If it does, then it just returns info about the experiment, if it doesn't, it then registers the new experiment."
   ]
  },
  {
   "cell_type": "code",
   "execution_count": 5,
   "metadata": {},
   "outputs": [
    {
     "data": {
      "text/plain": [
       "{'createdOn': '2021-02-11T09:13:02.448572',\n",
       " 'experimentId': 24,\n",
       " 'lastModified': '2021-02-11T09:13:02.448572',\n",
       " 'name': 'howard_mnist_backdoor_poison'}"
      ]
     },
     "execution_count": 5,
     "metadata": {},
     "output_type": "execute_result"
    }
   ],
   "source": [
    "response_experiment = restapi_client.get_experiment_by_name(name=EXPERIMENT_NAME)\n",
    "\n",
    "if response_experiment is None or \"Not Found\" in response_experiment.get(\"message\", []):\n",
    "    response_experiment = restapi_client.register_experiment(name=EXPERIMENT_NAME)\n",
    "\n",
    "response_experiment"
   ]
  },
  {
   "cell_type": "code",
   "execution_count": 6,
   "metadata": {},
   "outputs": [],
   "source": [
    "# The following helper functions will recheck the job responses until the job is completed or a run ID is available. \n",
    "# The run ID is needed to link dependencies between jobs.\n",
    "def mlflow_run_id_is_not_known(job_response):\n",
    "    return job_response[\"mlflowRunId\"] is None and job_response[\"status\"] not in [\n",
    "        \"failed\",\n",
    "        \"finished\",\n",
    "    ]\n",
    "\n",
    "def get_run_id(job_response):\n",
    "    while mlflow_run_id_is_not_known(job_response):\n",
    "        time.sleep(1)\n",
    "        job_response = restapi_client.get_job_by_id(job_response[\"jobId\"])\n",
    "        \n",
    "    return job_response\n",
    "\n",
    "def wait_until_finished(job_response):\n",
    "    # First make sure job has started.\n",
    "    job_response = get_run_id(job_response)\n",
    "    \n",
    "    # Next re-check job until it has stopped running.\n",
    "    while (job_response[\"status\"] not in [\"failed\", \"finished\"]):\n",
    "        time.sleep(1)\n",
    "        job_response = restapi_client.get_job_by_id(job_response[\"jobId\"])\n",
    "    \n",
    "    return job_response\n",
    "\n",
    "# Helper function for viewing MLflow results.\n",
    "def get_mlflow_results(job_response):\n",
    "    mlflow_client = MlflowClient()\n",
    "    job_response = wait_until_finished(job_response)\n",
    "    \n",
    "    if(job_response['status']==\"failed\"):\n",
    "        return {}\n",
    "    \n",
    "    run = mlflow_client.get_run(job_response[\"mlflowRunId\"])  \n",
    "    \n",
    "    while(len(run.data.metrics) == 0):\n",
    "        time.sleep(1)\n",
    "        run = mlflow_client.get_run(job_response[\"mlflowRunId\"])\n",
    "        \n",
    "    return run\n",
    "\n",
    "def print_mlflow_results(response):\n",
    "    results = get_mlflow_results(response)\n",
    "    pprint.pprint(results.data.metrics)"
   ]
  },
  {
   "cell_type": "markdown",
   "metadata": {},
   "source": [
    "## MNIST Training: Baseline Model"
   ]
  },
  {
   "cell_type": "markdown",
   "metadata": {},
   "source": [
    "Next, we need to train our baseline model that will serve as a reference point for the effectiveness of our attacks.\n",
    "\n",
    "We will be using the V100 GPUs that are available on the DGX Workstation, which we can use by submitting our job to the `\"tensorflow_gpu\"` queue."
   ]
  },
  {
   "cell_type": "code",
   "execution_count": 9,
   "metadata": {},
   "outputs": [
    {
     "name": "stdout",
     "output_type": "stream",
     "text": [
      "Training job for LeNet-5 neural network submitted\n",
      "\n",
      "{'createdOn': '2021-02-15T07:58:51.849400',\n",
      " 'dependsOn': None,\n",
      " 'entryPoint': 'train',\n",
      " 'entryPointKwargs': '-P batch_size=256 -P register_model=True -P '\n",
      "                     'model_architecture=le_net -P epochs=30 -P '\n",
      "                     'data_dir_train=/nfs/data/Mnist/training -P '\n",
      "                     'data_dir_test=/nfs/data/Mnist/testing',\n",
      " 'experimentId': 24,\n",
      " 'jobId': 'a49cfc4a-3ddc-434c-ae6e-d4c412b05b3a',\n",
      " 'lastModified': '2021-02-15T07:58:51.849400',\n",
      " 'mlflowRunId': None,\n",
      " 'queueId': 2,\n",
      " 'status': 'queued',\n",
      " 'timeout': '1h',\n",
      " 'workflowUri': 's3://workflow/1ef4859cfd574451823f9c487fbfbd40/workflows.tar.gz'}\n",
      "{'accuracy': 0.985334575176239,\n",
      " 'auc': 0.9994531273841858,\n",
      " 'fn': 789.0,\n",
      " 'fp': 604.0,\n",
      " 'loss': 0.04815225534121818,\n",
      " 'precision': 0.9873690605163574,\n",
      " 'recall': 0.9835638403892517,\n",
      " 'restored_epoch': 4.0,\n",
      " 'stopped_epoch': 9.0,\n",
      " 'tn': 431432.0,\n",
      " 'tp': 47215.0,\n",
      " 'training_time_in_minutes': 6.8675189833333325,\n",
      " 'val_accuracy': 0.9868289232254028,\n",
      " 'val_auc': 0.9991206526756287,\n",
      " 'val_fn': 171.0,\n",
      " 'val_fp': 143.0,\n",
      " 'val_loss': 0.04630056511055916,\n",
      " 'val_precision': 0.9880514740943909,\n",
      " 'val_recall': 0.9857452511787415,\n",
      " 'val_tn': 107821.0,\n",
      " 'val_tp': 11825.0}\n"
     ]
    }
   ],
   "source": [
    "def mlflow_run_id_is_not_known(response_fgm):\n",
    "    return response_fgm[\"mlflowRunId\"] is None and response_fgm[\"status\"] not in [\n",
    "        \"failed\",\n",
    "        \"finished\",\n",
    "    ]\n",
    "\n",
    "response_le_net_train = restapi_client.submit_job(\n",
    "    workflows_file=WORKFLOWS_TAR_GZ,\n",
    "    experiment_name=EXPERIMENT_NAME,\n",
    "    entry_point=\"train\",\n",
    "    entry_point_kwargs=\" \".join([\n",
    "        \"-P batch_size=256\",\n",
    "        \"-P register_model=True\",\n",
    "        \"-P model_architecture=le_net\",\n",
    "        \"-P epochs=30\",\n",
    "        f\"-P data_dir_train={DATASET_DIR}/training\",\n",
    "        f\"-P data_dir_test={DATASET_DIR}/testing\",\n",
    "    ]),\n",
    "    queue=\"tensorflow_gpu\",\n",
    "    timeout=\"1h\",    \n",
    ")\n",
    "\n",
    "print(\"Training job for LeNet-5 neural network submitted\")\n",
    "print(\"\")\n",
    "pprint.pprint(response_le_net_train)\n",
    "\n",
    "response_le_net_train = get_run_id(response_le_net_train)\n",
    "print_mlflow_results(response_le_net_train)"
   ]
  },
  {
   "cell_type": "markdown",
   "metadata": {},
   "source": [
    "### Generating Poisoned Images."
   ]
  },
  {
   "cell_type": "markdown",
   "metadata": {},
   "source": [
    "Now we will create our set of poisoned images.\n",
    "\n",
    "Start by submitting the poison generation job below."
   ]
  },
  {
   "cell_type": "code",
   "execution_count": 10,
   "metadata": {},
   "outputs": [
    {
     "name": "stdout",
     "output_type": "stream",
     "text": [
      "Backdoor poison attack (LeNet-5 architecture) job submitted\n",
      "\n",
      "{'createdOn': '2021-02-15T08:06:15.960294',\n",
      " 'dependsOn': 'a49cfc4a-3ddc-434c-ae6e-d4c412b05b3a',\n",
      " 'entryPoint': 'gen_poison_test_data',\n",
      " 'entryPointKwargs': '-P model_architecture=le_net -P '\n",
      "                     'data_dir=/nfs/data/Mnist/testing -P batch_size=100 -P '\n",
      "                     'target_class=1 -P poison_fraction=1 -P label_type=test',\n",
      " 'experimentId': 24,\n",
      " 'jobId': 'd2859ba8-76dd-4024-85fe-6c3ac9ac348d',\n",
      " 'lastModified': '2021-02-15T08:06:15.960294',\n",
      " 'mlflowRunId': None,\n",
      " 'queueId': 2,\n",
      " 'status': 'queued',\n",
      " 'timeout': '24h',\n",
      " 'workflowUri': 's3://workflow/b1ad7309375d4ac78f9ca5186689f9aa/workflows.tar.gz'}\n",
      "\n"
     ]
    }
   ],
   "source": [
    "## Create poisoned test images.\n",
    "response_gen_poison_le_net_test = restapi_client.submit_job(\n",
    "    workflows_file=WORKFLOWS_TAR_GZ,\n",
    "    experiment_name=EXPERIMENT_NAME,\n",
    "    entry_point=\"gen_poison_test_data\",\n",
    "    entry_point_kwargs=\" \".join(\n",
    "        [\n",
    "            \"-P model_architecture=le_net\",\n",
    "            f\"-P data_dir={DATASET_DIR}/testing\",\n",
    "            \"-P batch_size=100\",\n",
    "            \"-P target_class=1\",\n",
    "            \"-P poison_fraction=1\",\n",
    "            \"-P label_type=test\"\n",
    "            \n",
    "        ]\n",
    "    ),\n",
    "    queue=\"tensorflow_gpu\",\n",
    "    depends_on=response_le_net_train[\"jobId\"],\n",
    ")\n",
    "\n",
    "print(\"Backdoor poison attack (LeNet-5 architecture) job submitted\")\n",
    "print(\"\")\n",
    "pprint.pprint(response_gen_poison_le_net_test)\n",
    "print(\"\")\n",
    "\n",
    "response_gen_poison_le_net_test = get_run_id(response_gen_poison_le_net_test)"
   ]
  },
  {
   "cell_type": "code",
   "execution_count": 11,
   "metadata": {},
   "outputs": [
    {
     "name": "stdout",
     "output_type": "stream",
     "text": [
      "Backdoor poison attack (LeNet-5 architecture) job submitted\n",
      "\n",
      "{'createdOn': '2021-02-15T08:06:20.075777',\n",
      " 'dependsOn': 'a49cfc4a-3ddc-434c-ae6e-d4c412b05b3a',\n",
      " 'entryPoint': 'gen_poison_test_data',\n",
      " 'entryPointKwargs': '-P model_architecture=le_net -P '\n",
      "                     'data_dir=/nfs/data/Mnist/testing -P batch_size=100 -P '\n",
      "                     'target_class=1 -P poison_fraction=0.1 -P '\n",
      "                     'label_type=train',\n",
      " 'experimentId': 24,\n",
      " 'jobId': 'e0076265-b36c-46e3-87f6-d005d8bceb8f',\n",
      " 'lastModified': '2021-02-15T08:06:20.075777',\n",
      " 'mlflowRunId': None,\n",
      " 'queueId': 2,\n",
      " 'status': 'queued',\n",
      " 'timeout': '24h',\n",
      " 'workflowUri': 's3://workflow/b492f4b6f3884ceeab302c2dfff4fb87/workflows.tar.gz'}\n",
      "\n"
     ]
    }
   ],
   "source": [
    "## Create poisoned training images.\n",
    "        \n",
    "response_gen_poison_le_net_train = restapi_client.submit_job(\n",
    "    workflows_file=WORKFLOWS_TAR_GZ,\n",
    "    experiment_name=EXPERIMENT_NAME,\n",
    "    entry_point=\"gen_poison_test_data\",\n",
    "    entry_point_kwargs=\" \".join(\n",
    "        [\n",
    "            \"-P model_architecture=le_net\",\n",
    "            f\"-P data_dir={DATASET_DIR}/testing\",\n",
    "            \"-P batch_size=100\",\n",
    "            \"-P target_class=1\",\n",
    "            \"-P poison_fraction=0.1\",\n",
    "            \"-P label_type=train\"\n",
    "            \n",
    "        ]\n",
    "    ),\n",
    "    queue=\"tensorflow_gpu\",\n",
    "    depends_on=response_le_net_train[\"jobId\"],\n",
    ")\n",
    "\n",
    "print(\"Backdoor poison attack (LeNet-5 architecture) job submitted\")\n",
    "print(\"\")\n",
    "pprint.pprint(response_gen_poison_le_net_train)\n",
    "print(\"\")\n",
    "\n",
    "response_gen_poison_le_net_train = get_run_id(response_gen_poison_le_net_train)"
   ]
  },
  {
   "cell_type": "code",
   "execution_count": 12,
   "metadata": {},
   "outputs": [
    {
     "name": "stdout",
     "output_type": "stream",
     "text": [
      "Training job for LeNet-5 neural network submitted\n",
      "\n",
      "{'createdOn': '2021-02-15T08:06:24.193721',\n",
      " 'dependsOn': None,\n",
      " 'entryPoint': 'train',\n",
      " 'entryPointKwargs': '-P batch_size=256 -P register_model=True -P '\n",
      "                     'model_architecture=le_net -P epochs=30 -P '\n",
      "                     'model_tag=data_poison -P '\n",
      "                     'data_dir_train=/nfs/data/Mnist/training -P '\n",
      "                     'data_dir_test=/nfs/data/Mnist/testing -P '\n",
      "                     'load_dataset_from_mlruns=true -P '\n",
      "                     'training_dataset_run_id=23dca239d5044b558d573ce69c9f8bbb',\n",
      " 'experimentId': 24,\n",
      " 'jobId': '3a025e09-acca-487f-9afd-8d264a75f611',\n",
      " 'lastModified': '2021-02-15T08:06:24.193721',\n",
      " 'mlflowRunId': None,\n",
      " 'queueId': 2,\n",
      " 'status': 'queued',\n",
      " 'timeout': '1h',\n",
      " 'workflowUri': 's3://workflow/f5cf5b4d62884e45af68c32c1bce826c/workflows.tar.gz'}\n"
     ]
    }
   ],
   "source": [
    "# Train new model on poisoned training images\n",
    "def mlflow_run_id_is_not_known(response_fgm):\n",
    "    return response_fgm[\"mlflowRunId\"] is None and response_fgm[\"status\"] not in [\n",
    "        \"failed\",\n",
    "        \"finished\",\n",
    "    ]\n",
    "\n",
    "response_le_net_poison_model = restapi_client.submit_job(\n",
    "    workflows_file=WORKFLOWS_TAR_GZ,\n",
    "    experiment_name=EXPERIMENT_NAME,\n",
    "    entry_point=\"train\",\n",
    "    entry_point_kwargs=\" \".join([\n",
    "        \"-P batch_size=256\",\n",
    "        \"-P register_model=True\",\n",
    "        \"-P model_architecture=le_net\",\n",
    "        \"-P epochs=30\",\n",
    "        \"-P model_tag=data_poison\",\n",
    "        f\"-P data_dir_train={DATASET_DIR}/training\",\n",
    "        f\"-P data_dir_test={DATASET_DIR}/testing\",\n",
    "        \"-P load_dataset_from_mlruns=true\",\n",
    "        f\"-P training_dataset_run_id={response_gen_poison_le_net_train['mlflowRunId']}\",\n",
    "    ]),\n",
    "    queue=\"tensorflow_gpu\",\n",
    "    timeout=\"1h\",\n",
    "    \n",
    ")\n",
    "\n",
    "print(\"Training job for LeNet-5 neural network submitted\")\n",
    "print(\"\")\n",
    "pprint.pprint(response_le_net_poison_model)\n",
    "\n",
    "response_le_net_poison_model = get_run_id(response_le_net_poison_model)    "
   ]
  },
  {
   "cell_type": "code",
   "execution_count": 13,
   "metadata": {},
   "outputs": [
    {
     "name": "stdout",
     "output_type": "stream",
     "text": [
      "Inference job for LeNet-5 neural network submitted\n",
      "\n",
      "{'createdOn': '2021-02-15T08:06:48.642744',\n",
      " 'dependsOn': 'e0076265-b36c-46e3-87f6-d005d8bceb8f',\n",
      " 'entryPoint': 'infer',\n",
      " 'entryPointKwargs': '-P run_id=583161da0c964670a7a46650054b027c -P '\n",
      "                     'model=howard_mnist_backdoor_poison_le_net/None -P '\n",
      "                     'batch_size=512 -P model_architecture=le_net -P '\n",
      "                     'dataset_tar_name=adversarial_poison.tar.gz -P '\n",
      "                     'dataset_name=adv_poison_data',\n",
      " 'experimentId': 24,\n",
      " 'jobId': 'b0a43ef6-4ad3-47dc-980e-fddffbc96656',\n",
      " 'lastModified': '2021-02-15T08:06:48.642744',\n",
      " 'mlflowRunId': None,\n",
      " 'queueId': 2,\n",
      " 'status': 'queued',\n",
      " 'timeout': '24h',\n",
      " 'workflowUri': 's3://workflow/9885af2efe91485781e947ac20994dc9/workflows.tar.gz'}\n",
      "{'accuracy': 0.9891999959945679,\n",
      " 'auc': 0.9995173811912537,\n",
      " 'fn': 115.0,\n",
      " 'fp': 98.0,\n",
      " 'loss': 0.03457361488891676,\n",
      " 'precision': 0.9901832938194275,\n",
      " 'recall': 0.9884999990463257,\n",
      " 'tn': 89902.0,\n",
      " 'tp': 9885.0}\n"
     ]
    }
   ],
   "source": [
    "# Inference: Regular model on poisoned test images.\n",
    "\n",
    "response_infer_reg_model = restapi_client.submit_job(\n",
    "    workflows_file=WORKFLOWS_TAR_GZ,\n",
    "    experiment_name=EXPERIMENT_NAME,\n",
    "    entry_point=\"infer\",\n",
    "    entry_point_kwargs=\" \".join(\n",
    "        [\n",
    "            f\"-P run_id={response_gen_poison_le_net_test['mlflowRunId']}\",\n",
    "            f\"-P model={EXPERIMENT_NAME}_le_net/None\",\n",
    "            \"-P batch_size=512\",\n",
    "            \"-P model_architecture=le_net\",\n",
    "            \"-P dataset_tar_name=adversarial_poison.tar.gz\",\n",
    "            \"-P dataset_name=adv_poison_data\",\n",
    "        ]\n",
    "    ),\n",
    "    queue=\"tensorflow_gpu\",\n",
    "    depends_on=response_gen_poison_le_net_train[\"jobId\"],\n",
    ")\n",
    "\n",
    "print(\"Inference job for LeNet-5 neural network submitted\")\n",
    "print(\"\")\n",
    "pprint.pprint(response_infer_reg_model)\n",
    "\n",
    "print_mlflow_results(response_infer_reg_model)"
   ]
  },
  {
   "cell_type": "code",
   "execution_count": 14,
   "metadata": {},
   "outputs": [
    {
     "name": "stdout",
     "output_type": "stream",
     "text": [
      "Inference job for LeNet-5 neural network submitted\n",
      "\n",
      "{'createdOn': '2021-02-15T08:07:08.034704',\n",
      " 'dependsOn': '3a025e09-acca-487f-9afd-8d264a75f611',\n",
      " 'entryPoint': 'infer',\n",
      " 'entryPointKwargs': '-P run_id=583161da0c964670a7a46650054b027c -P '\n",
      "                     'model=howard_mnist_backdoor_poison_data_poison_le_net/None '\n",
      "                     '-P batch_size=512 -P model_architecture=le_net -P '\n",
      "                     'dataset_tar_name=adversarial_poison.tar.gz -P '\n",
      "                     'dataset_name=adv_poison_data',\n",
      " 'experimentId': 24,\n",
      " 'jobId': '35740d6a-5e2b-4fe9-81fb-b6a748092d5f',\n",
      " 'lastModified': '2021-02-15T08:07:08.034704',\n",
      " 'mlflowRunId': None,\n",
      " 'queueId': 2,\n",
      " 'status': 'queued',\n",
      " 'timeout': '24h',\n",
      " 'workflowUri': 's3://workflow/2b44d40c41eb401f9599ceef24831a73/workflows.tar.gz'}\n",
      "{'accuracy': 0.11349999904632568,\n",
      " 'auc': 0.5079113245010376,\n",
      " 'fn': 8865.0,\n",
      " 'fp': 8865.0,\n",
      " 'loss': 17.492993543704095,\n",
      " 'precision': 0.11349999904632568,\n",
      " 'recall': 0.11349999904632568,\n",
      " 'tn': 81135.0,\n",
      " 'tp': 1135.0}\n"
     ]
    }
   ],
   "source": [
    "# Inference: Poisoned model on poisoned test images.\n",
    "\n",
    "response_infer_pos_model = restapi_client.submit_job(\n",
    "    workflows_file=WORKFLOWS_TAR_GZ,\n",
    "    experiment_name=EXPERIMENT_NAME,\n",
    "    entry_point=\"infer\",\n",
    "    entry_point_kwargs=\" \".join(\n",
    "        [\n",
    "            f\"-P run_id={response_gen_poison_le_net_test['mlflowRunId']}\",\n",
    "            f\"-P model={EXPERIMENT_NAME}_data_poison_le_net/None\",\n",
    "            \"-P batch_size=512\",\n",
    "            \"-P model_architecture=le_net\",\n",
    "            \"-P dataset_tar_name=adversarial_poison.tar.gz\",\n",
    "            \"-P dataset_name=adv_poison_data\",\n",
    "        ]\n",
    "    ),\n",
    "    queue=\"tensorflow_gpu\",\n",
    "    depends_on=response_le_net_poison_model[\"jobId\"],\n",
    ")\n",
    "\n",
    "print(\"Inference job for LeNet-5 neural network submitted\")\n",
    "print(\"\")\n",
    "pprint.pprint(response_infer_pos_model)\n",
    "\n",
    "print_mlflow_results(response_infer_pos_model)"
   ]
  },
  {
   "cell_type": "markdown",
   "metadata": {},
   "source": [
    "# Now we will explore available defenses on the adversarial backdoor poisoning attack.\n",
    "\n",
    "The following three jobs will run a selected defense (spatial smoothing, gaussian augmentation, or jpeg compression) and evaluate the defense on the baseline and backdoor trained models.\n",
    "\n",
    "- The first job uses the selected defense entrypoint to apply a preprocessing defense over the poisoned test images.\n",
    "- The second job runs the defended images against the poisoned backdoor model.\n",
    "- The final job runs the defended images against the baseline model.\n",
    "\n",
    "Ideally the defense will not impact the baseline model accuracy, while improving the backdoor model accuracy scores."
   ]
  },
  {
   "cell_type": "code",
   "execution_count": 15,
   "metadata": {},
   "outputs": [
    {
     "name": "stdout",
     "output_type": "stream",
     "text": [
      "FGM spatial_smoothing defense (LeNet architecture) job submitted\n",
      "\n",
      "{'createdOn': '2021-02-15T08:08:28.292037',\n",
      " 'dependsOn': 'd2859ba8-76dd-4024-85fe-6c3ac9ac348d',\n",
      " 'entryPoint': 'spatial_smoothing',\n",
      " 'entryPointKwargs': '-P model=howard_mnist_backdoor_poison_le_net/1 -P '\n",
      "                     'model_architecture=le_net -P '\n",
      "                     'data_dir=/nfs/data/Mnist/testing -P batch_size=20 -P '\n",
      "                     'load_dataset_from_mlruns=true -P '\n",
      "                     'dataset_run_id=583161da0c964670a7a46650054b027c -P '\n",
      "                     'dataset_tar_name=adversarial_poison.tar.gz -P '\n",
      "                     'dataset_name=adv_poison_data',\n",
      " 'experimentId': 24,\n",
      " 'jobId': 'dee73f2e-ee43-49ba-b5e7-998297977f8a',\n",
      " 'lastModified': '2021-02-15T08:08:28.292037',\n",
      " 'mlflowRunId': None,\n",
      " 'queueId': 2,\n",
      " 'status': 'queued',\n",
      " 'timeout': '24h',\n",
      " 'workflowUri': 's3://workflow/f50058393d744333b7f65ca8e1261ea6/workflows.tar.gz'}\n",
      "\n"
     ]
    }
   ],
   "source": [
    "defenses = [\"gaussian_augmentation\", \"spatial_smoothing\", \"jpeg_compression\"]\n",
    "defense = defenses[1]\n",
    "response_fgm_resnet50_attack_def = restapi_client.submit_job(\n",
    "    workflows_file=WORKFLOWS_TAR_GZ,\n",
    "    experiment_name=EXPERIMENT_NAME,\n",
    "    entry_point=defense,\n",
    "    entry_point_kwargs=\" \".join(\n",
    "        [\n",
    "            f\"-P model={EXPERIMENT_NAME}_le_net/1\",\n",
    "            \"-P model_architecture=le_net\",\n",
    "            f\"-P data_dir={DATASET_DIR}/testing\",\n",
    "            \"-P batch_size=20\",\n",
    "            \"-P load_dataset_from_mlruns=true\",\n",
    "            f\"-P dataset_run_id={response_gen_poison_le_net_test['mlflowRunId']}\",\n",
    "            \"-P dataset_tar_name=adversarial_poison.tar.gz\",\n",
    "            \"-P dataset_name=adv_poison_data\",\n",
    "            \n",
    "        ]\n",
    "    ),\n",
    "    queue=\"tensorflow_gpu\",\n",
    "    depends_on=response_gen_poison_le_net_test[\"jobId\"],\n",
    ")\n",
    "\n",
    "\n",
    "print(f\"FGM {defense} defense (LeNet architecture) job submitted\")\n",
    "print(\"\")\n",
    "pprint.pprint(response_fgm_resnet50_attack_def)\n",
    "print(\"\")\n",
    "\n",
    "\n",
    "response_fgm_resnet50_attack_def = get_run_id(response_fgm_resnet50_attack_def)"
   ]
  },
  {
   "cell_type": "code",
   "execution_count": 18,
   "metadata": {},
   "outputs": [
    {
     "name": "stdout",
     "output_type": "stream",
     "text": [
      "Inference job for LeNet-5 neural network submitted\n",
      "\n",
      "{'createdOn': '2021-02-15T08:13:27.339453',\n",
      " 'dependsOn': 'dee73f2e-ee43-49ba-b5e7-998297977f8a',\n",
      " 'entryPoint': 'infer',\n",
      " 'entryPointKwargs': '-P run_id=7f8e132959174d2593508f144d8a905f -P '\n",
      "                     'model=howard_mnist_backdoor_poison_data_poison_le_net/None '\n",
      "                     '-P batch_size=512 -P model_architecture=le_net -P '\n",
      "                     'dataset_tar_name=spatial_smoothing_dataset.tar.gz -P '\n",
      "                     'dataset_name=adv_testing',\n",
      " 'experimentId': 24,\n",
      " 'jobId': 'cd715340-f885-4ea5-a707-fe5ea9551e14',\n",
      " 'lastModified': '2021-02-15T08:13:27.339453',\n",
      " 'mlflowRunId': None,\n",
      " 'queueId': 2,\n",
      " 'status': 'queued',\n",
      " 'timeout': '24h',\n",
      " 'workflowUri': 's3://workflow/8f42f1b4676a42b0a707bfe28722026c/workflows.tar.gz'}\n",
      "{'accuracy': 0.9872000217437744,\n",
      " 'auc': 0.9994723796844482,\n",
      " 'fn': 153.0,\n",
      " 'fp': 107.0,\n",
      " 'loss': 0.04631301791246492,\n",
      " 'precision': 0.9892505407333374,\n",
      " 'recall': 0.9847000241279602,\n",
      " 'tn': 89893.0,\n",
      " 'tp': 9847.0}\n"
     ]
    }
   ],
   "source": [
    "# Inference: Poisoned model on poisoned test images.\n",
    "\n",
    "response_infer_pos_model = restapi_client.submit_job(\n",
    "    workflows_file=WORKFLOWS_TAR_GZ,\n",
    "    experiment_name=EXPERIMENT_NAME,\n",
    "    entry_point=\"infer\",\n",
    "    entry_point_kwargs=\" \".join(\n",
    "        [\n",
    "            f\"-P run_id={response_fgm_resnet50_attack_def['mlflowRunId']}\",\n",
    "            f\"-P model={EXPERIMENT_NAME}_data_poison_le_net/None\",\n",
    "            \"-P batch_size=512\",\n",
    "            \"-P model_architecture=le_net\",\n",
    "            f\"-P dataset_tar_name={defense}_dataset.tar.gz\",\n",
    "            \"-P dataset_name=adv_testing\",\n",
    "        ]\n",
    "    ),\n",
    "    queue=\"tensorflow_gpu\",\n",
    "    depends_on=response_fgm_resnet50_attack_def[\"jobId\"],\n",
    ")\n",
    "\n",
    "print(\"Inference job for LeNet-5 neural network submitted\")\n",
    "print(\"\")\n",
    "pprint.pprint(response_infer_pos_model)\n",
    "print_mlflow_results(response_infer_pos_model)"
   ]
  },
  {
   "cell_type": "code",
   "execution_count": 19,
   "metadata": {},
   "outputs": [
    {
     "name": "stdout",
     "output_type": "stream",
     "text": [
      "Inference job for LeNet-5 neural network submitted\n",
      "\n",
      "{'createdOn': '2021-02-15T08:13:46.699401',\n",
      " 'dependsOn': 'dee73f2e-ee43-49ba-b5e7-998297977f8a',\n",
      " 'entryPoint': 'infer',\n",
      " 'entryPointKwargs': '-P run_id=7f8e132959174d2593508f144d8a905f -P '\n",
      "                     'model=howard_mnist_backdoor_poison_le_net/None -P '\n",
      "                     'batch_size=512 -P model_architecture=le_net -P '\n",
      "                     'dataset_tar_name=spatial_smoothing_dataset.tar.gz -P '\n",
      "                     'dataset_name=adv_testing',\n",
      " 'experimentId': 24,\n",
      " 'jobId': '16e762f2-25d0-4505-82d7-98192621d2bc',\n",
      " 'lastModified': '2021-02-15T08:13:46.699401',\n",
      " 'mlflowRunId': None,\n",
      " 'queueId': 2,\n",
      " 'status': 'queued',\n",
      " 'timeout': '24h',\n",
      " 'workflowUri': 's3://workflow/eae7c31146894d8da1664464f355ec67/workflows.tar.gz'}\n",
      "{'accuracy': 0.983299970626831,\n",
      " 'auc': 0.9995484948158264,\n",
      " 'fn': 185.0,\n",
      " 'fp': 138.0,\n",
      " 'loss': 0.04958793219921295,\n",
      " 'precision': 0.9861348271369934,\n",
      " 'recall': 0.9815000295639038,\n",
      " 'tn': 89862.0,\n",
      " 'tp': 9815.0}\n"
     ]
    }
   ],
   "source": [
    "# Inference: Regular model on poisoned test images.\n",
    "\n",
    "response_infer_reg_model = restapi_client.submit_job(\n",
    "    workflows_file=WORKFLOWS_TAR_GZ,\n",
    "    experiment_name=EXPERIMENT_NAME,\n",
    "    entry_point=\"infer\",\n",
    "    entry_point_kwargs=\" \".join(\n",
    "        [\n",
    "            f\"-P run_id={response_fgm_resnet50_attack_def['mlflowRunId']}\",\n",
    "            f\"-P model={EXPERIMENT_NAME}_le_net/None\",\n",
    "            \"-P batch_size=512\",\n",
    "            \"-P model_architecture=le_net\",\n",
    "            f\"-P dataset_tar_name={defense}_dataset.tar.gz\",\n",
    "            \"-P dataset_name=adv_testing\",\n",
    "        ]\n",
    "    ),\n",
    "    queue=\"tensorflow_gpu\",\n",
    "    depends_on=response_fgm_resnet50_attack_def[\"jobId\"],\n",
    ")\n",
    "\n",
    "print(\"Inference job for LeNet-5 neural network submitted\")\n",
    "print(\"\")\n",
    "pprint.pprint(response_infer_reg_model)\n",
    "print_mlflow_results(response_infer_reg_model)"
   ]
  },
  {
   "cell_type": "code",
   "execution_count": null,
   "metadata": {},
   "outputs": [],
   "source": []
  },
  {
   "cell_type": "markdown",
   "metadata": {},
   "source": [
    "<a id='querying_cell'></a>\n",
    "## Querying the MLFlow Tracking Service"
   ]
  },
  {
   "cell_type": "markdown",
   "metadata": {},
   "source": [
    "Currently the lab API can only be used to register experiments and start jobs, so if users wish to extract their results programmatically, they can use the `MlflowClient()` class from the `mlflow` Python package to connect and query their results.\n",
    "Since we captured the run ids generated by MLFlow, we can easily retrieve the data logged about one of our jobs and inspect the results.\n",
    "To start the client, we simply need to run,"
   ]
  },
  {
   "cell_type": "code",
   "execution_count": 22,
   "metadata": {},
   "outputs": [],
   "source": [
    "mlflow_client = MlflowClient()"
   ]
  },
  {
   "cell_type": "markdown",
   "metadata": {},
   "source": [
    "The client uses the environment variable `MLFLOW_TRACKING_URI` to figure out how to connect to the MLFlow Tracking Service, which we configured near the top of this notebook.\n",
    "To query the results of one of our runs, we just need to pass the run id to the client's `get_run()` method.\n",
    "As an example, let's query the run results for the patch attack applied to the LeNet-5 architecture,"
   ]
  },
  {
   "cell_type": "code",
   "execution_count": 23,
   "metadata": {},
   "outputs": [],
   "source": [
    "run_le_net = mlflow_client.get_run(response_le_net_train[\"mlflowRunId\"])"
   ]
  },
  {
   "cell_type": "markdown",
   "metadata": {},
   "source": [
    "If the request completed successfully, we should now be able to query data collected during the run.\n",
    "For example, to review the collected metrics, we just use,"
   ]
  },
  {
   "cell_type": "code",
   "execution_count": 24,
   "metadata": {},
   "outputs": [
    {
     "name": "stdout",
     "output_type": "stream",
     "text": [
      "{'accuracy': 0.9836680293083191,\n",
      " 'auc': 0.9994320869445801,\n",
      " 'fn': 901.0,\n",
      " 'fp': 666.0,\n",
      " 'loss': 0.053702861484105704,\n",
      " 'precision': 0.9860578775405884,\n",
      " 'recall': 0.9812307357788086,\n",
      " 'restored_epoch': 4.0,\n",
      " 'stopped_epoch': 9.0,\n",
      " 'tn': 431370.0,\n",
      " 'tp': 47103.0,\n",
      " 'training_time_in_minutes': 7.423224333333334,\n",
      " 'val_accuracy': 0.9872457385063171,\n",
      " 'val_auc': 0.9992121458053589,\n",
      " 'val_fn': 162.0,\n",
      " 'val_fp': 143.0,\n",
      " 'val_loss': 0.043615993835586814,\n",
      " 'val_precision': 0.988060474395752,\n",
      " 'val_recall': 0.9864954948425293,\n",
      " 'val_tn': 107821.0,\n",
      " 'val_tp': 11834.0}\n"
     ]
    }
   ],
   "source": [
    "pprint.pprint(run_le_net.data.metrics)"
   ]
  },
  {
   "cell_type": "markdown",
   "metadata": {},
   "source": [
    "To review the run's parameters, we use,"
   ]
  },
  {
   "cell_type": "code",
   "execution_count": 25,
   "metadata": {},
   "outputs": [
    {
     "name": "stdout",
     "output_type": "stream",
     "text": [
      "{'apply_defense': 'False',\n",
      " 'baseline': 'None',\n",
      " 'batch_size': '256',\n",
      " 'data_dir_test': '/nfs/data/Mnist/testing',\n",
      " 'data_dir_train': '/nfs/data/Mnist/training',\n",
      " 'dataset_name': 'adv_poison_data',\n",
      " 'dataset_seed': '491391921',\n",
      " 'dataset_tar_name': 'adversarial_poison.tar.gz',\n",
      " 'entry_point_seed': '9362298795793007086857596422728629728',\n",
      " 'epochs': '30',\n",
      " 'learning_rate': '0.001',\n",
      " 'load_dataset_from_mlruns': 'False',\n",
      " 'min_delta': '-0.01',\n",
      " 'model_architecture': 'le_net',\n",
      " 'model_tag': \"''\",\n",
      " 'monitor': 'val_loss',\n",
      " 'opt_amsgrad': 'False',\n",
      " 'opt_beta_1': '0.9',\n",
      " 'opt_beta_2': '0.999',\n",
      " 'opt_decay': '0.0',\n",
      " 'opt_epsilon': '1e-07',\n",
      " 'opt_learning_rate': '0.001',\n",
      " 'opt_name': 'Adam',\n",
      " 'optimizer': 'adam',\n",
      " 'patience': '5',\n",
      " 'register_model': 'True',\n",
      " 'restore_best_weights': 'True',\n",
      " 'seed': '-1',\n",
      " 'tensorflow_global_seed': '878021404',\n",
      " 'training_dataset_run_id': 'None',\n",
      " 'validation_split': '0.2'}\n"
     ]
    }
   ],
   "source": [
    "pprint.pprint(run_le_net.data.params)"
   ]
  },
  {
   "cell_type": "markdown",
   "metadata": {},
   "source": [
    "To review the run's tags, we use,"
   ]
  },
  {
   "cell_type": "code",
   "execution_count": 26,
   "metadata": {},
   "outputs": [
    {
     "name": "stdout",
     "output_type": "stream",
     "text": [
      "{'mlflow.log-model.history': '[{\"run_id\": \"ce1bb519957c4c62aa87fea44b86ed61\", '\n",
      "                             '\"artifact_path\": \"model\", \"utc_time_created\": '\n",
      "                             '\"2021-02-15 06:24:08.566942\", \"flavors\": '\n",
      "                             '{\"keras\": {\"keras_module\": '\n",
      "                             '\"tensorflow_core.keras\", \"keras_version\": '\n",
      "                             '\"2.2.4-tf\", \"data\": \"data\"}, \"python_function\": '\n",
      "                             '{\"loader_module\": \"mlflow.keras\", '\n",
      "                             '\"python_version\": \"3.7.9\", \"data\": \"data\", '\n",
      "                             '\"env\": \"conda.yaml\"}}}]',\n",
      " 'mlflow.project.backend': 'securingai',\n",
      " 'mlflow.project.entryPoint': 'train',\n",
      " 'mlflow.source.name': '/work/tmp5zfs9qj5',\n",
      " 'mlflow.source.type': 'PROJECT',\n",
      " 'mlflow.user': 'securingai',\n",
      " 'securingai.dependsOn': 'None',\n",
      " 'securingai.jobId': '50bcd46f-4f68-4866-9e1b-520697cebe84',\n",
      " 'securingai.queue': 'tensorflow_gpu'}\n"
     ]
    }
   ],
   "source": [
    "pprint.pprint(run_le_net.data.tags)"
   ]
  },
  {
   "cell_type": "markdown",
   "metadata": {},
   "source": [
    "There are many things you can query using the MLFlow client.\n",
    "[The MLFlow documentation gives a full overview of the methods that are available](https://www.mlflow.org/docs/latest/python_api/mlflow.tracking.html#mlflow.tracking.MlflowClient)."
   ]
  }
 ],
 "metadata": {
  "kernelspec": {
   "display_name": "Python 3",
   "language": "python",
   "name": "python3"
  },
  "language_info": {
   "codemirror_mode": {
    "name": "ipython",
    "version": 3
   },
   "file_extension": ".py",
   "mimetype": "text/x-python",
   "name": "python",
   "nbconvert_exporter": "python",
   "pygments_lexer": "ipython3",
   "version": "3.7.7"
  }
 },
 "nbformat": 4,
 "nbformat_minor": 4
}
