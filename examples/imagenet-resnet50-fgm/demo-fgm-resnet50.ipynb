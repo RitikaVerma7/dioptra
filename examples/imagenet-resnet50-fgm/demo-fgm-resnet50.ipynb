{
 "cells": [
  {
   "cell_type": "markdown",
   "metadata": {},
   "source": [
    "# Tensorflow ImageNet FGM demo for Securing AI Lab deployment"
   ]
  },
  {
   "cell_type": "markdown",
   "metadata": {},
   "source": [
    "This notebook contains a demonstration of the Fast Gradient Method (FGM) attack and Image Preprocessing defenses on the DGX workstation."
   ]
  },
  {
   "cell_type": "markdown",
   "metadata": {},
   "source": [
    "## Setup"
   ]
  },
  {
   "cell_type": "markdown",
   "metadata": {},
   "source": [
    "**Note:** This demo is specifically for the NCCoE DGX Workstation with hostname `dgx-station-2`.\n",
    "\n",
    "Port forwarding is required in order to run this demo.\n",
    "The recommended port mapping is as follows:\n",
    "\n",
    "- Map `localhost:30080` on laptop to `localhost:30080` on `dgx-station-2`\n",
    "- Map `localhost:35000` on laptop to `localhost:35000` on `dgx-station-2`\n",
    "\n",
    "A sample SSH config file that enables the above port forwarding is provided below,\n",
    "\n",
    "> ⚠️ **Edits required**: replace `username` with your assigned username _on the NCCoE virtual machines_!"
   ]
  },
  {
   "cell_type": "markdown",
   "metadata": {},
   "source": [
    "```conf\n",
    "# vm hostname: jumphost001\n",
    "Host nccoe-jumphost001\n",
    "    Hostname 10.33.53.98\n",
    "    User username\n",
    "    Port 54131\n",
    "    IdentityFile %d/.ssh/nccoe-vm\n",
    "\n",
    "# vm hostname: dgx-station-2\n",
    "Host nccoe-k8s-gpu002\n",
    "    Hostname 192.168.1.28\n",
    "    User username\n",
    "    Port 22\n",
    "    IdentityFile %d/.ssh/nccoe-vm\n",
    "    ProxyJump nccoe-jumphost001\n",
    "    LocalForward 30080 localhost:30080\n",
    "    LocalForward 35000 localhost:35000\n",
    "```"
   ]
  },
  {
   "cell_type": "markdown",
   "metadata": {},
   "source": [
    "Now, connect to the NCCoE VPN and SSH into the DGX Workstation,"
   ]
  },
  {
   "cell_type": "markdown",
   "metadata": {},
   "source": [
    "```bash\n",
    "ssh nccoe-k8s-gpu002\n",
    "```"
   ]
  },
  {
   "cell_type": "markdown",
   "metadata": {},
   "source": [
    "Next, we import the necessary Python modules and ensure the proper environment variables are set so that all the code blocks will work as expected,"
   ]
  },
  {
   "cell_type": "code",
   "execution_count": 151,
   "metadata": {},
   "outputs": [],
   "source": [
    "# Import packages from the Python standard library\n",
    "import os\n",
    "import pprint\n",
    "import time\n",
    "import warnings\n",
    "from pathlib import Path\n",
    "from typing import Tuple\n",
    "\n",
    "# Please enter custom username here.\n",
    "USERNAME = \"howard\"\n",
    "\n",
    "# Filter out warning messages\n",
    "warnings.filterwarnings(\"ignore\")\n",
    "\n",
    "# Address for connecting the docker container to exposed ports on the host device (see above instructions for details)\n",
    "HOST_DOCKER_INTERNAL = \"host.docker.internal\"\n",
    "# HOST_DOCKER_INTERNAL = \"172.17.0.1\"\n",
    "\n",
    "# Default address for accessing the RESTful API service\n",
    "RESTAPI_ADDRESS = (\n",
    "    f\"http://{HOST_DOCKER_INTERNAL}:30080\"\n",
    "    if os.getenv(\"IS_JUPYTER_SERVICE\")\n",
    "    else \"http://localhost:30080\"\n",
    ")\n",
    "\n",
    "# Override the AI_RESTAPI_URI variable, used to connect to RESTful API service\n",
    "os.environ[\"AI_RESTAPI_URI\"] = RESTAPI_ADDRESS\n",
    "\n",
    "# Base API address\n",
    "RESTAPI_API_BASE = f\"{RESTAPI_ADDRESS}/api\"\n",
    "\n",
    "# Default address for accessing the MLFlow Tracking server\n",
    "MLFLOW_TRACKING_URI = \"http://localhost:35000\"\n",
    "\n",
    "# Path to workflows archive\n",
    "WORKFLOWS_TAR_GZ = Path(\"workflows.tar.gz\")\n",
    "\n",
    "# Experiment name (note the username_ prefix convention)\n",
    "EXPERIMENT_NAME = f\"{USERNAME}_imagenet_fgm_defense\"\n",
    "\n",
    "# Set MLFLOW_TRACKING_URI variable, used to connect to MLFlow Tracking service\n",
    "if os.getenv(\"MLFLOW_TRACKING_URI\") is None:\n",
    "    os.environ[\"MLFLOW_TRACKING_URI\"] = MLFLOW_TRACKING_URI\n",
    "\n",
    "# Import third-party Python packages\n",
    "import numpy as np\n",
    "import requests\n",
    "from mlflow.tracking import MlflowClient\n",
    "\n",
    "# Import utils.py file\n",
    "import utils\n",
    "\n",
    "# Create random number generator\n",
    "rng = np.random.default_rng(54399264723942495723666216079516778448)"
   ]
  },
  {
   "cell_type": "markdown",
   "metadata": {},
   "source": [
    "Check that the Makefile works in your environment by executing the `bash` code block below,"
   ]
  },
  {
   "cell_type": "code",
   "execution_count": 152,
   "metadata": {},
   "outputs": [
    {
     "name": "stdout",
     "output_type": "stream",
     "text": [
      "\u001b[1mAvailable rules:\u001b[m\n",
      "\n",
      "\u001b[36mclean              \u001b[m Remove temporary files \n",
      "\u001b[36mdata               \u001b[m Download and prepare MNIST dataset \n",
      "\u001b[36mdemo               \u001b[m Launch the demo \n",
      "\u001b[36minitdb             \u001b[m Initialize the RESTful API database \n",
      "\u001b[36mjupyter            \u001b[m Launch the jupyter lab service \n",
      "\u001b[36mplugins            \u001b[m Synchronize plugins to S3 \n",
      "\u001b[36mservices           \u001b[m Launch the Testbed services \n",
      "\u001b[36mteardown           \u001b[m Stop and remove the Testbed service containers \n",
      "\u001b[36mworkflows          \u001b[m Create workflows tarball \n"
     ]
    }
   ],
   "source": [
    "%%bash\n",
    "\n",
    "# Running this will just list the available rules defined in the demo's Makefile.\n",
    "make"
   ]
  },
  {
   "cell_type": "markdown",
   "metadata": {},
   "source": [
    "spatial_smoothingThe ImageNet dataset needed for the demo is available in all worker containers at the path `/nfs/data/ImageNet-Kaggle-2017/images/ILSVRC/Data/CLS-LOC/`.\n",
    "The following directores contain labeled JPEG images:\n",
    "\n",
    "    train  \n",
    "    val-sorted  \n",
    "    val-sorted-1000\n",
    "    val-sorted-5000\n",
    "    val-sorted-10000  \n",
    "    \n",
    "Both train and val-sorted contain a full set of labeled training and test images. val-sorted-# directories hold a random partion of labeled images, with 1000, 5000, or 10000 images in total. "
   ]
  },
  {
   "cell_type": "markdown",
   "metadata": {},
   "source": [
    "Each of the directories listed follows the general subfolder structure below:\n",
    "\n",
    "    ImageNet\n",
    "    │ \n",
    "    │ \n",
    "    ├── train\n",
    "    │   ├── {class 0 directory}\n",
    "    │   ├── {class 1 directory}\n",
    "    │   ├── ...\n",
    "    │   ├── ...\n",
    "    │   ├── ...\n",
    "    │   └── {class 999 directory}\n",
    "    │ \n",
    "    └── val-sorted\n",
    "    │ \n",
    "    │   ├── {class 0 directory}\n",
    "    │   ├── {class 1 directory}\n",
    "    │   ├── ...\n",
    "    │   ├── ...\n",
    "    │   ├── ...\n",
    "    │   └── {class 999 directory}"
   ]
  },
  {
   "cell_type": "markdown",
   "metadata": {},
   "source": [
    "The subfolders under each directory are the classification labels for the images in the dataset.\n",
    "This folder structure is a standardized way to encode the label information and many libraries can make use of it, including the Tensorflow library that we are using for this particular demo."
   ]
  },
  {
   "cell_type": "markdown",
   "metadata": {},
   "source": [
    "## Submit and run jobs"
   ]
  },
  {
   "cell_type": "markdown",
   "metadata": {},
   "source": [
    "The jobs that we will be running are implemented in the Python source files under `src/`, which will be executed using the entrypoints defined in the `MLproject` file.\n",
    "To get this information into the architecture, we need to package those files up into an archive and upload it to the lab API.\n",
    "For convenience, the `Makefile` provides a rule for creating the archive file, just run `make workflows`,"
   ]
  },
  {
   "cell_type": "code",
   "execution_count": 153,
   "metadata": {},
   "outputs": [
    {
     "name": "stdout",
     "output_type": "stream",
     "text": [
      "make: Nothing to be done for 'workflows'.\n"
     ]
    }
   ],
   "source": [
    "%%bash\n",
    "\n",
    "# Create the workflows.tar.gz file\n",
    "make workflows"
   ]
  },
  {
   "cell_type": "markdown",
   "metadata": {},
   "source": [
    "To connect with the endpoint, we will use a client class defined in the `utils.py` file that is able to connect with the lab's RESTful API using the HTTP protocol.\n",
    "We connect using the client below,"
   ]
  },
  {
   "cell_type": "code",
   "execution_count": 154,
   "metadata": {},
   "outputs": [],
   "source": [
    "restapi_client = utils.SecuringAIClient(address=RESTAPI_API_BASE)"
   ]
  },
  {
   "cell_type": "markdown",
   "metadata": {},
   "source": [
    "We need to register an experiment under which to collect our job runs.\n",
    "The code below checks if the relevant experiment named `\"howard_imagenet_fgm_defense\"` exists.\n",
    "If it does, then it just returns info about the experiment, if it doesn't, it then registers the new experiment."
   ]
  },
  {
   "cell_type": "code",
   "execution_count": 155,
   "metadata": {},
   "outputs": [
    {
     "data": {
      "text/plain": [
       "{'experimentId': 8,\n",
       " 'name': 'howard_imagenet_fgm_defense',\n",
       " 'lastModified': '2020-10-29T04:14:12.391042',\n",
       " 'createdOn': '2020-10-29T04:14:12.391042'}"
      ]
     },
     "execution_count": 155,
     "metadata": {},
     "output_type": "execute_result"
    }
   ],
   "source": [
    "response_experiment = restapi_client.get_experiment_by_name(name=EXPERIMENT_NAME)\n",
    "\n",
    "if response_experiment is None or \"Not Found\" in response_experiment.get(\"message\", []):\n",
    "    response_experiment = restapi_client.register_experiment(name=EXPERIMENT_NAME)\n",
    "\n",
    "response_experiment"
   ]
  },
  {
   "cell_type": "markdown",
   "metadata": {},
   "source": [
    "# FGM Model Setup and Attack\n",
    "\n",
    "For this section of the demo we will first start by loading in the respective baseline ResNet50 model and evaluating its performance on a subset of the ImageNet validation data."
   ]
  },
  {
   "cell_type": "code",
   "execution_count": 227,
   "metadata": {},
   "outputs": [
    {
     "name": "stdout",
     "output_type": "stream",
     "text": [
      "Model initialization and ImageNet evaluation job submitted.\n",
      "\n",
      "{'createdOn': '2021-03-26T07:50:36.297706',\n",
      " 'dependsOn': None,\n",
      " 'entryPoint': 'init_model',\n",
      " 'entryPointKwargs': '-P batch_size=20 -P model_architecture=resnet50 -P '\n",
      "                     'register_model_name=howard_imagenet_fgm_defense_pretrained_resnet50 '\n",
      "                     '-P imagenet_preprocessing=true -P image_size=224,224,3 '\n",
      "                     '-P '\n",
      "                     'data_dir=/nfs/data/ImageNet-Kaggle-2017/images/ILSVRC/Data/CLS-LOC/val-sorted-1000',\n",
      " 'experimentId': 8,\n",
      " 'jobId': '57734dfd-c021-4a44-b479-e35fffb0e890',\n",
      " 'lastModified': '2021-03-26T07:50:36.297706',\n",
      " 'mlflowRunId': None,\n",
      " 'queueId': 2,\n",
      " 'status': 'queued',\n",
      " 'timeout': '1h',\n",
      " 'workflowUri': 's3://workflow/3aa55ed812cc43bf83f669b965c0449e/workflows.tar.gz'}\n"
     ]
    }
   ],
   "source": [
    "response_init_model = restapi_client.submit_job(\n",
    "    workflows_file=WORKFLOWS_TAR_GZ,\n",
    "    experiment_name=EXPERIMENT_NAME,\n",
    "    entry_point=\"init_model\",\n",
    "    entry_point_kwargs=\" \".join([\n",
    "        \"-P batch_size=20\",\n",
    "        \"-P model_architecture=resnet50\",\n",
    "        f\"-P register_model_name={EXPERIMENT_NAME}_pretrained_resnet50\",\n",
    "        \"-P imagenet_preprocessing=true\",\n",
    "        \"-P image_size=224,224,3\",\n",
    "        \"-P data_dir=/nfs/data/ImageNet-Kaggle-2017/images/ILSVRC/Data/CLS-LOC/val-sorted-1000\",\n",
    "    ]),\n",
    "    queue=\"tensorflow_gpu\",\n",
    "    timeout=\"1h\",\n",
    ")\n",
    "\n",
    "print(\"Model initialization and ImageNet evaluation job submitted.\")\n",
    "print(\"\")\n",
    "pprint.pprint(response_init_model)\n"
   ]
  },
  {
   "cell_type": "markdown",
   "metadata": {},
   "source": [
    "Now that we have our baseline model loaded and stored, next we will apply the fast-gradient method (FGM) evasion attack on the model to generate adversarial images.\n",
    "Then, after we have the adversarial images, we will reapply the attack with spatial smoothing defense enabled.\n",
    "\n",
    "We will then test the model under both sets of images (FGM attack, FGM attack + preprocessing defense) and apply standard machine learning accuracy metrics on the inference results. \n",
    "\n",
    "This will give us a general sense of the effectivness and robustness of the FGM evasion attack with regards to a particular preprocessing defense.\n"
   ]
  },
  {
   "cell_type": "code",
   "execution_count": 343,
   "metadata": {},
   "outputs": [
    {
     "name": "stdout",
     "output_type": "stream",
     "text": [
      "FGM attack (ResNet50 architecture) job submitted\n",
      "\n",
      "{'createdOn': '2021-03-27T08:03:10.032827',\n",
      " 'dependsOn': '57734dfd-c021-4a44-b479-e35fffb0e890',\n",
      " 'entryPoint': 'fgm',\n",
      " 'entryPointKwargs': '-P '\n",
      "                     'model_name=howard_imagenet_fgm_defense_pretrained_resnet50 '\n",
      "                     '-P model_version=None -P '\n",
      "                     'data_dir=/nfs/data/ImageNet-Kaggle-2017/images/ILSVRC/Data/CLS-LOC/val-sorted-1000 '\n",
      "                     '-P batch_size=20 -P eps_step=0.1 -P '\n",
      "                     'imagenet_preprocessing=true -P image_size=224,224,3 -P '\n",
      "                     'eps=0.1',\n",
      " 'experimentId': 8,\n",
      " 'jobId': '4982fe00-7d66-447c-a317-579c56fea3ca',\n",
      " 'lastModified': '2021-03-27T08:03:10.032827',\n",
      " 'mlflowRunId': None,\n",
      " 'queueId': 2,\n",
      " 'status': 'queued',\n",
      " 'timeout': '24h',\n",
      " 'workflowUri': 's3://workflow/7f79d6ee31974e278ccb9653260381e7/workflows.tar.gz'}\n",
      "\n"
     ]
    }
   ],
   "source": [
    "def mlflow_run_id_is_not_known(response):\n",
    "    return response[\"mlflowRunId\"] is None and response[\"status\"] not in [\n",
    "        \"failed\",\n",
    "        \"finished\",\n",
    "    ]\n",
    "\n",
    "response_fgm_resnet50_attack = restapi_client.submit_job(\n",
    "    workflows_file=WORKFLOWS_TAR_GZ,\n",
    "    experiment_name=EXPERIMENT_NAME,\n",
    "    entry_point=\"fgm\",\n",
    "    entry_point_kwargs=\" \".join(\n",
    "        [\n",
    "            f\"-P model_name={EXPERIMENT_NAME}_pretrained_resnet50\",\n",
    "            \"-P model_version=None\",\n",
    "            \"-P data_dir=/nfs/data/ImageNet-Kaggle-2017/images/ILSVRC/Data/CLS-LOC/val-sorted-1000\",\n",
    "            \"-P batch_size=20\",\n",
    "            \"-P eps_step=0.1\",\n",
    "            \"-P imagenet_preprocessing=true\",\n",
    "            \"-P image_size=224,224,3\",\n",
    "            \"-P eps=10\"\n",
    "        ]\n",
    "    ),\n",
    "    queue=\"tensorflow_gpu\",\n",
    "    depends_on=response_init_model['jobId']\n",
    ")\n",
    "\n",
    "print(\"FGM attack (ResNet50 architecture) job submitted\")\n",
    "print(\"\")\n",
    "pprint.pprint(response_fgm_resnet50_attack)\n",
    "print(\"\")\n",
    "\n",
    "# Wait for FGM attack to complete.Then evaluate results.\n",
    "while mlflow_run_id_is_not_known(response_fgm_resnet50_attack):\n",
    "    time.sleep(1)\n",
    "    response_fgm_resnet50_attack = restapi_client.get_job_by_id(response_fgm_resnet50_attack[\"jobId\"])"
   ]
  },
  {
   "cell_type": "code",
   "execution_count": 344,
   "metadata": {},
   "outputs": [
    {
     "name": "stdout",
     "output_type": "stream",
     "text": [
      "FGM evaluation (ResNet50 architecture) job submitted\n",
      "\n",
      "{'createdOn': '2021-03-27T08:03:15.173568',\n",
      " 'dependsOn': '4982fe00-7d66-447c-a317-579c56fea3ca',\n",
      " 'entryPoint': 'infer',\n",
      " 'entryPointKwargs': '-P run_id=b2f3b9e0d12c4da19e76cfb178fb1a5f -P '\n",
      "                     'model_name=howard_imagenet_fgm_defense_pretrained_resnet50 '\n",
      "                     '-P model_version=None -P batch_size=20 -P '\n",
      "                     'adv_tar_name=testing_adversarial_fgm.tar.gz -P '\n",
      "                     'adv_data_dir=adv_testing -P imagenet_preprocessing=true '\n",
      "                     '-P image_size=224,224,3',\n",
      " 'experimentId': 8,\n",
      " 'jobId': '936d78bd-8e9c-4572-bbbc-d629f651cb9e',\n",
      " 'lastModified': '2021-03-27T08:03:15.173568',\n",
      " 'mlflowRunId': None,\n",
      " 'queueId': 2,\n",
      " 'status': 'queued',\n",
      " 'timeout': '24h',\n",
      " 'workflowUri': 's3://workflow/25a5c5865b57462b8b766d21864228dd/workflows.tar.gz'}\n",
      "\n"
     ]
    }
   ],
   "source": [
    "response_evaluate_fgm_resnet50_attack = restapi_client.submit_job(\n",
    "    workflows_file=WORKFLOWS_TAR_GZ,\n",
    "    experiment_name=EXPERIMENT_NAME,\n",
    "    entry_point=\"infer\",\n",
    "    entry_point_kwargs=\" \".join(\n",
    "        [\n",
    "            f\"-P run_id={response_fgm_resnet50_attack['mlflowRunId']}\",\n",
    "            f\"-P model_name={EXPERIMENT_NAME}_pretrained_resnet50\",\n",
    "            \"-P model_version=None\",\n",
    "            \"-P batch_size=20\",\n",
    "            \"-P adv_tar_name=testing_adversarial_fgm.tar.gz\",\n",
    "            \"-P adv_data_dir=adv_testing\",\n",
    "            \"-P imagenet_preprocessing=true\",\n",
    "            \"-P image_size=224,224,3\",\n",
    "        ]\n",
    "    ),\n",
    "    queue=\"tensorflow_gpu\",\n",
    "    depends_on=response_fgm_resnet50_attack[\"jobId\"],\n",
    ")\n",
    "\n",
    "print(\"FGM evaluation (ResNet50 architecture) job submitted\")\n",
    "print(\"\")\n",
    "pprint.pprint(response_evaluate_fgm_resnet50_attack)\n",
    "print(\"\")"
   ]
  },
  {
   "cell_type": "markdown",
   "metadata": {},
   "source": [
    "# Image Preprocessing Defenses\n",
    "Now we will apply our defenses over the fgm-attacked images."
   ]
  },
  {
   "cell_type": "code",
   "execution_count": 345,
   "metadata": {},
   "outputs": [
    {
     "name": "stdout",
     "output_type": "stream",
     "text": [
      "FGM spatial smoothing defense (ResNet50 architecture) job submitted\n",
      "\n",
      "{'createdOn': '2021-03-27T08:03:15.232311',\n",
      " 'dependsOn': '4982fe00-7d66-447c-a317-579c56fea3ca',\n",
      " 'entryPoint': 'spatial_smoothing',\n",
      " 'entryPointKwargs': '-P '\n",
      "                     'data_dir=/nfs/data/ImageNet-Kaggle-2017/images/ILSVRC/Data/CLS-LOC/val-sorted-1000 '\n",
      "                     '-P batch_size=20 -P load_dataset_from_mlruns=true -P '\n",
      "                     'dataset_run_id=b2f3b9e0d12c4da19e76cfb178fb1a5f -P '\n",
      "                     'dataset_tar_name=testing_adversarial_fgm.tar.gz -P '\n",
      "                     'dataset_name=adv_testing -P image_size=224,224,3',\n",
      " 'experimentId': 8,\n",
      " 'jobId': '22a7a62c-c685-493b-8f38-dc89f27f960f',\n",
      " 'lastModified': '2021-03-27T08:03:15.232311',\n",
      " 'mlflowRunId': None,\n",
      " 'queueId': 2,\n",
      " 'status': 'queued',\n",
      " 'timeout': '24h',\n",
      " 'workflowUri': 's3://workflow/44ee47abc14d4723b960056dc630c917/workflows.tar.gz'}\n",
      "\n"
     ]
    }
   ],
   "source": [
    "response_fgm_resnet50_attack_def = restapi_client.submit_job(\n",
    "    workflows_file=WORKFLOWS_TAR_GZ,\n",
    "    experiment_name=EXPERIMENT_NAME,\n",
    "    entry_point=\"spatial_smoothing\",\n",
    "    entry_point_kwargs=\" \".join(\n",
    "        [\n",
    "            \"-P data_dir=/nfs/data/ImageNet-Kaggle-2017/images/ILSVRC/Data/CLS-LOC/val-sorted-1000\",\n",
    "            \"-P batch_size=20\",\n",
    "            \"-P load_dataset_from_mlruns=true\",\n",
    "            f\"-P dataset_run_id={response_fgm_resnet50_attack['mlflowRunId']}\",\n",
    "            \"-P dataset_tar_name=testing_adversarial_fgm.tar.gz\",\n",
    "            \"-P dataset_name=adv_testing\",\n",
    "            \"-P image_size=224,224,3\",\n",
    "            \n",
    "        ]\n",
    "    ),\n",
    "    queue=\"tensorflow_gpu\",\n",
    "    depends_on=response_fgm_resnet50_attack[\"jobId\"],\n",
    ")\n",
    "\n",
    "print(\"FGM spatial smoothing defense (ResNet50 architecture) job submitted\")\n",
    "print(\"\")\n",
    "pprint.pprint(response_fgm_resnet50_attack_def)\n",
    "print(\"\")"
   ]
  },
  {
   "cell_type": "code",
   "execution_count": 346,
   "metadata": {},
   "outputs": [
    {
     "name": "stdout",
     "output_type": "stream",
     "text": [
      "FGM evaluation (ResNet50 architecture) job submitted\n",
      "\n",
      "{'createdOn': '2021-03-27T08:05:16.259931',\n",
      " 'dependsOn': '22a7a62c-c685-493b-8f38-dc89f27f960f',\n",
      " 'entryPoint': 'infer',\n",
      " 'entryPointKwargs': '-P run_id=be06528445cb4326a1a725789de00026 -P '\n",
      "                     'model_name=howard_imagenet_fgm_defense_pretrained_resnet50 '\n",
      "                     '-P model_version=None -P batch_size=20 -P '\n",
      "                     'adv_tar_name=spatial_smoothing_dataset.tar.gz -P '\n",
      "                     'adv_data_dir=adv_testing -P imagenet_preprocessing=true '\n",
      "                     '-P image_size=224,224,3',\n",
      " 'experimentId': 8,\n",
      " 'jobId': 'edf4468b-dd2f-4df7-a300-bc15706d0b14',\n",
      " 'lastModified': '2021-03-27T08:05:16.259931',\n",
      " 'mlflowRunId': None,\n",
      " 'queueId': 2,\n",
      " 'status': 'queued',\n",
      " 'timeout': '24h',\n",
      " 'workflowUri': 's3://workflow/a5ed1b971d91483cb30828378755c91e/workflows.tar.gz'}\n",
      "\n"
     ]
    }
   ],
   "source": [
    "while mlflow_run_id_is_not_known(response_fgm_resnet50_attack_def):\n",
    "    time.sleep(1)\n",
    "    response_fgm_resnet50_attack_def = restapi_client.get_job_by_id(response_fgm_resnet50_attack_def[\"jobId\"])\n",
    "    \n",
    "    \n",
    "response_evaluate_fgm_resnet50_attack_def = restapi_client.submit_job(\n",
    "    workflows_file=WORKFLOWS_TAR_GZ,\n",
    "    experiment_name=EXPERIMENT_NAME,\n",
    "    entry_point=\"infer\",\n",
    "    entry_point_kwargs=\" \".join(\n",
    "        [\n",
    "            f\"-P run_id={response_fgm_resnet50_attack_def['mlflowRunId']}\",\n",
    "            f\"-P model_name={EXPERIMENT_NAME}_pretrained_resnet50\",\n",
    "            \"-P model_version=None\",\n",
    "            \"-P batch_size=20\",\n",
    "            \"-P adv_tar_name=spatial_smoothing_dataset.tar.gz\",\n",
    "            \"-P adv_data_dir=adv_testing\",\n",
    "            \"-P imagenet_preprocessing=true\",\n",
    "            \"-P image_size=224,224,3\",\n",
    "        ]\n",
    "    ),\n",
    "    queue=\"tensorflow_gpu\",\n",
    "    depends_on=response_fgm_resnet50_attack_def[\"jobId\"],\n",
    ")\n",
    "\n",
    "print(\"FGM evaluation (ResNet50 architecture) job submitted\")\n",
    "print(\"\")\n",
    "pprint.pprint(response_evaluate_fgm_resnet50_attack_def)\n",
    "print(\"\")"
   ]
  },
  {
   "cell_type": "code",
   "execution_count": 348,
   "metadata": {},
   "outputs": [
    {
     "name": "stdout",
     "output_type": "stream",
     "text": [
      "FGM gaussian augmentation defense (ResNet50 architecture) job submitted\n",
      "\n",
      "{'createdOn': '2021-03-27T08:05:16.355603',\n",
      " 'dependsOn': '4982fe00-7d66-447c-a317-579c56fea3ca',\n",
      " 'entryPoint': 'gaussian_augmentation',\n",
      " 'entryPointKwargs': '-P '\n",
      "                     'data_dir=/nfs/data/ImageNet-Kaggle-2017/images/ILSVRC/Data/CLS-LOC/val-sorted-1000 '\n",
      "                     '-P batch_size=20 -P load_dataset_from_mlruns=true -P '\n",
      "                     'dataset_run_id=b2f3b9e0d12c4da19e76cfb178fb1a5f -P '\n",
      "                     'dataset_tar_name=testing_adversarial_fgm.tar.gz -P '\n",
      "                     'dataset_name=adv_testing -P image_size=224,224,3',\n",
      " 'experimentId': 8,\n",
      " 'jobId': '667fffcb-c95c-4850-93f6-cdf3911d20a9',\n",
      " 'lastModified': '2021-03-27T08:05:16.355603',\n",
      " 'mlflowRunId': None,\n",
      " 'queueId': 2,\n",
      " 'status': 'queued',\n",
      " 'timeout': '24h',\n",
      " 'workflowUri': 's3://workflow/a549d3dd8da0496ea94dad6f38ba6923/workflows.tar.gz'}\n",
      "\n"
     ]
    }
   ],
   "source": [
    "response_fgm_resnet50_attack_def = restapi_client.submit_job(\n",
    "    workflows_file=WORKFLOWS_TAR_GZ,\n",
    "    experiment_name=EXPERIMENT_NAME,\n",
    "    entry_point=\"gaussian_augmentation\",\n",
    "    entry_point_kwargs=\" \".join(\n",
    "        [\n",
    "            \"-P data_dir=/nfs/data/ImageNet-Kaggle-2017/images/ILSVRC/Data/CLS-LOC/val-sorted-1000\",\n",
    "            \"-P batch_size=20\",\n",
    "            \"-P load_dataset_from_mlruns=true\",\n",
    "            f\"-P dataset_run_id={response_fgm_resnet50_attack['mlflowRunId']}\",\n",
    "            \"-P dataset_tar_name=testing_adversarial_fgm.tar.gz\",\n",
    "            \"-P dataset_name=adv_testing\",\n",
    "            \"-P image_size=224,224,3\",\n",
    "            \n",
    "        ]\n",
    "    ),\n",
    "    queue=\"tensorflow_gpu\",\n",
    "    depends_on=response_fgm_resnet50_attack[\"jobId\"],\n",
    ")\n",
    "\n",
    "print(\"FGM gaussian augmentation defense (ResNet50 architecture) job submitted\")\n",
    "print(\"\")\n",
    "pprint.pprint(response_fgm_resnet50_attack_def)\n",
    "print(\"\")"
   ]
  },
  {
   "cell_type": "code",
   "execution_count": 349,
   "metadata": {},
   "outputs": [
    {
     "name": "stdout",
     "output_type": "stream",
     "text": [
      "FGM evaluation (ResNet50 architecture) job submitted\n",
      "\n",
      "{'createdOn': '2021-03-27T08:05:24.548698',\n",
      " 'dependsOn': '667fffcb-c95c-4850-93f6-cdf3911d20a9',\n",
      " 'entryPoint': 'infer',\n",
      " 'entryPointKwargs': '-P run_id=7f145640f9f9450b96ec2d50aa7885ef -P '\n",
      "                     'model_name=howard_imagenet_fgm_defense_pretrained_resnet50 '\n",
      "                     '-P model_version=None -P batch_size=20 -P '\n",
      "                     'adv_tar_name=gaussian_augmentation_dataset.tar.gz -P '\n",
      "                     'adv_data_dir=adv_testing -P imagenet_preprocessing=true '\n",
      "                     '-P image_size=224,224,3',\n",
      " 'experimentId': 8,\n",
      " 'jobId': '8a4a6090-733b-44cb-a935-bc57da54ee69',\n",
      " 'lastModified': '2021-03-27T08:05:24.548698',\n",
      " 'mlflowRunId': None,\n",
      " 'queueId': 2,\n",
      " 'status': 'queued',\n",
      " 'timeout': '24h',\n",
      " 'workflowUri': 's3://workflow/1ef28ffbfd2b497ab74bb6cbabcaa297/workflows.tar.gz'}\n",
      "\n"
     ]
    }
   ],
   "source": [
    "while mlflow_run_id_is_not_known(response_fgm_resnet50_attack_def):\n",
    "    time.sleep(1)\n",
    "    response_fgm_resnet50_attack_def = restapi_client.get_job_by_id(response_fgm_resnet50_attack_def[\"jobId\"])\n",
    "    \n",
    "    \n",
    "response_evaluate_fgm_resnet50_attack_def = restapi_client.submit_job(\n",
    "    workflows_file=WORKFLOWS_TAR_GZ,\n",
    "    experiment_name=EXPERIMENT_NAME,\n",
    "    entry_point=\"infer\",\n",
    "    entry_point_kwargs=\" \".join(\n",
    "        [\n",
    "            f\"-P run_id={response_fgm_resnet50_attack_def['mlflowRunId']}\",\n",
    "            f\"-P model_name={EXPERIMENT_NAME}_pretrained_resnet50\",\n",
    "            \"-P model_version=None\",\n",
    "            \"-P batch_size=20\",\n",
    "            \"-P adv_tar_name=gaussian_augmentation_dataset.tar.gz\",\n",
    "            \"-P adv_data_dir=adv_testing\",\n",
    "            \"-P imagenet_preprocessing=true\",\n",
    "            \"-P image_size=224,224,3\",\n",
    "        ]\n",
    "    ),\n",
    "    queue=\"tensorflow_gpu\",\n",
    "    depends_on=response_fgm_resnet50_attack_def[\"jobId\"],\n",
    ")\n",
    "\n",
    "print(\"FGM evaluation (ResNet50 architecture) job submitted\")\n",
    "print(\"\")\n",
    "pprint.pprint(response_evaluate_fgm_resnet50_attack_def)\n",
    "print(\"\")"
   ]
  },
  {
   "cell_type": "code",
   "execution_count": 350,
   "metadata": {},
   "outputs": [
    {
     "name": "stdout",
     "output_type": "stream",
     "text": [
      "FGM JPEG compression defense (ResNet50 architecture) job submitted\n",
      "\n",
      "{'createdOn': '2021-03-27T08:05:24.608562',\n",
      " 'dependsOn': '4982fe00-7d66-447c-a317-579c56fea3ca',\n",
      " 'entryPoint': 'jpeg_compression',\n",
      " 'entryPointKwargs': '-P '\n",
      "                     'data_dir=/nfs/data/ImageNet-Kaggle-2017/images/ILSVRC/Data/CLS-LOC/val-sorted-1000 '\n",
      "                     '-P batch_size=20 -P load_dataset_from_mlruns=true -P '\n",
      "                     'dataset_run_id=b2f3b9e0d12c4da19e76cfb178fb1a5f -P '\n",
      "                     'dataset_tar_name=testing_adversarial_fgm.tar.gz -P '\n",
      "                     'dataset_name=adv_testing -P image_size=224,224,3',\n",
      " 'experimentId': 8,\n",
      " 'jobId': '57745614-4069-408e-a1b6-2b78bde90f02',\n",
      " 'lastModified': '2021-03-27T08:05:24.608562',\n",
      " 'mlflowRunId': None,\n",
      " 'queueId': 2,\n",
      " 'status': 'queued',\n",
      " 'timeout': '24h',\n",
      " 'workflowUri': 's3://workflow/852540f318184726a4e8405d42c2ff31/workflows.tar.gz'}\n",
      "\n"
     ]
    }
   ],
   "source": [
    "response_fgm_resnet50_attack_def = restapi_client.submit_job(\n",
    "    workflows_file=WORKFLOWS_TAR_GZ,\n",
    "    experiment_name=EXPERIMENT_NAME,\n",
    "    entry_point=\"jpeg_compression\",\n",
    "    entry_point_kwargs=\" \".join(\n",
    "        [\n",
    "            \"-P data_dir=/nfs/data/ImageNet-Kaggle-2017/images/ILSVRC/Data/CLS-LOC/val-sorted-1000\",\n",
    "            \"-P batch_size=20\",\n",
    "            \"-P load_dataset_from_mlruns=true\",\n",
    "            f\"-P dataset_run_id={response_fgm_resnet50_attack['mlflowRunId']}\",\n",
    "            \"-P dataset_tar_name=testing_adversarial_fgm.tar.gz\",\n",
    "            \"-P dataset_name=adv_testing\",\n",
    "            \"-P image_size=224,224,3\",\n",
    "            \n",
    "        ]\n",
    "    ),\n",
    "    queue=\"tensorflow_gpu\",\n",
    "    depends_on=response_fgm_resnet50_attack[\"jobId\"],\n",
    ")\n",
    "\n",
    "print(\"FGM JPEG compression defense (ResNet50 architecture) job submitted\")\n",
    "print(\"\")\n",
    "pprint.pprint(response_fgm_resnet50_attack_def)\n",
    "print(\"\")"
   ]
  },
  {
   "cell_type": "code",
   "execution_count": 351,
   "metadata": {},
   "outputs": [
    {
     "name": "stdout",
     "output_type": "stream",
     "text": [
      "FGM evaluation (ResNet50 architecture) job submitted\n",
      "\n",
      "{'createdOn': '2021-03-27T08:05:44.999203',\n",
      " 'dependsOn': '57745614-4069-408e-a1b6-2b78bde90f02',\n",
      " 'entryPoint': 'infer',\n",
      " 'entryPointKwargs': '-P run_id=7bfa1fa540cf41859c71cbe8c53d6803 -P '\n",
      "                     'model_name=howard_imagenet_fgm_defense_pretrained_resnet50 '\n",
      "                     '-P model_version=None -P batch_size=20 -P '\n",
      "                     'adv_tar_name=jpeg_compression_dataset.tar.gz -P '\n",
      "                     'adv_data_dir=adv_testing -P imagenet_preprocessing=true '\n",
      "                     '-P image_size=224,224,3',\n",
      " 'experimentId': 8,\n",
      " 'jobId': '9fd6409e-6acf-4b83-a57e-ca391d5e0d3a',\n",
      " 'lastModified': '2021-03-27T08:05:44.999203',\n",
      " 'mlflowRunId': None,\n",
      " 'queueId': 2,\n",
      " 'status': 'queued',\n",
      " 'timeout': '24h',\n",
      " 'workflowUri': 's3://workflow/dffcaffd674d44fea8e7df9b3c463003/workflows.tar.gz'}\n",
      "\n"
     ]
    }
   ],
   "source": [
    "while mlflow_run_id_is_not_known(response_fgm_resnet50_attack_def):\n",
    "    time.sleep(1)\n",
    "    response_fgm_resnet50_attack_def = restapi_client.get_job_by_id(response_fgm_resnet50_attack_def[\"jobId\"])\n",
    "    \n",
    "    \n",
    "response_evaluate_fgm_resnet50_attack_def = restapi_client.submit_job(\n",
    "    workflows_file=WORKFLOWS_TAR_GZ,\n",
    "    experiment_name=EXPERIMENT_NAME,\n",
    "    entry_point=\"infer\",\n",
    "    entry_point_kwargs=\" \".join(\n",
    "        [\n",
    "            f\"-P run_id={response_fgm_resnet50_attack_def['mlflowRunId']}\",\n",
    "            f\"-P model_name={EXPERIMENT_NAME}_pretrained_resnet50\",\n",
    "            \"-P model_version=None\",\n",
    "            \"-P batch_size=20\",\n",
    "            \"-P adv_tar_name=jpeg_compression_dataset.tar.gz\",\n",
    "            \"-P adv_data_dir=adv_testing\",\n",
    "            \"-P imagenet_preprocessing=true\",\n",
    "            \"-P image_size=224,224,3\",\n",
    "        ]\n",
    "    ),\n",
    "    queue=\"tensorflow_gpu\",\n",
    "    depends_on=response_fgm_resnet50_attack_def[\"jobId\"],\n",
    ")\n",
    "\n",
    "print(\"FGM evaluation (ResNet50 architecture) job submitted\")\n",
    "print(\"\")\n",
    "pprint.pprint(response_evaluate_fgm_resnet50_attack_def)\n",
    "print(\"\")"
   ]
  },
  {
   "cell_type": "markdown",
   "metadata": {},
   "source": [
    "## Querying the MLFlow Tracking Service"
   ]
  },
  {
   "cell_type": "code",
   "execution_count": null,
   "metadata": {},
   "outputs": [],
   "source": []
  },
  {
   "cell_type": "markdown",
   "metadata": {},
   "source": [
    "Currently the lab API can only be used to register experiments and start jobs, so if users wish to extract their results programmatically, they can use the `MlflowClient()` class from the `mlflow` Python package to connect and query their results.\n",
    "Since we captured the run ids generated by MLFlow, we can easily retrieve the data logged about one of our jobs and inspect the results.\n",
    "To start the client, we simply need to run,"
   ]
  },
  {
   "cell_type": "code",
   "execution_count": null,
   "metadata": {},
   "outputs": [],
   "source": [
    "mlflow_client = MlflowClient()"
   ]
  },
  {
   "cell_type": "markdown",
   "metadata": {},
   "source": [
    "The client uses the environment variable `MLFLOW_TRACKING_URI` to figure out how to connect to the MLFlow Tracking Service, which we configured near the top of this notebook.\n",
    "To query the results of one of our runs, we just need to pass the run id to the client's `get_run()` method.\n",
    "As an example, let's query the run results for the FGM attack applied to the LeNet-5 architecture,"
   ]
  },
  {
   "cell_type": "code",
   "execution_count": null,
   "metadata": {},
   "outputs": [],
   "source": [
    "fgm_run = mlflow_client.get_run(response_evaluate_fgm_resnet50_attack_def[\"mlflowRunId\"])"
   ]
  },
  {
   "cell_type": "markdown",
   "metadata": {},
   "source": [
    "If the request completed successfully, we should now be able to query data collected during the run.\n",
    "For example, to review the collected metrics, we just use,"
   ]
  },
  {
   "cell_type": "code",
   "execution_count": null,
   "metadata": {},
   "outputs": [],
   "source": [
    "pprint.pprint(fgm_run.data.metrics)"
   ]
  },
  {
   "cell_type": "markdown",
   "metadata": {},
   "source": [
    "To review the run's parameters, we use,"
   ]
  },
  {
   "cell_type": "code",
   "execution_count": null,
   "metadata": {},
   "outputs": [],
   "source": [
    "pprint.pprint(fgm_run.data.params)"
   ]
  },
  {
   "cell_type": "markdown",
   "metadata": {},
   "source": [
    "To review the run's tags, we use,"
   ]
  },
  {
   "cell_type": "code",
   "execution_count": null,
   "metadata": {},
   "outputs": [],
   "source": [
    "pprint.pprint(fgm_run.data.tags)"
   ]
  },
  {
   "cell_type": "markdown",
   "metadata": {},
   "source": [
    "There are many things you can query using the MLFlow client.\n",
    "[The MLFlow documentation gives a full overview of the methods that are available](https://www.mlflow.org/docs/latest/python_api/mlflow.tracking.html#mlflow.tracking.MlflowClient)."
   ]
  }
 ],
 "metadata": {
  "kernelspec": {
   "display_name": "Python 3",
   "language": "python",
   "name": "python3"
  },
  "language_info": {
   "codemirror_mode": {
    "name": "ipython",
    "version": 3
   },
   "file_extension": ".py",
   "mimetype": "text/x-python",
   "name": "python",
   "nbconvert_exporter": "python",
   "pygments_lexer": "ipython3",
   "version": "3.7.7"
  }
 },
 "nbformat": 4,
 "nbformat_minor": 4
}
