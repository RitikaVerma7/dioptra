{
 "cells": [
  {
   "cell_type": "markdown",
   "metadata": {},
   "source": [
    "# Tensorflow MNIST Patch demo for Securing AI Lab deployment"
   ]
  },
  {
   "cell_type": "markdown",
   "metadata": {},
   "source": [
    "This notebook contains an end-to-end demostration for the Securing AI Lab Architecture when it is deployed on the DGX workstation."
   ]
  },
  {
   "cell_type": "markdown",
   "metadata": {},
   "source": [
    "## Setup"
   ]
  },
  {
   "cell_type": "markdown",
   "metadata": {},
   "source": [
    "**Note:** This demo is specifically for the NCCoE DGX Workstation with hostname `dgx-station-2`.\n",
    "\n",
    "Port forwarding is required in order to run this demo.\n",
    "The recommended port mapping is as follows:\n",
    "\n",
    "- Map `localhost:30080` on laptop to `localhost:30080` on `dgx-station-2`\n",
    "- Map `localhost:35000` on laptop to `localhost:35000` on `dgx-station-2`\n",
    "\n",
    "A sample SSH config file that enables the above port forwarding is provided below,\n",
    "\n",
    "> ⚠️ **Edits required**: replace `username` with your assigned username _on the NCCoE virtual machines_!"
   ]
  },
  {
   "cell_type": "markdown",
   "metadata": {},
   "source": [
    "```conf\n",
    "# vm hostname: jumphost001\n",
    "Host nccoe-jumphost001\n",
    "    Hostname 10.33.53.98\n",
    "    User username\n",
    "    Port 54131\n",
    "    IdentityFile %d/.ssh/nccoe-vm\n",
    "\n",
    "# vm hostname: dgx-station-2\n",
    "Host nccoe-k8s-gpu002\n",
    "    Hostname 192.168.1.28\n",
    "    User username\n",
    "    Port 22\n",
    "    IdentityFile %d/.ssh/nccoe-vm\n",
    "    ProxyJump nccoe-jumphost001\n",
    "    LocalForward 30080 localhost:30080\n",
    "    LocalForward 35000 localhost:35000\n",
    "```"
   ]
  },
  {
   "cell_type": "markdown",
   "metadata": {},
   "source": [
    "Now, connect to the NCCoE VPN and SSH into the DGX Workstation,"
   ]
  },
  {
   "cell_type": "markdown",
   "metadata": {},
   "source": [
    "```bash\n",
    "ssh nccoe-k8s-gpu002\n",
    "```"
   ]
  },
  {
   "cell_type": "markdown",
   "metadata": {},
   "source": [
    "Next, we import the necessary Python modules and ensure the proper environment variables are set so that all the code blocks will work as expected,"
   ]
  },
  {
   "cell_type": "code",
   "execution_count": 1,
   "metadata": {},
   "outputs": [],
   "source": [
    "# Import packages from the Python standard library\n",
    "import os\n",
    "import pprint\n",
    "import time\n",
    "import warnings\n",
    "from pathlib import Path\n",
    "from typing import Tuple\n",
    "\n",
    "# Please enter custom username here.\n",
    "USERNAME = \"howard\"\n",
    "\n",
    "# Filter out warning messages\n",
    "warnings.filterwarnings(\"ignore\")\n",
    "\n",
    "# Default address for accessing the RESTful API service\n",
    "RESTAPI_ADDRESS = \"http://localhost:30080\"\n",
    "\n",
    "# Base API address\n",
    "RESTAPI_API_BASE = f\"{RESTAPI_ADDRESS}/api\"\n",
    "\n",
    "# Default address for accessing the MLFlow Tracking server\n",
    "MLFLOW_TRACKING_URI = \"http://localhost:35000\"\n",
    "\n",
    "# Path to workflows archive\n",
    "WORKFLOWS_TAR_GZ = Path(\"workflows.tar.gz\")\n",
    "\n",
    "# Experiment name (note the username_ prefix convention)\n",
    "EXPERIMENT_NAME = f\"{USERNAME}_mnist_adversarial_patches\"\n",
    "\n",
    "# Set MLFLOW_TRACKING_URI variable, used to connect to MLFlow Tracking service\n",
    "if os.getenv(\"MLFLOW_TRACKING_URI\") is None:\n",
    "    os.environ[\"MLFLOW_TRACKING_URI\"] = MLFLOW_TRACKING_URI\n",
    "\n",
    "# Import third-party Python packages\n",
    "import numpy as np\n",
    "import requests\n",
    "from mlflow.tracking import MlflowClient\n",
    "\n",
    "# Import utils.py file\n",
    "import utils\n",
    "\n",
    "# Create random number generator\n",
    "rng = np.random.default_rng(54399264723942495723666216079516778448)"
   ]
  },
  {
   "cell_type": "markdown",
   "metadata": {},
   "source": [
    "Check that the Makefile works in your environment by executing the `bash` code block below,"
   ]
  },
  {
   "cell_type": "code",
   "execution_count": 2,
   "metadata": {},
   "outputs": [
    {
     "name": "stdout",
     "output_type": "stream",
     "text": [
      "\u001b[1mAvailable rules:\u001b[m\n",
      "\n",
      "\u001b[36mclean              \u001b[m Remove temporary files \n",
      "\u001b[36mdata               \u001b[m Download and prepare MNIST dataset \n",
      "\u001b[36minitdb             \u001b[m Initialize the RESTful API database \n",
      "\u001b[36mservices           \u001b[m Launch the Minio S3 and MLFlow Tracking services \n",
      "\u001b[36mteardown           \u001b[m Destroy service containers \n",
      "\u001b[36mworkflows          \u001b[m Create workflows tarball \n"
     ]
    }
   ],
   "source": [
    "%%bash\n",
    "\n",
    "# Running this will just list the available rules defined in the demo's Makefile.\n",
    "make"
   ]
  },
  {
   "cell_type": "markdown",
   "metadata": {},
   "source": [
    "The MNIST dataset needed for the demo is available in all worker containers at the path `/nfs/data/Mnist`.\n",
    "The training and testing images in this directory are saved as PNG files and are organized into the following folder structure,"
   ]
  },
  {
   "cell_type": "markdown",
   "metadata": {},
   "source": [
    "    Mnist\n",
    "    ├── testing\n",
    "    │   ├── 0\n",
    "    │   ├── 1\n",
    "    │   ├── 2\n",
    "    │   ├── 3\n",
    "    │   ├── 4\n",
    "    │   ├── 5\n",
    "    │   ├── 6\n",
    "    │   ├── 7\n",
    "    │   ├── 8\n",
    "    │   └── 9\n",
    "    └── training\n",
    "        ├── 0\n",
    "        ├── 1\n",
    "        ├── 2\n",
    "        ├── 3\n",
    "        ├── 4\n",
    "        ├── 5\n",
    "        ├── 6\n",
    "        ├── 7\n",
    "        ├── 8\n",
    "        └── 9"
   ]
  },
  {
   "cell_type": "markdown",
   "metadata": {},
   "source": [
    "The subfolders under `Mnist/training/` and `Mnist/testing/` are the classification labels for the images in the dataset.\n",
    "This folder structure is a standardized way to encode the label information and many libraries can make use of it, including the Tensorflow library that we are using for this particular demo."
   ]
  },
  {
   "cell_type": "markdown",
   "metadata": {},
   "source": [
    "## Submit and run jobs"
   ]
  },
  {
   "cell_type": "markdown",
   "metadata": {},
   "source": [
    "The jobs that we will be running are implemented in the Python source files under `src/`, which will be executed using the entrypoints defined in the `MLproject` file.\n",
    "To get this information into the architecture, we need to package those files up into an archive and upload it to the lab API.\n",
    "For convenience, the `Makefile` provides a rule for creating the archive file, just run `make workflows`,"
   ]
  },
  {
   "cell_type": "code",
   "execution_count": 3,
   "metadata": {},
   "outputs": [
    {
     "name": "stdout",
     "output_type": "stream",
     "text": [
      "make: Nothing to be done for 'workflows'.\n"
     ]
    }
   ],
   "source": [
    "%%bash\n",
    "\n",
    "# Create the workflows.tar.gz file\n",
    "make workflows"
   ]
  },
  {
   "cell_type": "markdown",
   "metadata": {},
   "source": [
    "To connect with the endpoint, we will use a client class defined in the `utils.py` file that is able to connect with the lab's RESTful API using the HTTP protocol.\n",
    "We connect using the client below,"
   ]
  },
  {
   "cell_type": "code",
   "execution_count": 4,
   "metadata": {},
   "outputs": [],
   "source": [
    "restapi_client = utils.SecuringAIClient(address=RESTAPI_API_BASE)"
   ]
  },
  {
   "cell_type": "markdown",
   "metadata": {},
   "source": [
    "We need to register an experiment under which to collect our job runs.\n",
    "The code below checks if the relevant experiment exists.\n",
    "If it does, then it just returns info about the experiment, if it doesn't, it then registers the new experiment."
   ]
  },
  {
   "cell_type": "code",
   "execution_count": 5,
   "metadata": {},
   "outputs": [
    {
     "data": {
      "text/plain": [
       "{'experimentId': 10,\n",
       " 'name': 'howard_mnist_adversarial_patches',\n",
       " 'lastModified': '2020-11-05T08:45:14.946823',\n",
       " 'createdOn': '2020-11-05T08:45:14.946823'}"
      ]
     },
     "execution_count": 5,
     "metadata": {},
     "output_type": "execute_result"
    }
   ],
   "source": [
    "response_experiment = restapi_client.get_experiment_by_name(name=EXPERIMENT_NAME)\n",
    "\n",
    "if response_experiment is None or \"Not Found\" in response_experiment.get(\"message\", []):\n",
    "    response_experiment = restapi_client.register_experiment(name=EXPERIMENT_NAME)\n",
    "\n",
    "response_experiment"
   ]
  },
  {
   "cell_type": "markdown",
   "metadata": {},
   "source": [
    "Next, we need to train our model.\n",
    "We will be using the V100 GPUs that are available on the DGX Workstation, which we can use by submitting our job to the `\"tensorflow_gpu\"` queue.\n",
    "We will train three models, a shallow network model, a LeNet-5 model, and an AlexNet model,"
   ]
  },
  {
   "cell_type": "code",
   "execution_count": 6,
   "metadata": {},
   "outputs": [
    {
     "name": "stdout",
     "output_type": "stream",
     "text": [
      "Training job for LeNet-5 neural network submitted\n",
      "\n",
      "{'createdOn': '2021-01-06T09:11:55.850117',\n",
      " 'dependsOn': None,\n",
      " 'entryPoint': 'train',\n",
      " 'entryPointKwargs': '-P batch_size=256 -P register_model=True -P '\n",
      "                     'model_architecture=le_net -P epochs=30 -P '\n",
      "                     'data_dir_train=/nfs/data/Mnist/training -P '\n",
      "                     'data_dir_test=/nfs/data/Mnist/testing',\n",
      " 'experimentId': 10,\n",
      " 'jobId': '13f2df67-d83a-4c3d-b9d9-0e9ceeb438c7',\n",
      " 'lastModified': '2021-01-06T09:11:55.850117',\n",
      " 'mlflowRunId': None,\n",
      " 'queueId': 2,\n",
      " 'status': 'queued',\n",
      " 'timeout': '1h',\n",
      " 'workflowUri': 's3://workflow/274ab17e3c7f44ccb7cccd3b28336b0a/workflows.tar.gz'}\n"
     ]
    }
   ],
   "source": [
    "response_le_net_train = restapi_client.submit_job(\n",
    "    workflows_file=WORKFLOWS_TAR_GZ,\n",
    "    experiment_name=EXPERIMENT_NAME,\n",
    "    entry_point=\"train\",\n",
    "    entry_point_kwargs=\" \".join([\n",
    "        \"-P batch_size=256\",\n",
    "        \"-P register_model=True\",\n",
    "        \"-P model_architecture=le_net\",\n",
    "        \"-P epochs=30\",\n",
    "        \"-P data_dir_train=/nfs/data/Mnist/training\",\n",
    "        \"-P data_dir_test=/nfs/data/Mnist/testing\",\n",
    "    ]),\n",
    "    queue=\"tensorflow_gpu\",\n",
    "    timeout=\"1h\",\n",
    ")\n",
    "\n",
    "print(\"Training job for LeNet-5 neural network submitted\")\n",
    "print(\"\")\n",
    "pprint.pprint(response_le_net_train)"
   ]
  },
  {
   "cell_type": "code",
   "execution_count": 7,
   "metadata": {},
   "outputs": [
    {
     "name": "stdout",
     "output_type": "stream",
     "text": [
      "Training job for LeNet-5 neural network submitted\n",
      "\n",
      "{'createdOn': '2021-01-06T09:11:55.850117',\n",
      " 'dependsOn': None,\n",
      " 'entryPoint': 'train',\n",
      " 'entryPointKwargs': '-P batch_size=256 -P register_model=True -P '\n",
      "                     'model_architecture=le_net -P epochs=30 -P '\n",
      "                     'data_dir_train=/nfs/data/Mnist/training -P '\n",
      "                     'data_dir_test=/nfs/data/Mnist/testing',\n",
      " 'experimentId': 10,\n",
      " 'jobId': '13f2df67-d83a-4c3d-b9d9-0e9ceeb438c7',\n",
      " 'lastModified': '2021-01-06T09:11:55.850117',\n",
      " 'mlflowRunId': None,\n",
      " 'queueId': 2,\n",
      " 'status': 'queued',\n",
      " 'timeout': '1h',\n",
      " 'workflowUri': 's3://workflow/274ab17e3c7f44ccb7cccd3b28336b0a/workflows.tar.gz'}\n"
     ]
    }
   ],
   "source": [
    "print(\"Training job for LeNet-5 neural network submitted\")\n",
    "print(\"\")\n",
    "pprint.pprint(response_le_net_train)"
   ]
  },
  {
   "cell_type": "markdown",
   "metadata": {},
   "source": [
    "We can poll the status of the dependent jobs using the code below.\n",
    "We should see the status of the jobs shift from \"queued\" to \"started\" and eventually become \"finished\"."
   ]
  },
  {
   "cell_type": "markdown",
   "metadata": {},
   "source": [
    "### Deploying and Testing Adversarial Patches\n",
    "\n",
    "Now we will apply the adversarial patches over our test set and evaluate the performance of the baseline model on the adversarial patches."
   ]
  },
  {
   "cell_type": "code",
   "execution_count": null,
   "metadata": {},
   "outputs": [
    {
     "name": "stdout",
     "output_type": "stream",
     "text": [
      "Patch attack (LeNet-5 architecture) job submitted\n",
      "\n",
      "{'createdOn': '2021-01-06T09:11:55.922676',\n",
      " 'dependsOn': '13f2df67-d83a-4c3d-b9d9-0e9ceeb438c7',\n",
      " 'entryPoint': 'gen_patch',\n",
      " 'entryPointKwargs': '-P model=howard_mnist_adversarial_patches_le_net/1 -P '\n",
      "                     'model_architecture=le_net -P '\n",
      "                     'data_dir=/nfs/data/Mnist/training -P '\n",
      "                     'num_patch_gen_samples=40 -P num_patch=3 -P '\n",
      "                     'patch_target=5',\n",
      " 'experimentId': 10,\n",
      " 'jobId': 'fa1b5ecc-e0de-460a-b039-cc739e84176d',\n",
      " 'lastModified': '2021-01-06T09:11:55.922676',\n",
      " 'mlflowRunId': None,\n",
      " 'queueId': 2,\n",
      " 'status': 'queued',\n",
      " 'timeout': '24h',\n",
      " 'workflowUri': 's3://workflow/ffb2ff91d52441e1b127744613ff3201/workflows.tar.gz'}\n",
      "\n",
      "Patch deployment (LeNet-5 architecture) job submitted\n",
      "\n",
      "{'createdOn': '2021-01-06T09:20:14.951432',\n",
      " 'dependsOn': 'fa1b5ecc-e0de-460a-b039-cc739e84176d',\n",
      " 'entryPoint': 'deploy_patch',\n",
      " 'entryPointKwargs': '-P run_id=a6184bb1c8b34d32a192dd589776d9ea -P '\n",
      "                     'model=howard_mnist_adversarial_patches_le_net/1 -P '\n",
      "                     'model_architecture=le_net -P '\n",
      "                     'data_dir=/nfs/data/Mnist/training',\n",
      " 'experimentId': 10,\n",
      " 'jobId': 'c703bdbb-de53-4990-9213-7253c56ef95a',\n",
      " 'lastModified': '2021-01-06T09:20:14.951432',\n",
      " 'mlflowRunId': None,\n",
      " 'queueId': 2,\n",
      " 'status': 'queued',\n",
      " 'timeout': '24h',\n",
      " 'workflowUri': 's3://workflow/e76491e4a1b341939fbd9ebafce4cfb4/workflows.tar.gz'}\n",
      "\n"
     ]
    }
   ],
   "source": [
    "def mlflow_run_id_is_not_known(response_patch):\n",
    "    return response_patch[\"mlflowRunId\"] is None and response_patch[\"status\"] not in [\n",
    "        \"failed\",\n",
    "        \"finished\",\n",
    "    ]\n",
    "\n",
    "\n",
    "# Create Patches\n",
    "response_le_net_patches = restapi_client.submit_job(\n",
    "    workflows_file=WORKFLOWS_TAR_GZ,\n",
    "    experiment_name=EXPERIMENT_NAME,\n",
    "    entry_point=\"gen_patch\",\n",
    "    entry_point_kwargs=\" \".join(\n",
    "        [\n",
    "            f\"-P model={EXPERIMENT_NAME}_le_net/1\",\n",
    "            \"-P model_architecture=le_net\",\n",
    "            \"-P data_dir=/nfs/data/Mnist/training\",\n",
    "            \"-P num_patch_gen_samples=40\",\n",
    "            \"-P num_patch=3\",\n",
    "            \"-P patch_target=5\",\n",
    "        ]\n",
    "    ),\n",
    "    queue=\"tensorflow_gpu\",\n",
    "    depends_on=response_le_net_train[\"jobId\"],\n",
    ")\n",
    "\n",
    "print(\"Patch attack (LeNet-5 architecture) job submitted\")\n",
    "print(\"\")\n",
    "pprint.pprint(response_le_net_patches)\n",
    "print(\"\")\n",
    "\n",
    "# Wait for Patch attack to finish.\n",
    "while mlflow_run_id_is_not_known(response_le_net_patches):\n",
    "    time.sleep(1)\n",
    "    response_le_net_patches = restapi_client.get_job_by_id(response_le_net_patches[\"jobId\"])\n",
    "\n",
    "\n",
    "# Deploy Patch attack on training set.\n",
    "response_deploy_le_net_patches_mnist_training = restapi_client.submit_job(\n",
    "    workflows_file=WORKFLOWS_TAR_GZ,\n",
    "    experiment_name=EXPERIMENT_NAME,\n",
    "    entry_point=\"deploy_patch\",\n",
    "    entry_point_kwargs=\" \".join(\n",
    "        [\n",
    "            f\"-P run_id={response_le_net_patches['mlflowRunId']}\",\n",
    "            f\"-P model={EXPERIMENT_NAME}_le_net/1\",\n",
    "            \"-P model_architecture=le_net\",\n",
    "            \"-P data_dir=/nfs/data/Mnist/training\",\n",
    "        ]\n",
    "    ),\n",
    "    queue=\"tensorflow_gpu\",\n",
    "    depends_on=response_le_net_patches[\"jobId\"],\n",
    ")\n",
    "\n",
    "print(\"Patch deployment (LeNet-5 architecture) job submitted\")\n",
    "print(\"\")\n",
    "pprint.pprint(response_deploy_le_net_patches_mnist_training)\n",
    "print(\"\")\n",
    "\n",
    "\n",
    "while mlflow_run_id_is_not_known(response_deploy_le_net_patches_mnist_training):\n",
    "    time.sleep(1)\n",
    "    response_deploy_le_net_patches_mnist_training = restapi_client.get_job_by_id(response_deploy_le_net_patches_mnist_training[\"jobId\"])\n",
    "\n",
    "    \n",
    "# Deploy Patch attack on test set.\n",
    "response_deploy_le_net_patches_mnist_testing = restapi_client.submit_job(\n",
    "    workflows_file=WORKFLOWS_TAR_GZ,\n",
    "    experiment_name=EXPERIMENT_NAME,\n",
    "    entry_point=\"deploy_patch\",\n",
    "    entry_point_kwargs=\" \".join(\n",
    "        [\n",
    "            f\"-P run_id={response_le_net_patches['mlflowRunId']}\",\n",
    "            f\"-P model={EXPERIMENT_NAME}_le_net/1\",\n",
    "            \"-P model_architecture=le_net\",\n",
    "            \"-P data_dir=/nfs/data/Mnist/testing\",\n",
    "        ]\n",
    "    ),\n",
    "    queue=\"tensorflow_gpu\",\n",
    "    depends_on=response_le_net_patches[\"jobId\"],\n",
    ")\n",
    "\n",
    "print(\"Patch deployment (LeNet-5 architecture) job submitted\")\n",
    "print(\"\")\n",
    "pprint.pprint(response_deploy_le_net_patches_mnist_testing)\n",
    "print(\"\")\n",
    "\n",
    "# Deploy Patches\n",
    "while mlflow_run_id_is_not_known(response_deploy_le_net_patches_mnist_testing):\n",
    "    time.sleep(1)\n",
    "    response_deploy_le_net_patches_mnist_testing = restapi_client.get_job_by_id(response_deploy_le_net_patches_mnist_testing[\"jobId\"])\n",
    "    "
   ]
  },
  {
   "cell_type": "code",
   "execution_count": null,
   "metadata": {},
   "outputs": [],
   "source": [
    "# Check patched dataset results   \n",
    "\n",
    "response_le_net_infer_le_net_patch = restapi_client.submit_job(\n",
    "    workflows_file=WORKFLOWS_TAR_GZ,\n",
    "    experiment_name=EXPERIMENT_NAME,\n",
    "    entry_point=\"infer\",\n",
    "    entry_point_kwargs=\" \".join(\n",
    "        [\n",
    "            f\"-P run_id={response_deploy_le_net_patches_mnist_testing['mlflowRunId']}\",\n",
    "            f\"-P model={EXPERIMENT_NAME}_le_net/1\",\n",
    "            \"-P model_architecture=le_net\",\n",
    "            \"-P batch_size=512\",\n",
    "            \"-P dataset_tar_name=adversarial_patch_dataset.tar.gz\",\n",
    "            \"-P dataset_name=adv_patch_dataset\",\n",
    "        ]\n",
    "    ),\n",
    "    queue=\"tensorflow_gpu\",\n",
    "    depends_on=response_deploy_le_net_patches_mnist_testing[\"jobId\"],\n",
    ")\n",
    "\n",
    "print(\"Patch evaluation (LeNet-5 architecture) job submitted\")\n",
    "print(\"\")\n",
    "pprint.pprint(response_deploy_le_net_patches_mnist_testing)\n",
    "print(\"\")"
   ]
  },
  {
   "cell_type": "markdown",
   "metadata": {},
   "source": [
    "### Adversarial Training Defense\n",
    "\n",
    "Finally, we will train a new copy of the VGG16 model on training set that contains adversarial patches."
   ]
  },
  {
   "cell_type": "code",
   "execution_count": null,
   "metadata": {},
   "outputs": [],
   "source": [
    "# Finally, train and retest patched dataset.\n",
    "\n",
    "response_deploy_le_net_patches_mnist_adv_training = restapi_client.submit_job(\n",
    "    workflows_file=WORKFLOWS_TAR_GZ,\n",
    "    experiment_name=EXPERIMENT_NAME,\n",
    "    entry_point=\"train\",\n",
    "    entry_point_kwargs=\" \".join(\n",
    "        [\n",
    "            f\"-P testing_dataset_run_id={response_deploy_le_net_patches_mnist_testing['mlflowRunId']}\",\n",
    "            f\"-P training_dataset_run_id={response_deploy_le_net_patches_mnist_training['mlflowRunId']}\",\n",
    "            \"-P batch_size=256\",\n",
    "            \"-P register_model=True\",\n",
    "            \"-P model_architecture=le_net\",\n",
    "            \"-P model_tag=adversarial_patch\",\n",
    "            \"-P epochs=30\",\n",
    "            \"-P data_dir_train=/nfs/data/Mnist/training\",\n",
    "            \"-P data_dir_test=/nfs/data/Mnist/testing\",\n",
    "            \"-P load_dataset_from_mlruns=True\",\n",
    "        ]\n",
    "    ),\n",
    "    queue=\"tensorflow_gpu\",\n",
    "    depends_on=response_deploy_le_net_patches_mnist_training[\"jobId\"],\n",
    ")\n",
    "\n",
    "\n",
    "print(\"Patch adversarial training (LeNet-5 architecture) job submitted\")\n",
    "print(\"\")\n",
    "pprint.pprint(response_deploy_le_net_patches_mnist_adv_training)\n",
    "print(\"\")"
   ]
  },
  {
   "cell_type": "code",
   "execution_count": null,
   "metadata": {},
   "outputs": [],
   "source": []
  },
  {
   "cell_type": "markdown",
   "metadata": {},
   "source": [
    "## Querying the MLFlow Tracking Service"
   ]
  },
  {
   "cell_type": "markdown",
   "metadata": {},
   "source": [
    "Currently the lab API can only be used to register experiments and start jobs, so if users wish to extract their results programmatically, they can use the `MlflowClient()` class from the `mlflow` Python package to connect and query their results.\n",
    "Since we captured the run ids generated by MLFlow, we can easily retrieve the data logged about one of our jobs and inspect the results.\n",
    "To start the client, we simply need to run,"
   ]
  },
  {
   "cell_type": "code",
   "execution_count": null,
   "metadata": {},
   "outputs": [],
   "source": [
    "mlflow_client = MlflowClient()"
   ]
  },
  {
   "cell_type": "markdown",
   "metadata": {},
   "source": [
    "The client uses the environment variable `MLFLOW_TRACKING_URI` to figure out how to connect to the MLFlow Tracking Service, which we configured near the top of this notebook.\n",
    "To query the results of one of our runs, we just need to pass the run id to the client's `get_run()` method.\n",
    "As an example, let's query the run results for the patch attack applied to the LeNet-5 architecture,"
   ]
  },
  {
   "cell_type": "code",
   "execution_count": null,
   "metadata": {},
   "outputs": [],
   "source": [
    "run_le_net = mlflow_client.get_run(response_le_net_patches[\"mlflowRunId\"])"
   ]
  },
  {
   "cell_type": "markdown",
   "metadata": {},
   "source": [
    "If the request completed successfully, we should now be able to query data collected during the run.\n",
    "For example, to review the collected metrics, we just use,"
   ]
  },
  {
   "cell_type": "code",
   "execution_count": null,
   "metadata": {},
   "outputs": [],
   "source": [
    "pprint.pprint(run_le_net.data.metrics)"
   ]
  },
  {
   "cell_type": "markdown",
   "metadata": {},
   "source": [
    "To review the run's parameters, we use,"
   ]
  },
  {
   "cell_type": "code",
   "execution_count": null,
   "metadata": {},
   "outputs": [],
   "source": [
    "pprint.pprint(run_le_net.data.params)"
   ]
  },
  {
   "cell_type": "markdown",
   "metadata": {},
   "source": [
    "To review the run's tags, we use,"
   ]
  },
  {
   "cell_type": "code",
   "execution_count": null,
   "metadata": {},
   "outputs": [],
   "source": [
    "pprint.pprint(run_le_net.data.tags)"
   ]
  },
  {
   "cell_type": "markdown",
   "metadata": {},
   "source": [
    "There are many things you can query using the MLFlow client.\n",
    "[The MLFlow documentation gives a full overview of the methods that are available](https://www.mlflow.org/docs/latest/python_api/mlflow.tracking.html#mlflow.tracking.MlflowClient)."
   ]
  }
 ],
 "metadata": {
  "kernelspec": {
   "display_name": "Python 3",
   "language": "python",
   "name": "python3"
  },
  "language_info": {
   "codemirror_mode": {
    "name": "ipython",
    "version": 3
   },
   "file_extension": ".py",
   "mimetype": "text/x-python",
   "name": "python",
   "nbconvert_exporter": "python",
   "pygments_lexer": "ipython3",
   "version": "3.7.7"
  }
 },
 "nbformat": 4,
 "nbformat_minor": 4
}
