{
 "cells": [
  {
   "cell_type": "markdown",
   "metadata": {},
   "source": [
    "# Tensorflow Fruits360-VGG16 Patch Demo\n",
    "\n",
    "This notebook demonstrates the adversarial patch attack applied on the VGG16 model, as well as adversarial training defenses.\n",
    "\n",
    "The following two sections cover experiment setup and is similar across all demos."
   ]
  },
  {
   "cell_type": "markdown",
   "metadata": {},
   "source": [
    "## Setup: Experiment Name and Fruits360 Dataset\n",
    "\n",
    "Here we will import the necessary Python modules and ensure the proper environment variables are set so that all the code blocks will work as expected.\n",
    "\n",
    "### Important: Users will need to verify or update the following parameters:\n",
    "- Ensure that the `USERNAME` parameter is set to your own name.\n",
    "- Ensure that the `DATASET_DIR` parameter is set to the location of the Fruits360 dataset directory. Currently set to `/nfs/data/Fruits360-Kaggle-2019/fruits-360` as the default location.\n",
    "- (Optional) Set the `EXPERIMENT_NAME` parameter to your own preferred experiment name.\n",
    "\n",
    "Other parameters can be modified to alter the RESTful API and MLFlow tracking addresses. "
   ]
  },
  {
   "cell_type": "code",
   "execution_count": 1,
   "metadata": {},
   "outputs": [],
   "source": [
    "# Import packages from the Python standard library\n",
    "import os\n",
    "import pprint\n",
    "import time\n",
    "import warnings\n",
    "from pathlib import Path\n",
    "from typing import Tuple\n",
    "\n",
    "# Please enter custom username here.\n",
    "USERNAME = \"howard\"\n",
    "\n",
    "# Ensure that the dataset location is properly set here.\n",
    "DATASET_DIR = \"/nfs/data/Fruits360-Kaggle-2019/fruits-360\"\n",
    "\n",
    "# Filter out warning messages\n",
    "warnings.filterwarnings(\"ignore\")\n",
    "\n",
    "# Default address for accessing the RESTful API service\n",
    "RESTAPI_ADDRESS = \"http://localhost:30080\"\n",
    "\n",
    "# Base API address\n",
    "RESTAPI_API_BASE = f\"{RESTAPI_ADDRESS}/api\"\n",
    "\n",
    "# Default address for accessing the MLFlow Tracking server\n",
    "MLFLOW_TRACKING_URI = \"http://localhost:35000\"\n",
    "\n",
    "# Path to workflows archive\n",
    "WORKFLOWS_TAR_GZ = Path(\"workflows.tar.gz\")\n",
    "\n",
    "# Experiment name (note the username_ prefix convention)\n",
    "EXPERIMENT_NAME = f\"{USERNAME}_fruits360_adversarial_patches\"\n",
    "\n",
    "# Set MLFLOW_TRACKING_URI variable, used to connect to MLFlow Tracking service\n",
    "if os.getenv(\"MLFLOW_TRACKING_URI\") is None:\n",
    "    os.environ[\"MLFLOW_TRACKING_URI\"] = MLFLOW_TRACKING_URI\n",
    "\n",
    "# Import third-party Python packages\n",
    "import numpy as np\n",
    "import requests\n",
    "from mlflow.tracking import MlflowClient\n",
    "\n",
    "# Import utils.py file\n",
    "import utils\n",
    "\n",
    "# Create random number generator\n",
    "rng = np.random.default_rng(54399264723942495723666216079516778448)"
   ]
  },
  {
   "cell_type": "markdown",
   "metadata": {},
   "source": [
    "Check that the Makefile works in your environment by executing the `bash` code block below,"
   ]
  },
  {
   "cell_type": "code",
   "execution_count": 2,
   "metadata": {},
   "outputs": [
    {
     "name": "stdout",
     "output_type": "stream",
     "text": [
      "\u001b[1mAvailable rules:\u001b[m\n",
      "\n",
      "\u001b[36mclean              \u001b[m Remove temporary files \n",
      "\u001b[36mdata               \u001b[m Download and prepare MNIST dataset \n",
      "\u001b[36minitdb             \u001b[m Initialize the RESTful API database \n",
      "\u001b[36mservices           \u001b[m Launch the Minio S3 and MLFlow Tracking services \n",
      "\u001b[36mteardown           \u001b[m Destroy service containers \n",
      "\u001b[36mworkflows          \u001b[m Create workflows tarball \n"
     ]
    }
   ],
   "source": [
    "%%bash\n",
    "\n",
    "# Running this will just list the available rules defined in the demo's Makefile.\n",
    "make"
   ]
  },
  {
   "cell_type": "markdown",
   "metadata": {},
   "source": [
    "### Fruits360 Dataset Overview:\n",
    "The training and testing images in this directory are saved as JPEG files and are organized into the following folder structure:\n",
    "    \n",
    "    fruits360\n",
    "    ├── Test\n",
    "    │   ├── Apple Braeburn\n",
    "    │   ├── Apple Crimson Snow\n",
    "    │   ├── Apple Golden 1\n",
    "    │   ├── Apple Golden 2\n",
    "    │   ├── Apple Golden 3\n",
    "    │   ├── ...\n",
    "    │   └── Walnut\n",
    "    └── Training\n",
    "    │   ├── Apple Braeburn\n",
    "    │   ├── Apple Crimson Snow\n",
    "    │   ├── Apple Golden 1\n",
    "    │   ├── Apple Golden 2\n",
    "    │   ├── Apple Golden 3\n",
    "    │   ├── ...\n",
    "    │   └── Walnut\n",
    "  \n",
    "  \n",
    "  The subfolders under `fruits360/Training/` and `fruits360/Test` are the classification labels for the images in the dataset.\n",
    "  There are 120 labels or subfolders for the training and test sets.\n",
    "\n",
    "This folder structure is a standardized way to encode the label information and many libraries can make use of it, including the Tensorflow library that we are using for this particular demo."
   ]
  },
  {
   "cell_type": "markdown",
   "metadata": {},
   "source": [
    "## Setup: REST API and Source Code\n",
    "\n",
    "The jobs that we will be running are implemented in the Python source files under `src/`, which will be executed using the entrypoints defined in the `MLproject` file.\n",
    "To get this information into the architecture, we need to package those files up into an archive and upload it to the lab API.\n",
    "For convenience, the `Makefile` provides a rule for creating the archive file, just run `make workflows`,"
   ]
  },
  {
   "cell_type": "code",
   "execution_count": 3,
   "metadata": {},
   "outputs": [
    {
     "name": "stdout",
     "output_type": "stream",
     "text": [
      "make: Nothing to be done for 'workflows'.\n"
     ]
    }
   ],
   "source": [
    "%%bash\n",
    "\n",
    "# Create the workflows.tar.gz file\n",
    "make workflows"
   ]
  },
  {
   "cell_type": "markdown",
   "metadata": {},
   "source": [
    "To connect with the endpoint, we will use a client class defined in the `utils.py` file that is able to connect with the lab's RESTful API using the HTTP protocol.\n",
    "We connect using the client below,"
   ]
  },
  {
   "cell_type": "code",
   "execution_count": 4,
   "metadata": {},
   "outputs": [],
   "source": [
    "restapi_client = utils.SecuringAIClient(address=RESTAPI_API_BASE)"
   ]
  },
  {
   "cell_type": "markdown",
   "metadata": {},
   "source": [
    "We need to register an experiment under which to collect our job runs.\n",
    "The code below checks if the relevant experiment exists.\n",
    "If it does, then it just returns info about the experiment, if it doesn't, it then registers the new experiment."
   ]
  },
  {
   "cell_type": "code",
   "execution_count": 5,
   "metadata": {},
   "outputs": [
    {
     "data": {
      "text/plain": [
       "{'createdOn': '2020-11-05T09:37:19.652250',\n",
       " 'experimentId': 11,\n",
       " 'lastModified': '2020-11-05T09:37:19.652250',\n",
       " 'name': 'howard_fruits360_adversarial_patches'}"
      ]
     },
     "execution_count": 5,
     "metadata": {},
     "output_type": "execute_result"
    }
   ],
   "source": [
    "response_experiment = restapi_client.get_experiment_by_name(name=EXPERIMENT_NAME)\n",
    "\n",
    "if response_experiment is None or \"Not Found\" in response_experiment.get(\"message\", []):\n",
    "    response_experiment = restapi_client.register_experiment(name=EXPERIMENT_NAME)\n",
    "\n",
    "response_experiment"
   ]
  },
  {
   "cell_type": "markdown",
   "metadata": {},
   "source": [
    "### The following sections will now cover the adversarial patch demo.\n",
    "\n",
    "\n",
    "\n",
    "\n"
   ]
  },
  {
   "cell_type": "markdown",
   "metadata": {},
   "source": [
    "# Adversarial Patches: Baseline Training\n",
    "\n",
    "Now, we will train our baseline VGG16 model on the Fruits360 dataset. \n",
    "We will be submitting our jobs to the `\"tensorflow_gpu\"` queue.\n",
    "\n",
    "Once the experiment is finished, we will examine the accuracy results of our model."
   ]
  },
  {
   "cell_type": "code",
   "execution_count": 6,
   "metadata": {},
   "outputs": [
    {
     "name": "stdout",
     "output_type": "stream",
     "text": [
      "Training job for VGG16 neural network submitted\n",
      "\n",
      "{'createdOn': '2021-02-14T08:41:36.221163',\n",
      " 'dependsOn': None,\n",
      " 'entryPoint': 'train',\n",
      " 'entryPointKwargs': '-P batch_size=20 -P register_model=True -P '\n",
      "                     'model_architecture=vgg16 -P epochs=30 -P '\n",
      "                     'data_dir_train=/nfs/data/Fruits360-Kaggle-2019/fruits-360/Training '\n",
      "                     '-P '\n",
      "                     'data_dir_test=/nfs/data/Fruits360-Kaggle-2019/fruits-360/Test',\n",
      " 'experimentId': 11,\n",
      " 'jobId': '1926a003-02ee-4c42-b6e1-98632c2b1754',\n",
      " 'lastModified': '2021-02-14T08:41:36.221163',\n",
      " 'mlflowRunId': None,\n",
      " 'queueId': 2,\n",
      " 'status': 'queued',\n",
      " 'timeout': '1h',\n",
      " 'workflowUri': 's3://workflow/a4d0b3f056c84737acc5ec3399293a0b/workflows.tar.gz'}\n"
     ]
    }
   ],
   "source": [
    "response_vgg16_train = restapi_client.submit_job(\n",
    "    workflows_file=WORKFLOWS_TAR_GZ,\n",
    "    experiment_name=EXPERIMENT_NAME,\n",
    "    entry_point=\"train\",\n",
    "    entry_point_kwargs=\" \".join([\n",
    "        \"-P batch_size=20\",\n",
    "        \"-P register_model=True\",\n",
    "        \"-P model_architecture=vgg16\",\n",
    "        \"-P epochs=30\",\n",
    "        f\"-P data_dir_train={DATASET_DIR}/Training\",\n",
    "        f\"-P data_dir_test={DATASET_DIR}/Test\",\n",
    "    ]),\n",
    "    queue=\"tensorflow_gpu\",\n",
    "    timeout=\"1h\",\n",
    ")\n",
    "\n",
    "print(\"Training job for VGG16 neural network submitted\")\n",
    "print(\"\")\n",
    "pprint.pprint(response_vgg16_train)"
   ]
  },
  {
   "cell_type": "code",
   "execution_count": 7,
   "metadata": {},
   "outputs": [],
   "source": [
    "# The following helper functions will recheck the job responses until the job is completed or a run ID is available. \n",
    "# The run ID is needed to link dependencies between jobs.\n",
    "\n",
    "def mlflow_run_id_is_not_known(job_response):\n",
    "    return job_response[\"mlflowRunId\"] is None and job_response[\"status\"] not in [\n",
    "        \"failed\",\n",
    "        \"finished\",\n",
    "    ]\n",
    "\n",
    "def get_run_id(job_response):\n",
    "    while mlflow_run_id_is_not_known(job_response):\n",
    "        time.sleep(1)\n",
    "        job_response = restapi_client.get_job_by_id(job_response[\"jobId\"])\n",
    "        \n",
    "    return job_response\n",
    "\n",
    "def wait_until_finished(job_response):\n",
    "    # First make sure job has started.\n",
    "    job_response = get_run_id(job_response)\n",
    "    \n",
    "    # Next re-check job until it has stopped running.\n",
    "    while (job_response[\"status\"] not in [\"failed\", \"finished\"]):\n",
    "        time.sleep(1)\n",
    "        job_response = restapi_client.get_job_by_id(job_response[\"jobId\"])\n",
    "    \n",
    "    return job_response\n",
    "\n",
    "    "
   ]
  },
  {
   "cell_type": "code",
   "execution_count": 8,
   "metadata": {},
   "outputs": [
    {
     "name": "stdout",
     "output_type": "stream",
     "text": [
      "Training job for VGG16 neural network\n",
      "{'createdOn': '2021-02-14T08:41:36.221163',\n",
      " 'dependsOn': None,\n",
      " 'entryPoint': 'train',\n",
      " 'entryPointKwargs': '-P batch_size=20 -P register_model=True -P '\n",
      "                     'model_architecture=vgg16 -P epochs=30 -P '\n",
      "                     'data_dir_train=/nfs/data/Fruits360-Kaggle-2019/fruits-360/Training '\n",
      "                     '-P '\n",
      "                     'data_dir_test=/nfs/data/Fruits360-Kaggle-2019/fruits-360/Test',\n",
      " 'experimentId': 11,\n",
      " 'jobId': '1926a003-02ee-4c42-b6e1-98632c2b1754',\n",
      " 'lastModified': '2021-02-14T09:08:17.050865',\n",
      " 'mlflowRunId': '985d7aaf6da242f79704de004fb9f102',\n",
      " 'queueId': 2,\n",
      " 'status': 'finished',\n",
      " 'timeout': '1h',\n",
      " 'workflowUri': 's3://workflow/a4d0b3f056c84737acc5ec3399293a0b/workflows.tar.gz'}\n"
     ]
    }
   ],
   "source": [
    "# Now wait for the job to complete before proceeding to next steps.\n",
    "\n",
    "response_vgg16_train = wait_until_finished(response_vgg16_train)\n",
    "print(\"Training job for VGG16 neural network\")\n",
    "pprint.pprint(response_vgg16_train)"
   ]
  },
  {
   "cell_type": "markdown",
   "metadata": {},
   "source": [
    "## Checking baseline VGG16 job accuracy.\n",
    "\n",
    "Once the job has finished running we can view the results either through the MLflow URI or by accessing the job via MLflow client.\n",
    "\n",
    "Here we will show the baseline accuracy results from the previous training job.\n",
    "\n",
    "Please see [Querying the MLFlow Tracking Service](#querying_cell) section for more details. "
   ]
  },
  {
   "cell_type": "code",
   "execution_count": 9,
   "metadata": {},
   "outputs": [
    {
     "name": "stdout",
     "output_type": "stream",
     "text": [
      "{'accuracy': 0.9999380707740784,\n",
      " 'auc': 1.0,\n",
      " 'fn': 3.0,\n",
      " 'fp': 3.0,\n",
      " 'loss': 0.00020960499134656813,\n",
      " 'precision': 0.9999380707740784,\n",
      " 'recall': 0.9999380707740784,\n",
      " 'restored_epoch': 6.0,\n",
      " 'stopped_epoch': 11.0,\n",
      " 'tn': 5763286.0,\n",
      " 'tp': 48428.0,\n",
      " 'training_time_in_minutes': 25.5569761,\n",
      " 'val_accuracy': 0.9912985563278198,\n",
      " 'val_auc': 0.9986258149147034,\n",
      " 'val_fn': 108.0,\n",
      " 'val_fp': 102.0,\n",
      " 'val_loss': 0.043770697606182296,\n",
      " 'val_precision': 0.9915429949760437,\n",
      " 'val_recall': 0.9910499453544617,\n",
      " 'val_tn': 1435871.0,\n",
      " 'val_tp': 11959.0}\n"
     ]
    }
   ],
   "source": [
    "# Helper function for viewing MLflow results.\n",
    "def get_mlflow_results(job_response):\n",
    "    mlflow_client = MlflowClient()\n",
    "    job_response = wait_until_finished(job_response)\n",
    "    \n",
    "    if(job_response['status']==\"failed\"):\n",
    "        return {}\n",
    "    \n",
    "    run = mlflow_client.get_run(job_response[\"mlflowRunId\"])  \n",
    "    \n",
    "    while(len(run.data.metrics) == 0):\n",
    "        time.sleep(1)\n",
    "        run = mlflow_client.get_run(job_response[\"mlflowRunId\"])\n",
    "        \n",
    "    return run\n",
    "        \n",
    "results = get_mlflow_results(response_vgg16_train)\n",
    "pprint.pprint(results.data.metrics)"
   ]
  },
  {
   "cell_type": "markdown",
   "metadata": {},
   "source": [
    "## Deploying and Testing Adversarial Patches"
   ]
  },
  {
   "cell_type": "markdown",
   "metadata": {},
   "source": [
    "Now we will create and apply the adversarial patches over our test set and evaluate the performance of the baseline model on the adversarial patches.\n",
    "\n",
    "We will also apply the patches over the training set for the adversarial training defense evaluation."
   ]
  },
  {
   "cell_type": "markdown",
   "metadata": {},
   "source": [
    "### Patch Generation:\n",
    "The following job will generate the adversarial patches. \n",
    "\n",
    "Feel free to adjust the input parameters to see how they impact the effectiveness of the patch attack."
   ]
  },
  {
   "cell_type": "code",
   "execution_count": 10,
   "metadata": {},
   "outputs": [
    {
     "name": "stdout",
     "output_type": "stream",
     "text": [
      "Patch attack (VGG16 architecture) job submitted\n",
      "\n",
      "{'createdOn': '2021-02-14T09:08:17.705333',\n",
      " 'dependsOn': '1926a003-02ee-4c42-b6e1-98632c2b1754',\n",
      " 'entryPoint': 'gen_patch',\n",
      " 'entryPointKwargs': '-P model=howard_fruits360_adversarial_patches_vgg16/1 -P '\n",
      "                     'model_architecture=vgg16 -P '\n",
      "                     'data_dir=/nfs/data/Fruits360-Kaggle-2019/fruits-360/Training '\n",
      "                     '-P num_patch_gen_samples=20 -P num_patch=1 -P '\n",
      "                     'patch_target=5',\n",
      " 'experimentId': 11,\n",
      " 'jobId': '325d0a68-10ad-4843-9122-a450519524da',\n",
      " 'lastModified': '2021-02-14T09:08:17.705333',\n",
      " 'mlflowRunId': None,\n",
      " 'queueId': 2,\n",
      " 'status': 'queued',\n",
      " 'timeout': '24h',\n",
      " 'workflowUri': 's3://workflow/a23aa3e7e6da49518ff971308c56e260/workflows.tar.gz'}\n",
      "\n"
     ]
    }
   ],
   "source": [
    "# Create Patches\n",
    "response_vgg16_patches = restapi_client.submit_job(\n",
    "    workflows_file=WORKFLOWS_TAR_GZ,\n",
    "    experiment_name=EXPERIMENT_NAME,\n",
    "    entry_point=\"gen_patch\",\n",
    "    entry_point_kwargs=\" \".join(\n",
    "        [\n",
    "            f\"-P model={EXPERIMENT_NAME}_vgg16/1\",\n",
    "            \"-P model_architecture=vgg16\",\n",
    "            f\"-P data_dir={DATASET_DIR}/Training\",\n",
    "            \"-P num_patch_gen_samples=20\",\n",
    "            \"-P num_patch=1\",\n",
    "            \"-P patch_target=5\"\n",
    "        ]\n",
    "    ),\n",
    "    queue=\"tensorflow_gpu\",\n",
    "    depends_on=response_vgg16_train[\"jobId\"],\n",
    ")\n",
    "\n",
    "print(\"Patch attack (VGG16 architecture) job submitted\")\n",
    "print(\"\")\n",
    "pprint.pprint(response_vgg16_patches)\n",
    "print(\"\")\n",
    "\n",
    "response_vgg16_patches = get_run_id(response_vgg16_patches)"
   ]
  },
  {
   "cell_type": "markdown",
   "metadata": {},
   "source": [
    "### Deploying and Testing Adversarial Patches:\n",
    "\n",
    "Now we will apply the adversarial patches over our test set and evaluate the performance of the baseline model on the adversarial patches."
   ]
  },
  {
   "cell_type": "code",
   "execution_count": 11,
   "metadata": {},
   "outputs": [
    {
     "name": "stdout",
     "output_type": "stream",
     "text": [
      "Patch deployment (VGG16 architecture) job submitted\n",
      "\n",
      "{'createdOn': '2021-02-14T09:08:21.826606',\n",
      " 'dependsOn': '325d0a68-10ad-4843-9122-a450519524da',\n",
      " 'entryPoint': 'deploy_patch',\n",
      " 'entryPointKwargs': '-P run_id=8106d9ea17a54c3cb3e72bbd9702c9c9 -P '\n",
      "                     'model=howard_fruits360_adversarial_patches_vgg16/1 -P '\n",
      "                     'model_architecture=vgg16 -P '\n",
      "                     'data_dir=/nfs/data/Fruits360-Kaggle-2019/fruits-360/Training',\n",
      " 'experimentId': 11,\n",
      " 'jobId': 'af05a67f-e7ba-4dbe-94b1-da4f9a97fc47',\n",
      " 'lastModified': '2021-02-14T09:08:21.826606',\n",
      " 'mlflowRunId': None,\n",
      " 'queueId': 2,\n",
      " 'status': 'queued',\n",
      " 'timeout': '24h',\n",
      " 'workflowUri': 's3://workflow/890b0d89c9dd4734a0bd3a1704f98c19/workflows.tar.gz'}\n",
      "\n",
      "Patch deployment (VGG16 architecture) job submitted\n",
      "\n",
      "{'createdOn': '2021-02-14T09:21:36.767584',\n",
      " 'dependsOn': '325d0a68-10ad-4843-9122-a450519524da',\n",
      " 'entryPoint': 'deploy_patch',\n",
      " 'entryPointKwargs': '-P run_id=8106d9ea17a54c3cb3e72bbd9702c9c9 -P '\n",
      "                     'model=howard_fruits360_adversarial_patches_vgg16/1 -P '\n",
      "                     'model_architecture=vgg16 -P '\n",
      "                     'data_dir=/nfs/data/Fruits360-Kaggle-2019/fruits-360/Test '\n",
      "                     '-P patch_deployment_method=corrupt',\n",
      " 'experimentId': 11,\n",
      " 'jobId': '8b7a3ffb-8f41-4a3d-82c6-ded2c7e63d1c',\n",
      " 'lastModified': '2021-02-14T09:21:36.767584',\n",
      " 'mlflowRunId': None,\n",
      " 'queueId': 2,\n",
      " 'status': 'queued',\n",
      " 'timeout': '24h',\n",
      " 'workflowUri': 's3://workflow/1a91da03c3574e6da7be4dded4f3dadb/workflows.tar.gz'}\n",
      "\n"
     ]
    }
   ],
   "source": [
    "# Deploy Patch attack on training set.\n",
    "response_deploy_vgg16_patches_training = restapi_client.submit_job(\n",
    "    workflows_file=WORKFLOWS_TAR_GZ,\n",
    "    experiment_name=EXPERIMENT_NAME,\n",
    "    entry_point=\"deploy_patch\",\n",
    "    entry_point_kwargs=\" \".join(\n",
    "        [\n",
    "            f\"-P run_id={response_vgg16_patches['mlflowRunId']}\",\n",
    "            f\"-P model={EXPERIMENT_NAME}_vgg16/1\",\n",
    "            \"-P model_architecture=vgg16\",\n",
    "            f\"-P data_dir={DATASET_DIR}/Training\",\n",
    "        ]\n",
    "    ),\n",
    "    queue=\"tensorflow_gpu\",\n",
    "    depends_on=response_vgg16_patches[\"jobId\"],\n",
    ")\n",
    "\n",
    "print(\"Patch deployment (VGG16 architecture) job submitted\")\n",
    "print(\"\")\n",
    "pprint.pprint(response_deploy_vgg16_patches_training)\n",
    "print(\"\")\n",
    "\n",
    "response_deploy_vgg16_patches_training = get_run_id(response_deploy_vgg16_patches_training)\n",
    "\n",
    "    \n",
    "# Deploy Patch attack on test set.\n",
    "response_deploy_vgg16_patches_testing = restapi_client.submit_job(\n",
    "    workflows_file=WORKFLOWS_TAR_GZ,\n",
    "    experiment_name=EXPERIMENT_NAME,\n",
    "    entry_point=\"deploy_patch\",\n",
    "    entry_point_kwargs=\" \".join(\n",
    "        [\n",
    "            f\"-P run_id={response_vgg16_patches['mlflowRunId']}\",\n",
    "            f\"-P model={EXPERIMENT_NAME}_vgg16/1\",\n",
    "            \"-P model_architecture=vgg16\",\n",
    "            f\"-P data_dir={DATASET_DIR}/Test\",\n",
    "            \"-P patch_deployment_method=corrupt\"\n",
    "        ]\n",
    "    ),\n",
    "    queue=\"tensorflow_gpu\",\n",
    "    depends_on=response_vgg16_patches[\"jobId\"],\n",
    ")\n",
    "\n",
    "print(\"Patch deployment (VGG16 architecture) job submitted\")\n",
    "print(\"\")\n",
    "pprint.pprint(response_deploy_vgg16_patches_testing)\n",
    "print(\"\")\n",
    "\n",
    "response_deploy_vgg16_patches_testing = get_run_id(response_deploy_vgg16_patches_testing)\n",
    "    "
   ]
  },
  {
   "cell_type": "markdown",
   "metadata": {},
   "source": [
    "## Patch Attack Evaluation: Baseline VGG16 Model\n",
    "Now we will run an inference step to check the patch-attacked dataset with our VGG16-trained model."
   ]
  },
  {
   "cell_type": "code",
   "execution_count": 12,
   "metadata": {},
   "outputs": [
    {
     "name": "stdout",
     "output_type": "stream",
     "text": [
      "Patch evaluation (VGG16 architecture) job submitted\n",
      "\n",
      "{'createdOn': '2021-02-14T09:21:40.892260',\n",
      " 'dependsOn': '8b7a3ffb-8f41-4a3d-82c6-ded2c7e63d1c',\n",
      " 'entryPoint': 'infer',\n",
      " 'entryPointKwargs': '-P run_id=6646fe2f2e4e46c6a031a162d703559b -P '\n",
      "                     'model=howard_fruits360_adversarial_patches_vgg16/1 -P '\n",
      "                     'batch_size=512 -P model_architecture=vgg16 -P '\n",
      "                     'dataset_tar_name=adversarial_patch_dataset.tar.gz -P '\n",
      "                     'dataset_name=adv_patch_dataset',\n",
      " 'experimentId': 11,\n",
      " 'jobId': '1d756b95-3213-4f67-bd22-c2c5d3895f4d',\n",
      " 'lastModified': '2021-02-14T09:21:40.892260',\n",
      " 'mlflowRunId': None,\n",
      " 'queueId': 2,\n",
      " 'status': 'queued',\n",
      " 'timeout': '24h',\n",
      " 'workflowUri': 's3://workflow/1ee0dce953ef4defa270ffc7c5de91ba/workflows.tar.gz'}\n",
      "\n"
     ]
    }
   ],
   "source": [
    "# Check patched dataset results   \n",
    "response_infer_vgg16_patch = restapi_client.submit_job(\n",
    "    workflows_file=WORKFLOWS_TAR_GZ,\n",
    "    experiment_name=EXPERIMENT_NAME,\n",
    "    entry_point=\"infer\",\n",
    "    entry_point_kwargs=\" \".join(\n",
    "        [\n",
    "            f\"-P run_id={response_deploy_vgg16_patches_testing['mlflowRunId']}\",\n",
    "            f\"-P model={EXPERIMENT_NAME}_vgg16/1\",\n",
    "            \"-P batch_size=512\",\n",
    "            \"-P model_architecture=vgg16\",\n",
    "            \"-P dataset_tar_name=adversarial_patch_dataset.tar.gz\",\n",
    "            \"-P dataset_name=adv_patch_dataset\",\n",
    "        ]\n",
    "    ),\n",
    "    queue=\"tensorflow_gpu\",\n",
    "    depends_on=response_deploy_vgg16_patches_testing[\"jobId\"],\n",
    ")\n",
    "\n",
    "print(\"Patch evaluation (VGG16 architecture) job submitted\")\n",
    "print(\"\")\n",
    "pprint.pprint(response_infer_vgg16_patch)\n",
    "print(\"\")"
   ]
  },
  {
   "cell_type": "code",
   "execution_count": 13,
   "metadata": {},
   "outputs": [
    {
     "name": "stdout",
     "output_type": "stream",
     "text": [
      "Baseline model results on adversarially patched dataset: \n",
      "{'accuracy': 0.7092876434326172,\n",
      " 'auc': 0.9357548952102661,\n",
      " 'fn': 6226.0,\n",
      " 'fp': 5297.0,\n",
      " 'loss': 1.7336138808486625,\n",
      " 'precision': 0.7308298349380493,\n",
      " 'recall': 0.6978843212127686,\n",
      " 'tn': 2447055.0,\n",
      " 'tp': 14382.0}\n"
     ]
    }
   ],
   "source": [
    "# Wait for the job to finish\n",
    "response_infer_vgg16_patch = wait_until_finished(response_infer_vgg16_patch)\n",
    "\n",
    "# Check on the patch evaluation results\n",
    "results = get_mlflow_results(response_infer_vgg16_patch)\n",
    "print(\"Baseline model results on adversarially patched dataset: \")\n",
    "pprint.pprint(results.data.metrics)"
   ]
  },
  {
   "cell_type": "markdown",
   "metadata": {},
   "source": [
    "\n",
    "We can see that the adversarial patch attack causes a noticeable decrease in the model's accuracy scores.\n",
    "\n",
    "We will now test various defenses against the patch attacked images."
   ]
  },
  {
   "cell_type": "markdown",
   "metadata": {},
   "source": [
    "# Defense: Adversarial Training\n",
    "\n",
    "The next part of the adversarial patch demo focuses on investigating effective defenses against the attack."
   ]
  },
  {
   "cell_type": "markdown",
   "metadata": {},
   "source": [
    "### Adversarial Training Defense\n",
    "\n",
    "We will train a new copy of the VGG16 model on training set that contains adversarial patches.\n",
    "\n",
    "In doing so, the model learns to ignore the adversarial patches."
   ]
  },
  {
   "cell_type": "code",
   "execution_count": 14,
   "metadata": {},
   "outputs": [
    {
     "name": "stdout",
     "output_type": "stream",
     "text": [
      "Patch adversarial training (VGG16 architecture) job submitted\n",
      "\n",
      "{'createdOn': '2021-02-14T09:54:51.952135',\n",
      " 'dependsOn': 'af05a67f-e7ba-4dbe-94b1-da4f9a97fc47',\n",
      " 'entryPoint': 'train',\n",
      " 'entryPointKwargs': '-P '\n",
      "                     'testing_dataset_run_id=6646fe2f2e4e46c6a031a162d703559b '\n",
      "                     '-P '\n",
      "                     'training_dataset_run_id=1e2f8da010d4430c8233aae74da93ad8 '\n",
      "                     '-P batch_size=256 -P register_model=True -P '\n",
      "                     'model_architecture=vgg16 -P model_tag=adversarial_patch '\n",
      "                     '-P epochs=10 -P '\n",
      "                     'data_dir_train=/nfs/data/Fruits360-Kaggle-2019/fruits-360/Training '\n",
      "                     '-P '\n",
      "                     'data_dir_test=/nfs/data/Fruits360-Kaggle-2019/fruits-360/Test '\n",
      "                     '-P load_dataset_from_mlruns=True',\n",
      " 'experimentId': 11,\n",
      " 'jobId': '645fdc4e-c66b-4b35-82ed-af3e40138714',\n",
      " 'lastModified': '2021-02-14T09:54:51.952135',\n",
      " 'mlflowRunId': None,\n",
      " 'queueId': 2,\n",
      " 'status': 'queued',\n",
      " 'timeout': '24h',\n",
      " 'workflowUri': 's3://workflow/6601ce80a9c146c09072ac101cc8e9b7/workflows.tar.gz'}\n",
      "\n"
     ]
    }
   ],
   "source": [
    "response_patches_adv_training = restapi_client.submit_job(\n",
    "    workflows_file=WORKFLOWS_TAR_GZ,\n",
    "    experiment_name=EXPERIMENT_NAME,\n",
    "    entry_point=\"train\",\n",
    "    entry_point_kwargs=\" \".join(\n",
    "        [\n",
    "            f\"-P testing_dataset_run_id={response_deploy_vgg16_patches_testing['mlflowRunId']}\",\n",
    "            f\"-P training_dataset_run_id={response_deploy_vgg16_patches_training['mlflowRunId']}\",\n",
    "            \"-P batch_size=256\",\n",
    "            \"-P register_model=True\",\n",
    "            \"-P model_architecture=vgg16\",\n",
    "            \"-P model_tag=adversarial_patch\",\n",
    "            \"-P epochs=10\",\n",
    "            f\"-P data_dir_train={DATASET_DIR}/Training\",\n",
    "            f\"-P data_dir_test={DATASET_DIR}/Test\",\n",
    "            \"-P load_dataset_from_mlruns=True\",\n",
    "        ]\n",
    "    ),\n",
    "    queue=\"tensorflow_gpu\",\n",
    "    depends_on=response_deploy_vgg16_patches_training[\"jobId\"],\n",
    ")\n",
    "\n",
    "print(\"Patch adversarial training (VGG16 architecture) job submitted\")\n",
    "print(\"\")\n",
    "pprint.pprint(response_patches_adv_training)\n",
    "print(\"\")\n",
    "\n",
    "response_patches_adv_training = get_run_id(response_patches_adv_training)"
   ]
  },
  {
   "cell_type": "code",
   "execution_count": 15,
   "metadata": {},
   "outputs": [
    {
     "name": "stdout",
     "output_type": "stream",
     "text": [
      "Patch evaluation job submitted\n",
      "\n",
      "{'createdOn': '2021-02-14T11:00:42.315694',\n",
      " 'dependsOn': '645fdc4e-c66b-4b35-82ed-af3e40138714',\n",
      " 'entryPoint': 'infer',\n",
      " 'entryPointKwargs': '-P run_id=6646fe2f2e4e46c6a031a162d703559b -P '\n",
      "                     'model=howard_fruits360_adversarial_patches_adversarial_patch_vgg16/None '\n",
      "                     '-P model_architecture=vgg16 -P batch_size=256 -P '\n",
      "                     'dataset_tar_name=adversarial_patch_dataset.tar.gz -P '\n",
      "                     'dataset_name=adv_patch_dataset',\n",
      " 'experimentId': 11,\n",
      " 'jobId': 'dcd71d42-e191-42c7-9790-056e25243ac6',\n",
      " 'lastModified': '2021-02-14T11:00:42.315694',\n",
      " 'mlflowRunId': None,\n",
      " 'queueId': 2,\n",
      " 'status': 'queued',\n",
      " 'timeout': '24h',\n",
      " 'workflowUri': 's3://workflow/3a866351cd534cc6a03751435bc22d4f/workflows.tar.gz'}\n",
      "\n",
      "Adversarial Training Results:\n",
      "{'accuracy': 0.9994319081306458,\n",
      " 'auc': 0.9999896287918091,\n",
      " 'fn': 57.0,\n",
      " 'fp': 52.0,\n",
      " 'loss': 0.002543702680072632,\n",
      " 'precision': 0.9994628429412842,\n",
      " 'recall': 0.9994112253189087,\n",
      " 'restored_epoch': 2.0,\n",
      " 'stopped_epoch': 7.0,\n",
      " 'tn': 11520576.0,\n",
      " 'tp': 96755.0,\n",
      " 'training_time_in_minutes': 37.3107532,\n",
      " 'val_accuracy': 0.993457019329071,\n",
      " 'val_auc': 0.9999362230300903,\n",
      " 'val_fn': 180.0,\n",
      " 'val_fp': 130.0,\n",
      " 'val_loss': 0.02069376747270948,\n",
      " 'val_precision': 0.9946053624153137,\n",
      " 'val_recall': 0.9925459623336792,\n",
      " 'val_tn': 2873482.0,\n",
      " 'val_tp': 23968.0}\n"
     ]
    }
   ],
   "source": [
    "response_evaluate_adv_training = restapi_client.submit_job(\n",
    "    workflows_file=WORKFLOWS_TAR_GZ,\n",
    "    experiment_name=EXPERIMENT_NAME,\n",
    "    entry_point=\"infer\",\n",
    "    entry_point_kwargs=\" \".join(\n",
    "        [\n",
    "            f\"-P run_id={response_deploy_vgg16_patches_testing['mlflowRunId']}\",\n",
    "            f\"-P model={EXPERIMENT_NAME}_adversarial_patch_vgg16/None\",\n",
    "            \"-P model_architecture=vgg16\",\n",
    "            \"-P batch_size=256\",\n",
    "            \"-P dataset_tar_name=adversarial_patch_dataset.tar.gz\",\n",
    "            \"-P dataset_name=adv_patch_dataset\",\n",
    "        ]\n",
    "    ),\n",
    "    queue=\"tensorflow_gpu\",\n",
    "    depends_on=response_patches_adv_training[\"jobId\"],\n",
    ")\n",
    "\n",
    "print(\"Patch evaluation job submitted\")\n",
    "print(\"\")\n",
    "pprint.pprint(response_evaluate_adv_training)\n",
    "print(\"\")\n",
    "\n",
    "response_patches_adv_training= wait_until_finished(response_patches_adv_training)\n",
    "results = get_mlflow_results(response_patches_adv_training)\n",
    "print(\"Adversarial Training Results:\")\n",
    "pprint.pprint(results.data.metrics)"
   ]
  },
  {
   "cell_type": "markdown",
   "metadata": {},
   "source": [
    "<a id='querying_cell'></a>\n",
    "## Querying the MLFlow Tracking Service"
   ]
  },
  {
   "cell_type": "markdown",
   "metadata": {},
   "source": [
    "Currently the lab API can only be used to register experiments and start jobs, so if users wish to extract their results programmatically, they can use the `MlflowClient()` class from the `mlflow` Python package to connect and query their results.\n",
    "Since we captured the run ids generated by MLFlow, we can easily retrieve the data logged about one of our jobs and inspect the results.\n",
    "To start the client, we simply need to run,"
   ]
  },
  {
   "cell_type": "code",
   "execution_count": 16,
   "metadata": {},
   "outputs": [],
   "source": [
    "mlflow_client = MlflowClient()"
   ]
  },
  {
   "cell_type": "markdown",
   "metadata": {},
   "source": [
    "The client uses the environment variable `MLFLOW_TRACKING_URI` to figure out how to connect to the MLFlow Tracking Service, which we configured near the top of this notebook.\n",
    "To query the results of one of our runs, we just need to pass the run id to the client's `get_run()` method.\n",
    "As an example, let's query the run results for the patch attack applied to the VGG16 architecture,"
   ]
  },
  {
   "cell_type": "code",
   "execution_count": 17,
   "metadata": {},
   "outputs": [],
   "source": [
    "run_adv_patches = mlflow_client.get_run(response_patches_adv_training[\"mlflowRunId\"])"
   ]
  },
  {
   "cell_type": "markdown",
   "metadata": {},
   "source": [
    "If the request completed successfully, we should now be able to query data collected during the run.\n",
    "For example, to review the collected metrics, we just use,"
   ]
  },
  {
   "cell_type": "code",
   "execution_count": 18,
   "metadata": {},
   "outputs": [
    {
     "name": "stdout",
     "output_type": "stream",
     "text": [
      "{'accuracy': 0.9994319081306458,\n",
      " 'auc': 0.9999896287918091,\n",
      " 'fn': 57.0,\n",
      " 'fp': 52.0,\n",
      " 'loss': 0.002543702680072632,\n",
      " 'precision': 0.9994628429412842,\n",
      " 'recall': 0.9994112253189087,\n",
      " 'restored_epoch': 2.0,\n",
      " 'stopped_epoch': 7.0,\n",
      " 'tn': 11520576.0,\n",
      " 'tp': 96755.0,\n",
      " 'training_time_in_minutes': 37.3107532,\n",
      " 'val_accuracy': 0.993457019329071,\n",
      " 'val_auc': 0.9999362230300903,\n",
      " 'val_fn': 180.0,\n",
      " 'val_fp': 130.0,\n",
      " 'val_loss': 0.02069376747270948,\n",
      " 'val_precision': 0.9946053624153137,\n",
      " 'val_recall': 0.9925459623336792,\n",
      " 'val_tn': 2873482.0,\n",
      " 'val_tp': 23968.0}\n"
     ]
    }
   ],
   "source": [
    "pprint.pprint(run_adv_patches.data.metrics)"
   ]
  },
  {
   "cell_type": "markdown",
   "metadata": {},
   "source": [
    "To review the run's parameters, we use,"
   ]
  },
  {
   "cell_type": "code",
   "execution_count": 19,
   "metadata": {},
   "outputs": [
    {
     "name": "stdout",
     "output_type": "stream",
     "text": [
      "{'baseline': 'None',\n",
      " 'batch_size': '256',\n",
      " 'data_dir_test': '/nfs/data/Fruits360-Kaggle-2019/fruits-360/Test',\n",
      " 'data_dir_train': '/nfs/data/Fruits360-Kaggle-2019/fruits-360/Training',\n",
      " 'dataset_seed': '1262593126',\n",
      " 'entry_point_seed': '180331070667909949252666387562304663912',\n",
      " 'epochs': '10',\n",
      " 'learning_rate': '0.001',\n",
      " 'load_dataset_from_mlruns': 'True',\n",
      " 'min_delta': '-0.01',\n",
      " 'model_architecture': 'vgg16',\n",
      " 'model_tag': 'adversarial_patch',\n",
      " 'monitor': 'val_loss',\n",
      " 'opt_amsgrad': 'False',\n",
      " 'opt_beta_1': '0.9',\n",
      " 'opt_beta_2': '0.999',\n",
      " 'opt_decay': '0.0',\n",
      " 'opt_epsilon': '1e-07',\n",
      " 'opt_learning_rate': '0.001',\n",
      " 'opt_name': 'Adam',\n",
      " 'optimizer': 'adam',\n",
      " 'patience': '5',\n",
      " 'register_model': 'True',\n",
      " 'restore_best_weights': 'True',\n",
      " 'seed': '-1',\n",
      " 'tensorflow_global_seed': '481123530',\n",
      " 'testing_dataset_run_id': '6646fe2f2e4e46c6a031a162d703559b',\n",
      " 'training_dataset_run_id': '1e2f8da010d4430c8233aae74da93ad8',\n",
      " 'validation_split': '0.2'}\n"
     ]
    }
   ],
   "source": [
    "pprint.pprint(run_adv_patches.data.params)"
   ]
  },
  {
   "cell_type": "markdown",
   "metadata": {},
   "source": [
    "To review the run's tags, we use,"
   ]
  },
  {
   "cell_type": "code",
   "execution_count": 20,
   "metadata": {},
   "outputs": [
    {
     "name": "stdout",
     "output_type": "stream",
     "text": [
      "{'mlflow.log-model.history': '[{\"run_id\": \"45638a45eaae473badca2179fd3f9815\", '\n",
      "                             '\"artifact_path\": \"model\", \"utc_time_created\": '\n",
      "                             '\"2021-02-14 11:39:06.843447\", \"flavors\": '\n",
      "                             '{\"keras\": {\"keras_module\": '\n",
      "                             '\"tensorflow_core.keras\", \"keras_version\": '\n",
      "                             '\"2.2.4-tf\", \"data\": \"data\"}, \"python_function\": '\n",
      "                             '{\"loader_module\": \"mlflow.keras\", '\n",
      "                             '\"python_version\": \"3.7.9\", \"data\": \"data\", '\n",
      "                             '\"env\": \"conda.yaml\"}}}]',\n",
      " 'mlflow.project.backend': 'securingai',\n",
      " 'mlflow.project.entryPoint': 'train',\n",
      " 'mlflow.source.name': '/work/tmpkm3a6l4t',\n",
      " 'mlflow.source.type': 'PROJECT',\n",
      " 'mlflow.user': 'securingai',\n",
      " 'securingai.dependsOn': 'af05a67f-e7ba-4dbe-94b1-da4f9a97fc47',\n",
      " 'securingai.jobId': '645fdc4e-c66b-4b35-82ed-af3e40138714',\n",
      " 'securingai.queue': 'tensorflow_gpu'}\n"
     ]
    }
   ],
   "source": [
    "pprint.pprint(run_adv_patches.data.tags)"
   ]
  },
  {
   "cell_type": "markdown",
   "metadata": {},
   "source": [
    "There are many things you can query using the MLFlow client.\n",
    "[The MLFlow documentation gives a full overview of the methods that are available](https://www.mlflow.org/docs/latest/python_api/mlflow.tracking.html#mlflow.tracking.MlflowClient)."
   ]
  }
 ],
 "metadata": {
  "kernelspec": {
   "display_name": "Python 3",
   "language": "python",
   "name": "python3"
  },
  "language_info": {
   "codemirror_mode": {
    "name": "ipython",
    "version": 3
   },
   "file_extension": ".py",
   "mimetype": "text/x-python",
   "name": "python",
   "nbconvert_exporter": "python",
   "pygments_lexer": "ipython3",
   "version": "3.7.7"
  }
 },
 "nbformat": 4,
 "nbformat_minor": 4
}
