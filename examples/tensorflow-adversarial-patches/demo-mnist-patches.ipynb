{
 "cells": [
  {
   "cell_type": "markdown",
   "metadata": {},
   "source": [
    "# Tensorflow MNIST-LeNet Patch Demo"
   ]
  },
  {
   "cell_type": "markdown",
   "metadata": {},
   "source": [
    "This notebook demonstrates the adversarial patch attack applied on the LeNet model, as well as preprocessing and adversarial training defenses.\n",
    "\n",
    "The following two sections cover experiment setup and is similar across all demos."
   ]
  },
  {
   "cell_type": "markdown",
   "metadata": {},
   "source": [
    "## Setup: Experiment Name and MNIST Dataset"
   ]
  },
  {
   "cell_type": "markdown",
   "metadata": {},
   "source": [
    "Here we will import the necessary Python modules and ensure the proper environment variables are set so that all the code blocks will work as expected.\n",
    "\n",
    "**Important: Users will need to verify or update the following parameters:**\n",
    "\n",
    "- Ensure that the `USERNAME` parameter is set to your own name.\n",
    "- Ensure that the `DATASET_DIR` parameter is set to the location of the MNIST dataset directory. Currently set to `/nfs/data/Mnist` as the default location.\n",
    "- (Optional) Set the `EXPERIMENT_NAME` parameter to your own preferred experiment name.\n",
    "\n",
    "Other parameters can be modified to alter the RESTful API and MLFlow tracking addresses. "
   ]
  },
  {
   "cell_type": "code",
   "execution_count": 6,
   "metadata": {},
   "outputs": [],
   "source": [
    "# Import packages from the Python standard library\n",
    "import os\n",
    "import pprint\n",
    "import time\n",
    "import warnings\n",
    "from pathlib import Path\n",
    "from typing import Tuple\n",
    "\n",
    "# Filter out warning messages\n",
    "warnings.filterwarnings(\"ignore\")\n",
    "\n",
    "# Please enter custom username here.\n",
    "USERNAME = \"howard\"\n",
    "\n",
    "# Ensure that the dataset location is properly set here.\n",
    "DATASET_DIR = \"/nfs/data/Mnist\"\n",
    "\n",
    "# Experiment name (note the username_ prefix convention)\n",
    "EXPERIMENT_NAME = f\"{USERNAME}_mnist_adversarial_patches\"\n",
    "\n",
    "# Address for connecting the docker container to exposed ports on the host device\n",
    "HOST_DOCKER_INTERNAL = \"host.docker.internal\"\n",
    "# HOST_DOCKER_INTERNAL = \"172.17.0.1\"\n",
    "\n",
    "# Testbed API ports\n",
    "RESTAPI_PORT = \"30080\"\n",
    "MLFLOW_TRACKING_PORT = \"35000\"\n",
    "\n",
    "# Default address for accessing the RESTful API service\n",
    "RESTAPI_ADDRESS = (\n",
    "    f\"http://{HOST_DOCKER_INTERNAL}:{RESTAPI_PORT}\"\n",
    "    if os.getenv(\"IS_JUPYTER_SERVICE\")\n",
    "    else f\"http://localhost:{RESTAPI_PORT}\"\n",
    ")\n",
    "\n",
    "# Override the AI_RESTAPI_URI variable, used to connect to RESTful API service\n",
    "os.environ[\"AI_RESTAPI_URI\"] = RESTAPI_ADDRESS\n",
    "\n",
    "# Default address for accessing the MLFlow Tracking server\n",
    "MLFLOW_TRACKING_URI = (\n",
    "    f\"http://{HOST_DOCKER_INTERNAL}:{MLFLOW_TRACKING_PORT}\"\n",
    "    if os.getenv(\"IS_JUPYTER_SERVICE\")\n",
    "    else f\"http://localhost:{MLFLOW_TRACKING_PORT}\"\n",
    ")\n",
    "\n",
    "# Override the MLFLOW_TRACKING_URI variable, used to connect to MLFlow Tracking service\n",
    "os.environ[\"MLFLOW_TRACKING_URI\"] = MLFLOW_TRACKING_URI\n",
    "\n",
    "# Base API address\n",
    "RESTAPI_API_BASE = f\"{RESTAPI_ADDRESS}/api\"\n",
    "\n",
    "# Path to workflows archive\n",
    "WORKFLOWS_TAR_GZ = Path(\"workflows.tar.gz\")\n",
    "\n",
    "# Import third-party Python packages\n",
    "import numpy as np\n",
    "import requests\n",
    "from mlflow.tracking import MlflowClient\n",
    "\n",
    "# Import utils.py file\n",
    "import utils\n",
    "\n",
    "# Create random number generator\n",
    "rng = np.random.default_rng(54399264723942495723666216079516778448)"
   ]
  },
  {
   "cell_type": "markdown",
   "metadata": {},
   "source": [
    "## Dataset"
   ]
  },
  {
   "cell_type": "markdown",
   "metadata": {},
   "source": [
    "The training and testing images in this directory are saved as PNG files and are organized into the following folder structure,"
   ]
  },
  {
   "cell_type": "markdown",
   "metadata": {},
   "source": [
    "    Mnist\n",
    "    ├── testing\n",
    "    │   ├── 0\n",
    "    │   ├── 1\n",
    "    │   ├── 2\n",
    "    │   ├── 3\n",
    "    │   ├── 4\n",
    "    │   ├── 5\n",
    "    │   ├── 6\n",
    "    │   ├── 7\n",
    "    │   ├── 8\n",
    "    │   └── 9\n",
    "    └── training\n",
    "        ├── 0\n",
    "        ├── 1\n",
    "        ├── 2\n",
    "        ├── 3\n",
    "        ├── 4\n",
    "        ├── 5\n",
    "        ├── 6\n",
    "        ├── 7\n",
    "        ├── 8\n",
    "        └── 9"
   ]
  },
  {
   "cell_type": "markdown",
   "metadata": {},
   "source": [
    "The subfolders under `Mnist/training/` and `Mnist/testing/` are the classification labels for the images in the dataset.\n",
    "This folder structure is a standardized way to encode the label information and many libraries can make use of it, including the Tensorflow library that we are using for this particular demo."
   ]
  },
  {
   "cell_type": "markdown",
   "metadata": {},
   "source": [
    "## Submit and run jobs"
   ]
  },
  {
   "cell_type": "markdown",
   "metadata": {},
   "source": [
    "The entrypoints that we will be running in this example are implemented in the Python source files under `src/` and the `MLproject` file.\n",
    "To run these entrypoints within the testbed architecture, we need to package those files up into an archive and submit it to the Testbed RESTful API to create a new job.\n",
    "For convenience, the `Makefile` provides a rule for creating the archive file for this example, just run `make workflows`,"
   ]
  },
  {
   "cell_type": "code",
   "execution_count": 78,
   "metadata": {},
   "outputs": [
    {
     "name": "stdout",
     "output_type": "stream",
     "text": [
      "tar czf workflows.tar.gz src/gaussian_augmentation.py src/deploy_patch.py src/init_model.py src/defenses_image_preprocessing.py src/tasks.py src/train.py src/import_keras.py src/spatial_smoothing.py src/generate_patch.py src/jpeg_compression.py src/attacks_patch_updated.py src/fgm.py src/infer.py src/registry_art_updated.py src/estimators_keras_classifiers_updated.py src/data_tensorflow_updated.py MLproject\n",
      "chmod 644 workflows.tar.gz\n"
     ]
    }
   ],
   "source": [
    "%%bash\n",
    "\n",
    "# Create the workflows.tar.gz file\n",
    "make workflows"
   ]
  },
  {
   "cell_type": "markdown",
   "metadata": {},
   "source": [
    "To connect with the endpoint, we will use a client class defined in the `utils.py` file that is able to connect with the Testbed RESTful API using the HTTP protocol.\n",
    "We connect using the client below, which uses the environment variable `AI_RESTAPI_URI` to figure out how to connect to the Testbed RESTful API,"
   ]
  },
  {
   "cell_type": "code",
   "execution_count": 8,
   "metadata": {},
   "outputs": [],
   "source": [
    "restapi_client = utils.SecuringAIClient()"
   ]
  },
  {
   "cell_type": "markdown",
   "metadata": {},
   "source": [
    "We need to register an experiment under which to collect our job runs.\n",
    "The code below checks if the relevant experiment exists.\n",
    "If it does, then it just returns info about the experiment, if it doesn't, it then registers the new experiment."
   ]
  },
  {
   "cell_type": "code",
   "execution_count": 9,
   "metadata": {},
   "outputs": [
    {
     "data": {
      "text/plain": [
       "{'experimentId': 10,\n",
       " 'name': 'howard_mnist_adversarial_patches',\n",
       " 'lastModified': '2020-11-05T08:45:14.946823',\n",
       " 'createdOn': '2020-11-05T08:45:14.946823'}"
      ]
     },
     "execution_count": 9,
     "metadata": {},
     "output_type": "execute_result"
    }
   ],
   "source": [
    "response_experiment = restapi_client.get_experiment_by_name(name=EXPERIMENT_NAME)\n",
    "\n",
    "if response_experiment is None or \"Not Found\" in response_experiment.get(\"message\", []):\n",
    "    response_experiment = restapi_client.register_experiment(name=EXPERIMENT_NAME)\n",
    "\n",
    "response_experiment"
   ]
  },
  {
   "cell_type": "markdown",
   "metadata": {},
   "source": [
    "We should also check which queues are available for running our jobs to make sure that the resources that we need are available.\n",
    "The code below queries the Testbed API and returns a list of active queues."
   ]
  },
  {
   "cell_type": "code",
   "execution_count": 10,
   "metadata": {},
   "outputs": [
    {
     "data": {
      "text/plain": [
       "[{'name': 'tensorflow_cpu',\n",
       "  'lastModified': '2020-11-20T17:46:06.756687',\n",
       "  'createdOn': '2020-11-20T17:46:06.756687',\n",
       "  'queueId': 1},\n",
       " {'name': 'tensorflow_gpu',\n",
       "  'lastModified': '2020-11-20T18:00:40.876888',\n",
       "  'createdOn': '2020-11-20T18:00:40.876888',\n",
       "  'queueId': 2},\n",
       " {'name': 'pytorch_cpu',\n",
       "  'lastModified': '2020-11-20T19:52:36.079781',\n",
       "  'createdOn': '2020-11-20T19:52:36.079781',\n",
       "  'queueId': 5},\n",
       " {'name': 'pytorch_gpu',\n",
       "  'lastModified': '2020-11-20T19:52:43.348460',\n",
       "  'createdOn': '2020-11-20T19:52:43.348460',\n",
       "  'queueId': 7}]"
      ]
     },
     "execution_count": 10,
     "metadata": {},
     "output_type": "execute_result"
    }
   ],
   "source": [
    "restapi_client.list_queues()"
   ]
  },
  {
   "cell_type": "markdown",
   "metadata": {},
   "source": [
    "## Adversarial Patches: Baseline MNIST Training"
   ]
  },
  {
   "cell_type": "markdown",
   "metadata": {},
   "source": [
    "Now, we will train our baseline LeNet-5 model on the MNIST dataset. \n",
    "We will be submitting our jobs to the `\"tensorflow_gpu\"` queue.\n",
    "Once the experiment is finished, we will examine the accuracy results of our model."
   ]
  },
  {
   "cell_type": "code",
   "execution_count": 17,
   "metadata": {},
   "outputs": [
    {
     "name": "stdout",
     "output_type": "stream",
     "text": [
      "Training job for LeNet-5 neural network submitted\n",
      "\n",
      "{'createdOn': '2021-04-28T19:32:34.141211',\n",
      " 'dependsOn': None,\n",
      " 'entryPoint': 'train',\n",
      " 'entryPointKwargs': '-P batch_size=256 -P '\n",
      "                     'register_model_name=howard_mnist_adversarial_patches_le_net '\n",
      "                     '-P model_architecture=le_net -P epochs=30 -P '\n",
      "                     'data_dir_training=/nfs/data/Mnist/training -P '\n",
      "                     'data_dir_testing=/nfs/data/Mnist/testing',\n",
      " 'experimentId': 10,\n",
      " 'jobId': '1576315b-5b62-494b-a195-68f39e991052',\n",
      " 'lastModified': '2021-04-28T19:32:34.141211',\n",
      " 'mlflowRunId': None,\n",
      " 'queueId': 1,\n",
      " 'status': 'queued',\n",
      " 'timeout': '1h',\n",
      " 'workflowUri': 's3://workflow/4c7faddada4c452b83da176be5f3d0a3/workflows.tar.gz'}\n"
     ]
    }
   ],
   "source": [
    "# Create and submit training job.\n",
    "response_le_net_train = restapi_client.submit_job(\n",
    "    workflows_file=WORKFLOWS_TAR_GZ,\n",
    "    experiment_name=EXPERIMENT_NAME,\n",
    "    entry_point=\"train\",\n",
    "    entry_point_kwargs=\" \".join([\n",
    "        \"-P batch_size=256\",\n",
    "        f\"-P register_model_name={EXPERIMENT_NAME}_le_net\",\n",
    "        \"-P model_architecture=le_net\",\n",
    "        \"-P epochs=30\",\n",
    "        f\"-P data_dir_training={DATASET_DIR}/training\",\n",
    "        f\"-P data_dir_testing={DATASET_DIR}/testing\",\n",
    "    ]),\n",
    "    queue=\"tensorflow_gpu\",\n",
    "    timeout=\"1h\",\n",
    ")\n",
    "\n",
    "print(\"Training job for LeNet-5 neural network submitted\")\n",
    "print(\"\")\n",
    "pprint.pprint(response_le_net_train)"
   ]
  },
  {
   "cell_type": "markdown",
   "metadata": {},
   "source": [
    "The following helper functions will recheck the job responses until the job is completed or a run ID is available. \n",
    "The run ID is needed to link dependencies between jobs."
   ]
  },
  {
   "cell_type": "code",
   "execution_count": 18,
   "metadata": {},
   "outputs": [],
   "source": [
    "def mlflow_run_id_is_not_known(job_response):\n",
    "    return job_response[\"mlflowRunId\"] is None and job_response[\"status\"] not in [\n",
    "        \"failed\",\n",
    "        \"finished\",\n",
    "    ]\n",
    "\n",
    "\n",
    "def get_run_id(job_response):\n",
    "    while mlflow_run_id_is_not_known(job_response):\n",
    "        time.sleep(1)\n",
    "        job_response = restapi_client.get_job_by_id(job_response[\"jobId\"])\n",
    "        \n",
    "    return job_response\n",
    "\n",
    "\n",
    "def wait_until_finished(job_response):\n",
    "    # First make sure job has started.\n",
    "    job_response = get_run_id(job_response)\n",
    "    \n",
    "    # Next re-check job until it has stopped running.\n",
    "    while (job_response[\"status\"] not in [\"failed\", \"finished\"]):\n",
    "        time.sleep(1)\n",
    "        job_response = restapi_client.get_job_by_id(job_response[\"jobId\"])\n",
    "    \n",
    "    return job_response"
   ]
  },
  {
   "cell_type": "markdown",
   "metadata": {},
   "source": [
    "Now wait for the job to complete before proceeding to next steps."
   ]
  },
  {
   "cell_type": "code",
   "execution_count": 19,
   "metadata": {},
   "outputs": [
    {
     "name": "stdout",
     "output_type": "stream",
     "text": [
      "Training job for LeNet-5 neural network\n",
      "{'createdOn': '2021-04-28T19:32:34.141211',\n",
      " 'dependsOn': None,\n",
      " 'entryPoint': 'train',\n",
      " 'entryPointKwargs': '-P batch_size=256 -P '\n",
      "                     'register_model_name=howard_mnist_adversarial_patches_le_net '\n",
      "                     '-P model_architecture=le_net -P epochs=30 -P '\n",
      "                     'data_dir_training=/nfs/data/Mnist/training -P '\n",
      "                     'data_dir_testing=/nfs/data/Mnist/testing',\n",
      " 'experimentId': 10,\n",
      " 'jobId': '1576315b-5b62-494b-a195-68f39e991052',\n",
      " 'lastModified': '2021-04-28T19:43:43.778764',\n",
      " 'mlflowRunId': '09649012f75049e999eb085b0e7e1011',\n",
      " 'queueId': 1,\n",
      " 'status': 'finished',\n",
      " 'timeout': '1h',\n",
      " 'workflowUri': 's3://workflow/4c7faddada4c452b83da176be5f3d0a3/workflows.tar.gz'}\n"
     ]
    }
   ],
   "source": [
    "response_le_net_train = wait_until_finished(response_le_net_train)\n",
    "print(\"Training job for LeNet-5 neural network\")\n",
    "pprint.pprint(response_le_net_train)"
   ]
  },
  {
   "cell_type": "markdown",
   "metadata": {},
   "source": [
    "### Checking baseline MNIST job accuracy"
   ]
  },
  {
   "cell_type": "markdown",
   "metadata": {},
   "source": [
    "Once the job has finished running we can view the results either through the MLflow URI or by accessing the job via MLflow client.\n",
    "Here we will show the baseline accuracy results from the previous training job.\n",
    "Please see [Querying the MLFlow Tracking Service](#Querying-the-MLFlow-Tracking-Service) section for more details."
   ]
  },
  {
   "cell_type": "code",
   "execution_count": 20,
   "metadata": {},
   "outputs": [
    {
     "name": "stdout",
     "output_type": "stream",
     "text": [
      "{'accuracy': 0.9871052503585815,\n",
      " 'auc': 0.999603271484375,\n",
      " 'loss': 0.039359905428823734,\n",
      " 'precision': 0.9889448285102844,\n",
      " 'recall': 0.985792875289917,\n",
      " 'restored_epoch': 6.0,\n",
      " 'stopped_epoch': 11.0,\n",
      " 'training_time_in_minutes': 10.7986485,\n",
      " 'val_accuracy': 0.9886628985404968,\n",
      " 'val_auc': 0.9993653893470764,\n",
      " 'val_loss': 0.03706372629335903,\n",
      " 'val_precision': 0.9896459579467773,\n",
      " 'val_recall': 0.987995982170105}\n"
     ]
    }
   ],
   "source": [
    "# Helper function for viewing MLflow results.\n",
    "def get_mlflow_results(job_response):\n",
    "    mlflow_client = MlflowClient()\n",
    "    job_response = wait_until_finished(job_response)\n",
    "    if(job_response['status']==\"failed\"):\n",
    "        return {}\n",
    "    \n",
    "    run = mlflow_client.get_run(job_response[\"mlflowRunId\"])  \n",
    "    while(len(run.data.metrics) == 0):\n",
    "        time.sleep(1)\n",
    "        run = mlflow_client.get_run(job_response[\"mlflowRunId\"])\n",
    "        \n",
    "    return run\n",
    "\n",
    "\n",
    "results = get_mlflow_results(response_le_net_train)\n",
    "pprint.pprint(results.data.metrics)"
   ]
  },
  {
   "cell_type": "markdown",
   "metadata": {},
   "source": [
    "With the baseline training settings, it appears that the LeNet model has been properly trained on MNIST dataset."
   ]
  },
  {
   "cell_type": "markdown",
   "metadata": {},
   "source": [
    "### Deploying and Testing Adversarial Patches"
   ]
  },
  {
   "cell_type": "markdown",
   "metadata": {},
   "source": [
    "Now we will create and apply the adversarial patches over our test set and evaluate the performance of the baseline model on the adversarial patches.\n",
    "We will also apply the patches over the training set for the adversarial training defense evaluation."
   ]
  },
  {
   "cell_type": "markdown",
   "metadata": {},
   "source": [
    "#### Patch Generation\n",
    "\n",
    "The following job will generate the adversarial patches. \n",
    "Feel free to adjust the input parameters to see how they impact the effectiveness of the patch attack."
   ]
  },
  {
   "cell_type": "code",
   "execution_count": 80,
   "metadata": {},
   "outputs": [
    {
     "name": "stdout",
     "output_type": "stream",
     "text": [
      "Patch attack (LeNet-5 architecture) job submitted\n",
      "\n",
      "{'createdOn': '2021-04-29T03:20:55.129645',\n",
      " 'dependsOn': '1576315b-5b62-494b-a195-68f39e991052',\n",
      " 'entryPoint': 'gen_patch',\n",
      " 'entryPointKwargs': '-P model_name=howard_mnist_adversarial_patches_le_net -P '\n",
      "                     'model_version=none -P data_dir=/nfs/data/Mnist/training '\n",
      "                     '-P num_patch_gen_samples=40 -P num_patch=3 -P '\n",
      "                     'patch_target=5',\n",
      " 'experimentId': 10,\n",
      " 'jobId': '39a44294-3b7e-4fa2-b4f1-3e8ed026884e',\n",
      " 'lastModified': '2021-04-29T03:20:55.129645',\n",
      " 'mlflowRunId': None,\n",
      " 'queueId': 2,\n",
      " 'status': 'queued',\n",
      " 'timeout': '24h',\n",
      " 'workflowUri': 's3://workflow/eb5af3c83940458c98996574a9ed16c5/workflows.tar.gz'}\n",
      "\n"
     ]
    }
   ],
   "source": [
    "# Create Patches\n",
    "response_le_net_patches = restapi_client.submit_job(\n",
    "    workflows_file=WORKFLOWS_TAR_GZ,\n",
    "    experiment_name=EXPERIMENT_NAME,\n",
    "    entry_point=\"gen_patch\",\n",
    "    entry_point_kwargs=\" \".join(\n",
    "        [\n",
    "            f\"-P model_name={EXPERIMENT_NAME}_le_net\",\n",
    "            f\"-P model_version=none\",\n",
    "            f\"-P data_dir={DATASET_DIR}/training\",\n",
    "            \"-P num_patch_gen_samples=40\",\n",
    "            \"-P num_patch=3\",\n",
    "            \"-P patch_target=5\",\n",
    "        ]\n",
    "    ),\n",
    "    queue=\"tensorflow_gpu\",\n",
    "    depends_on=response_le_net_train[\"jobId\"],\n",
    ")\n",
    "\n",
    "\n",
    "print(\"Patch attack (LeNet-5 architecture) job submitted\")\n",
    "print(\"\")\n",
    "pprint.pprint(response_le_net_patches)\n",
    "print(\"\")\n",
    "\n",
    "# Wait for Patch attack to finish.\n",
    "response_le_net_patches = wait_until_finished(response_le_net_patches)"
   ]
  },
  {
   "cell_type": "markdown",
   "metadata": {},
   "source": [
    "#### Patch Deployment\n",
    "\n",
    "The following jobs will deploy the patches over the training and test sets."
   ]
  },
  {
   "cell_type": "code",
   "execution_count": 103,
   "metadata": {},
   "outputs": [
    {
     "name": "stdout",
     "output_type": "stream",
     "text": [
      "Patch deployment (LeNet-5 architecture) job submitted\n",
      "\n",
      "{'createdOn': '2021-04-29T04:16:15.677833',\n",
      " 'dependsOn': '39a44294-3b7e-4fa2-b4f1-3e8ed026884e',\n",
      " 'entryPoint': 'deploy_patch',\n",
      " 'entryPointKwargs': '-P run_id=b81c3b9453e24dc8850d074b43c56b93 -P '\n",
      "                     'model_name=howard_mnist_adversarial_patches_le_net -P '\n",
      "                     'model_version=none -P data_dir=/nfs/data/Mnist/training',\n",
      " 'experimentId': 10,\n",
      " 'jobId': 'dd0406ef-01c1-4675-aba9-6c8e2965f0d6',\n",
      " 'lastModified': '2021-04-29T04:16:15.677833',\n",
      " 'mlflowRunId': None,\n",
      " 'queueId': 2,\n",
      " 'status': 'queued',\n",
      " 'timeout': '24h',\n",
      " 'workflowUri': 's3://workflow/d4f00680b5e44f4a8b0d294045b6ac98/workflows.tar.gz'}\n",
      "\n"
     ]
    }
   ],
   "source": [
    "# Deploy Patch attack on training set.\n",
    "\n",
    "response_deploy_le_net_patches_mnist_training = restapi_client.submit_job(\n",
    "    workflows_file=WORKFLOWS_TAR_GZ,\n",
    "    experiment_name=EXPERIMENT_NAME,\n",
    "    entry_point=\"deploy_patch\",\n",
    "    entry_point_kwargs=\" \".join(\n",
    "        [\n",
    "            f\"-P run_id={response_le_net_patches['mlflowRunId']}\",\n",
    "            f\"-P model_name={EXPERIMENT_NAME}_le_net\",\n",
    "            f\"-P model_version=none\",\n",
    "            f\"-P data_dir={DATASET_DIR}/training\",\n",
    "        ]\n",
    "    ),\n",
    "    queue=\"tensorflow_gpu\",\n",
    "    depends_on=response_le_net_patches[\"jobId\"],\n",
    ")\n",
    "\n",
    "print(\"Patch deployment (LeNet-5 architecture) job submitted\")\n",
    "print(\"\")\n",
    "pprint.pprint(response_deploy_le_net_patches_mnist_training)\n",
    "print(\"\")\n",
    "\n",
    "# Get the run ID of the test set.\n",
    "response_deploy_le_net_patches_mnist_training = get_run_id(response_deploy_le_net_patches_mnist_training)"
   ]
  },
  {
   "cell_type": "code",
   "execution_count": 104,
   "metadata": {},
   "outputs": [
    {
     "name": "stdout",
     "output_type": "stream",
     "text": [
      "Patch deployment (LeNet-5 architecture) job submitted\n",
      "\n",
      "{'createdOn': '2021-04-29T04:24:42.332101',\n",
      " 'dependsOn': '39a44294-3b7e-4fa2-b4f1-3e8ed026884e',\n",
      " 'entryPoint': 'deploy_patch',\n",
      " 'entryPointKwargs': '-P run_id=b81c3b9453e24dc8850d074b43c56b93 -P '\n",
      "                     'model_name=howard_mnist_adversarial_patches_le_net -P '\n",
      "                     'model_version=none -P data_dir=/nfs/data/Mnist/testing '\n",
      "                     '-P patch_deployment_method=corrupt',\n",
      " 'experimentId': 10,\n",
      " 'jobId': 'd8f4fe18-c8eb-4033-80b4-efe11927c7ae',\n",
      " 'lastModified': '2021-04-29T04:24:42.332101',\n",
      " 'mlflowRunId': None,\n",
      " 'queueId': 2,\n",
      " 'status': 'queued',\n",
      " 'timeout': '24h',\n",
      " 'workflowUri': 's3://workflow/202d801708204a029092e7e5e87ef714/workflows.tar.gz'}\n",
      "\n"
     ]
    }
   ],
   "source": [
    "# Deploy Patch attack on test set.\n",
    "response_deploy_le_net_patches_mnist_testing = restapi_client.submit_job(\n",
    "    workflows_file=WORKFLOWS_TAR_GZ,\n",
    "    experiment_name=EXPERIMENT_NAME,\n",
    "    entry_point=\"deploy_patch\",\n",
    "    entry_point_kwargs=\" \".join(\n",
    "        [\n",
    "            f\"-P run_id={response_le_net_patches['mlflowRunId']}\",\n",
    "            f\"-P model_name={EXPERIMENT_NAME}_le_net\",\n",
    "            f\"-P model_version=none\",\n",
    "            f\"-P data_dir={DATASET_DIR}/testing\",\n",
    "            \"-P patch_deployment_method=corrupt\"\n",
    "        ]\n",
    "    ),\n",
    "    queue=\"tensorflow_gpu\",\n",
    "    depends_on=response_le_net_patches[\"jobId\"],\n",
    ")\n",
    "\n",
    "print(\"Patch deployment (LeNet-5 architecture) job submitted\")\n",
    "print(\"\")\n",
    "pprint.pprint(response_deploy_le_net_patches_mnist_testing)\n",
    "print(\"\")\n",
    "\n",
    "# Get the run ID of the training set.\n",
    "response_deploy_le_net_patches_mnist_testing = get_run_id(response_deploy_le_net_patches_mnist_testing)"
   ]
  },
  {
   "cell_type": "markdown",
   "metadata": {},
   "source": [
    "### Patch Attack Evaluation: Baseline MNIST Model"
   ]
  },
  {
   "cell_type": "markdown",
   "metadata": {},
   "source": [
    "Now we will run an inference step to check the patch-attacked dataset with our MNIST-trained model."
   ]
  },
  {
   "cell_type": "code",
   "execution_count": 105,
   "metadata": {},
   "outputs": [
    {
     "name": "stdout",
     "output_type": "stream",
     "text": [
      "Patch evaluation (LeNet-5 architecture) job submitted\n",
      "\n",
      "{'createdOn': '2021-04-29T04:24:42.332101',\n",
      " 'dependsOn': '39a44294-3b7e-4fa2-b4f1-3e8ed026884e',\n",
      " 'entryPoint': 'deploy_patch',\n",
      " 'entryPointKwargs': '-P run_id=b81c3b9453e24dc8850d074b43c56b93 -P '\n",
      "                     'model_name=howard_mnist_adversarial_patches_le_net -P '\n",
      "                     'model_version=none -P data_dir=/nfs/data/Mnist/testing '\n",
      "                     '-P patch_deployment_method=corrupt',\n",
      " 'experimentId': 10,\n",
      " 'jobId': 'd8f4fe18-c8eb-4033-80b4-efe11927c7ae',\n",
      " 'lastModified': '2021-04-29T04:24:47.158921',\n",
      " 'mlflowRunId': '209139b3250b4fd0b88aed48c5545787',\n",
      " 'queueId': 2,\n",
      " 'status': 'queued',\n",
      " 'timeout': '24h',\n",
      " 'workflowUri': 's3://workflow/202d801708204a029092e7e5e87ef714/workflows.tar.gz'}\n",
      "\n"
     ]
    }
   ],
   "source": [
    "# Check patched dataset results   \n",
    "response_le_net_infer_le_net_patch = restapi_client.submit_job(\n",
    "    workflows_file=WORKFLOWS_TAR_GZ,\n",
    "    experiment_name=EXPERIMENT_NAME,\n",
    "    entry_point=\"infer\",\n",
    "    entry_point_kwargs=\" \".join(\n",
    "        [\n",
    "            f\"-P run_id={response_deploy_le_net_patches_mnist_testing['mlflowRunId']}\",\n",
    "            f\"-P model_name={EXPERIMENT_NAME}_le_net\",\n",
    "            f\"-P model_version=none\",\n",
    "            \"-P batch_size=512\",\n",
    "            \"-P adv_tar_name=adversarial_patch_dataset.tar.gz\",\n",
    "            \"-P adv_data_dir=adv_patch_dataset\",\n",
    "        ]\n",
    "    ),\n",
    "    queue=\"tensorflow_gpu\",\n",
    "    depends_on=response_deploy_le_net_patches_mnist_testing[\"jobId\"],\n",
    ")\n",
    "        \n",
    "print(\"Patch evaluation (LeNet-5 architecture) job submitted\")\n",
    "print(\"\")\n",
    "pprint.pprint(response_deploy_le_net_patches_mnist_testing)\n",
    "print(\"\")"
   ]
  },
  {
   "cell_type": "code",
   "execution_count": 106,
   "metadata": {},
   "outputs": [
    {
     "name": "stdout",
     "output_type": "stream",
     "text": [
      "Baseline model results on adversarially patched dataset: \n",
      "{'accuracy': 0.36518430709838867,\n",
      " 'auc': 0.7587533593177795,\n",
      " 'loss': 2.0189787626266478,\n",
      " 'precision': 0.8056603670120239,\n",
      " 'recall': 0.29937902092933655}\n"
     ]
    }
   ],
   "source": [
    "# Wait for the job to finish\n",
    "response_le_net_infer_le_net_patch = wait_until_finished(response_le_net_infer_le_net_patch)\n",
    "\n",
    "# Check on the patch evaluation results\n",
    "results = get_mlflow_results(response_le_net_infer_le_net_patch)\n",
    "print(\"Baseline model results on adversarially patched dataset: \")\n",
    "pprint.pprint(results.data.metrics)"
   ]
  },
  {
   "cell_type": "markdown",
   "metadata": {},
   "source": [
    "\n",
    "We can see that the adversarial patch attack causes a noticeable decrease in the model's accuracy scores.\n",
    "\n",
    "We will now test various defenses against the patch attacked images."
   ]
  },
  {
   "cell_type": "markdown",
   "metadata": {},
   "source": [
    "## Defenses: Image Preprocessing and Adversarial Training"
   ]
  },
  {
   "cell_type": "markdown",
   "metadata": {},
   "source": [
    "The next part of the adversarial patch demo focuses on investigating effective defenses against the attack."
   ]
  },
  {
   "cell_type": "markdown",
   "metadata": {},
   "source": [
    "### Preprocessing Defenses: Spatial Smoothing, JPEG Compression, Gaussian Augmentation"
   ]
  },
  {
   "cell_type": "markdown",
   "metadata": {},
   "source": [
    "Here we will investigate three preprocessing defenses that can be applied over the images before inference."
   ]
  },
  {
   "cell_type": "markdown",
   "metadata": {},
   "source": [
    "#### Spatial Smoothing Defense:\n",
    "\n",
    "Here, we can adjust the `spatial_smoothing_window_size` parameter to increase or decrease the sliding window of the smoothing defense.\n",
    "Larger values will create more noticeable distortions but can also help mask any adversarial perturbations."
   ]
  },
  {
   "cell_type": "code",
   "execution_count": 111,
   "metadata": {},
   "outputs": [
    {
     "name": "stdout",
     "output_type": "stream",
     "text": [
      "Spatial smoothing defense job submitted\n",
      "\n",
      "{'createdOn': '2021-04-29T05:47:16.142362',\n",
      " 'dependsOn': 'd8f4fe18-c8eb-4033-80b4-efe11927c7ae',\n",
      " 'entryPoint': 'spatial_smoothing',\n",
      " 'entryPointKwargs': '-P data_dir=/nfs/data/Mnist/training -P batch_size=20 -P '\n",
      "                     'load_dataset_from_mlruns=true -P '\n",
      "                     'spatial_smoothing_window_size=2 -P '\n",
      "                     'dataset_run_id=209139b3250b4fd0b88aed48c5545787 -P '\n",
      "                     'dataset_tar_name=adversarial_patch_dataset.tar.gz -P '\n",
      "                     'dataset_name=adv_patch_dataset',\n",
      " 'experimentId': 10,\n",
      " 'jobId': '8d1208da-6997-49f9-ad9f-93de51501adb',\n",
      " 'lastModified': '2021-04-29T05:47:16.142362',\n",
      " 'mlflowRunId': None,\n",
      " 'queueId': 2,\n",
      " 'status': 'queued',\n",
      " 'timeout': '24h',\n",
      " 'workflowUri': 's3://workflow/d2d95bd7636e4be9982fe011f8a65d9d/workflows.tar.gz'}\n",
      "\n"
     ]
    }
   ],
   "source": [
    "response_le_net_spatial_smoothing_test_set = restapi_client.submit_job(\n",
    "    workflows_file=WORKFLOWS_TAR_GZ,\n",
    "    experiment_name=EXPERIMENT_NAME,\n",
    "    entry_point=\"spatial_smoothing\",\n",
    "    entry_point_kwargs=\" \".join(\n",
    "        [\n",
    "            f\"-P data_dir={DATASET_DIR}/training\",\n",
    "            \"-P batch_size=20\",\n",
    "            \"-P load_dataset_from_mlruns=true\",\n",
    "            \"-P spatial_smoothing_window_size=2\",\n",
    "            f\"-P dataset_run_id={response_deploy_le_net_patches_mnist_testing['mlflowRunId']}\",\n",
    "            \"-P dataset_tar_name=adversarial_patch_dataset.tar.gz\",\n",
    "            \"-P dataset_name=adv_patch_dataset\",\n",
    "            \n",
    "        ]\n",
    "    ),\n",
    "    queue=\"tensorflow_gpu\",\n",
    "    depends_on=response_deploy_le_net_patches_mnist_testing[\"jobId\"],\n",
    ")\n",
    "\n",
    "print(\"Spatial smoothing defense job submitted\")\n",
    "print(\"\")\n",
    "pprint.pprint(response_le_net_spatial_smoothing_test_set)\n",
    "print(\"\")\n",
    "\n",
    "response_le_net_spatial_smoothing_test_set = get_run_id(response_le_net_spatial_smoothing_test_set)"
   ]
  },
  {
   "cell_type": "code",
   "execution_count": 112,
   "metadata": {},
   "outputs": [
    {
     "name": "stdout",
     "output_type": "stream",
     "text": [
      "Inference job submitted\n",
      "\n",
      "{'createdOn': '2021-04-29T05:47:22.166931',\n",
      " 'dependsOn': '8d1208da-6997-49f9-ad9f-93de51501adb',\n",
      " 'entryPoint': 'infer',\n",
      " 'entryPointKwargs': '-P run_id=896d2ee3682642dbb75f6696594d8a3d -P '\n",
      "                     'model_name=howard_mnist_adversarial_patches_le_net -P '\n",
      "                     'model_version=none -P batch_size=20 -P '\n",
      "                     'adv_tar_name=spatial_smoothing_dataset.tar.gz -P '\n",
      "                     'adv_data_dir=adv_testing',\n",
      " 'experimentId': 10,\n",
      " 'jobId': 'a72a31e3-d751-4418-9c6b-49fd99de71b6',\n",
      " 'lastModified': '2021-04-29T05:47:22.166931',\n",
      " 'mlflowRunId': None,\n",
      " 'queueId': 2,\n",
      " 'status': 'queued',\n",
      " 'timeout': '24h',\n",
      " 'workflowUri': 's3://workflow/41c49f07704348859d423e7f78d20c15/workflows.tar.gz'}\n",
      "\n",
      "Adversarial Patches with Spatial Smoothing Results: \n",
      "\n",
      "{'accuracy': 0.3682364821434021,\n",
      " 'auc': 0.7625458836555481,\n",
      " 'loss': 1.9789006578659485,\n",
      " 'precision': 0.7761310338973999,\n",
      " 'recall': 0.2990981936454773}\n"
     ]
    }
   ],
   "source": [
    "# Wait for defense to complete, then check baseline model on defended test set with adversarial patches.\n",
    "\n",
    "response_evaluate_spatial_smoothing_images = restapi_client.submit_job(\n",
    "    workflows_file=WORKFLOWS_TAR_GZ,\n",
    "    experiment_name=EXPERIMENT_NAME,\n",
    "    entry_point=\"infer\",\n",
    "    entry_point_kwargs=\" \".join(\n",
    "        [\n",
    "            f\"-P run_id={response_le_net_spatial_smoothing_test_set['mlflowRunId']}\",\n",
    "            f\"-P model_name={EXPERIMENT_NAME}_le_net\",\n",
    "            f\"-P model_version=none\",\n",
    "            \"-P batch_size=20\",\n",
    "            \"-P adv_tar_name=spatial_smoothing_dataset.tar.gz\",\n",
    "            \"-P adv_data_dir=adv_testing\",\n",
    "        ]\n",
    "    ),\n",
    "    queue=\"tensorflow_gpu\",\n",
    "    depends_on=response_le_net_spatial_smoothing_test_set[\"jobId\"],\n",
    ")\n",
    "\n",
    "print(\"Inference job submitted\")\n",
    "print(\"\")\n",
    "pprint.pprint(response_evaluate_spatial_smoothing_images)\n",
    "print(\"\")\n",
    "\n",
    "response_evaluate_spatial_smoothing_images = wait_until_finished(response_evaluate_spatial_smoothing_images)\n",
    "results = get_mlflow_results(response_evaluate_spatial_smoothing_images)\n",
    "print(\"Adversarial Patches with Spatial Smoothing Results: \\n\")\n",
    "pprint.pprint(results.data.metrics)"
   ]
  },
  {
   "cell_type": "markdown",
   "metadata": {},
   "source": [
    "It appears that spatial smoothing does not protect well against adversarial patches."
   ]
  },
  {
   "cell_type": "markdown",
   "metadata": {},
   "source": [
    "#### JPEG Compression Defense:\n",
    "\n",
    "We can adjust the image compression quality by modifying the `jpeg_compression_quality` field. \n",
    "Enter any value between 1 (worst) to 95 (best)."
   ]
  },
  {
   "cell_type": "code",
   "execution_count": 113,
   "metadata": {},
   "outputs": [
    {
     "name": "stdout",
     "output_type": "stream",
     "text": [
      "JPEG compression defense job submitted\n",
      "\n",
      "{'createdOn': '2021-04-29T05:48:05.856451',\n",
      " 'dependsOn': 'd8f4fe18-c8eb-4033-80b4-efe11927c7ae',\n",
      " 'entryPoint': 'jpeg_compression',\n",
      " 'entryPointKwargs': '-P data_dir=//nfs/data/Mnist/training -P batch_size=20 '\n",
      "                     '-P load_dataset_from_mlruns=true -P '\n",
      "                     'dataset_run_id=209139b3250b4fd0b88aed48c5545787 -P '\n",
      "                     'jpeg_compression_quality=30 -P '\n",
      "                     'dataset_tar_name=adversarial_patch_dataset.tar.gz -P '\n",
      "                     'dataset_name=adv_patch_dataset',\n",
      " 'experimentId': 10,\n",
      " 'jobId': '2287e970-b585-49b0-9efa-bd0e54b49768',\n",
      " 'lastModified': '2021-04-29T05:48:05.856451',\n",
      " 'mlflowRunId': None,\n",
      " 'queueId': 2,\n",
      " 'status': 'queued',\n",
      " 'timeout': '24h',\n",
      " 'workflowUri': 's3://workflow/c759fd4188644972bc80bbc001da6f2d/workflows.tar.gz'}\n",
      "\n"
     ]
    }
   ],
   "source": [
    "response_le_net_jpeg_compression_test_set = restapi_client.submit_job(\n",
    "    workflows_file=WORKFLOWS_TAR_GZ,\n",
    "    experiment_name=EXPERIMENT_NAME,\n",
    "    entry_point=\"jpeg_compression\",\n",
    "    entry_point_kwargs=\" \".join(\n",
    "        [\n",
    "            f\"-P data_dir=/{DATASET_DIR}/training\",\n",
    "            \"-P batch_size=20\",\n",
    "            \"-P load_dataset_from_mlruns=true\",\n",
    "            f\"-P dataset_run_id={response_deploy_le_net_patches_mnist_testing['mlflowRunId']}\",\n",
    "            \"-P jpeg_compression_quality=30\",\n",
    "            \"-P dataset_tar_name=adversarial_patch_dataset.tar.gz\",\n",
    "            \"-P dataset_name=adv_patch_dataset\",\n",
    "            \n",
    "        ]\n",
    "    ),\n",
    "    queue=\"tensorflow_gpu\",\n",
    "    depends_on=response_deploy_le_net_patches_mnist_testing[\"jobId\"],\n",
    ")\n",
    "\n",
    "print(\"JPEG compression defense job submitted\")\n",
    "print(\"\")\n",
    "pprint.pprint(response_le_net_jpeg_compression_test_set)\n",
    "print(\"\")\n",
    "\n",
    "response_le_net_jpeg_compression_test_set = get_run_id(response_le_net_jpeg_compression_test_set)"
   ]
  },
  {
   "cell_type": "code",
   "execution_count": 114,
   "metadata": {},
   "outputs": [
    {
     "name": "stdout",
     "output_type": "stream",
     "text": [
      "Inference job submitted\n",
      "\n",
      "{'createdOn': '2021-04-29T05:48:10.979385',\n",
      " 'dependsOn': '2287e970-b585-49b0-9efa-bd0e54b49768',\n",
      " 'entryPoint': 'infer',\n",
      " 'entryPointKwargs': '-P run_id=fa13446f49a04ad187a28f85841513bc -P '\n",
      "                     'model_name=howard_mnist_adversarial_patches_le_net -P '\n",
      "                     'model_version=none -P batch_size=20 -P '\n",
      "                     'adv_tar_name=jpeg_compression_dataset.tar.gz -P '\n",
      "                     'adv_data_dir=adv_testing',\n",
      " 'experimentId': 10,\n",
      " 'jobId': '66a6224d-e873-4c39-abbf-3ee5d3a6cc2e',\n",
      " 'lastModified': '2021-04-29T05:48:10.979385',\n",
      " 'mlflowRunId': None,\n",
      " 'queueId': 2,\n",
      " 'status': 'queued',\n",
      " 'timeout': '24h',\n",
      " 'workflowUri': 's3://workflow/5f5c9a1c713a495ab6142babbf139a9c/workflows.tar.gz'}\n",
      "\n",
      "Adversarial Patches with JPEG Compression Results: \n",
      "\n",
      "{'accuracy': 0.36563125252723694,\n",
      " 'auc': 0.7546454071998596,\n",
      " 'loss': 2.0862985856547382,\n",
      " 'precision': 0.7538230419158936,\n",
      " 'recall': 0.30130261182785034}\n"
     ]
    }
   ],
   "source": [
    "# Wait for defense to complete, then check baseline model on defended test set with adversarial patches.\n",
    "\n",
    "response_evaluate_jpeg_compression_images = restapi_client.submit_job(\n",
    "    workflows_file=WORKFLOWS_TAR_GZ,\n",
    "    experiment_name=EXPERIMENT_NAME,\n",
    "    entry_point=\"infer\",\n",
    "    entry_point_kwargs=\" \".join(\n",
    "        [\n",
    "            f\"-P run_id={response_le_net_jpeg_compression_test_set['mlflowRunId']}\",\n",
    "            f\"-P model_name={EXPERIMENT_NAME}_le_net\",\n",
    "            f\"-P model_version=none\",\n",
    "            \"-P batch_size=20\",\n",
    "            \"-P adv_tar_name=jpeg_compression_dataset.tar.gz\",\n",
    "            \"-P adv_data_dir=adv_testing\",\n",
    "        ]\n",
    "    ),\n",
    "    queue=\"tensorflow_gpu\",\n",
    "    depends_on=response_le_net_jpeg_compression_test_set[\"jobId\"],\n",
    ")\n",
    "\n",
    "print(\"Inference job submitted\")\n",
    "print(\"\")\n",
    "pprint.pprint(response_evaluate_jpeg_compression_images)\n",
    "print(\"\")\n",
    "\n",
    "response_evaluate_jpeg_compression_images = wait_until_finished(response_evaluate_jpeg_compression_images)\n",
    "results = get_mlflow_results(response_evaluate_jpeg_compression_images)\n",
    "print(\"Adversarial Patches with JPEG Compression Results: \\n\")\n",
    "pprint.pprint(results.data.metrics)\n"
   ]
  },
  {
   "cell_type": "markdown",
   "metadata": {},
   "source": [
    "#### Gaussian Augmentation Defense:\n",
    "\n",
    "We can adjust the amount of noise created by the defense by adjusting the `gaussian_augmentation_sigma` parameter. \n",
    "Please enter any positive value for sigma."
   ]
  },
  {
   "cell_type": "code",
   "execution_count": 116,
   "metadata": {},
   "outputs": [
    {
     "name": "stdout",
     "output_type": "stream",
     "text": [
      "Gaussian Augmentation defense job submitted\n",
      "\n",
      "{'createdOn': '2021-04-29T05:49:14.918148',\n",
      " 'dependsOn': 'd8f4fe18-c8eb-4033-80b4-efe11927c7ae',\n",
      " 'entryPoint': 'gaussian_augmentation',\n",
      " 'entryPointKwargs': '-P data_dir=//nfs/data/Mnist/training -P batch_size=20 '\n",
      "                     '-P load_dataset_from_mlruns=true -P '\n",
      "                     'dataset_run_id=209139b3250b4fd0b88aed48c5545787 -P '\n",
      "                     'dataset_tar_name=adversarial_patch_dataset.tar.gz -P '\n",
      "                     'dataset_name=adv_patch_dataset -P '\n",
      "                     'gaussian_augmentation_sigma=0.3',\n",
      " 'experimentId': 10,\n",
      " 'jobId': 'bb8d0a83-0734-48a0-b29b-74f404172841',\n",
      " 'lastModified': '2021-04-29T05:49:14.918148',\n",
      " 'mlflowRunId': None,\n",
      " 'queueId': 2,\n",
      " 'status': 'queued',\n",
      " 'timeout': '24h',\n",
      " 'workflowUri': 's3://workflow/1840f9ab81874e1e8e6274f2b0804fab/workflows.tar.gz'}\n",
      "\n"
     ]
    }
   ],
   "source": [
    "response_le_net_gaussian_augmentation_test_set = restapi_client.submit_job(\n",
    "    workflows_file=WORKFLOWS_TAR_GZ,\n",
    "    experiment_name=EXPERIMENT_NAME,\n",
    "    entry_point=\"gaussian_augmentation\",\n",
    "    entry_point_kwargs=\" \".join(\n",
    "        [\n",
    "            f\"-P data_dir=/{DATASET_DIR}/training\",\n",
    "            \"-P batch_size=20\",\n",
    "            \"-P load_dataset_from_mlruns=true\",\n",
    "            f\"-P dataset_run_id={response_deploy_le_net_patches_mnist_testing['mlflowRunId']}\",\n",
    "            \"-P dataset_tar_name=adversarial_patch_dataset.tar.gz\",\n",
    "            \"-P dataset_name=adv_patch_dataset\",\n",
    "            \"-P gaussian_augmentation_sigma=0.3\"\n",
    "            \n",
    "        ]\n",
    "    ),\n",
    "    queue=\"tensorflow_gpu\",\n",
    "    depends_on=response_deploy_le_net_patches_mnist_testing[\"jobId\"],\n",
    ")\n",
    "\n",
    "\n",
    "print(\"Gaussian Augmentation defense job submitted\")\n",
    "print(\"\")\n",
    "pprint.pprint(response_le_net_gaussian_augmentation_test_set)\n",
    "print(\"\")\n",
    "\n",
    "response_le_net_gaussian_augmentation_test_set = get_run_id(response_le_net_gaussian_augmentation_test_set)"
   ]
  },
  {
   "cell_type": "code",
   "execution_count": 117,
   "metadata": {},
   "outputs": [
    {
     "name": "stdout",
     "output_type": "stream",
     "text": [
      "Inference job submitted\n",
      "\n",
      "{'createdOn': '2021-04-29T05:49:20.049768',\n",
      " 'dependsOn': 'bb8d0a83-0734-48a0-b29b-74f404172841',\n",
      " 'entryPoint': 'infer',\n",
      " 'entryPointKwargs': '-P run_id=a3e3b06af9d84f39b37c578f28eede7b -P '\n",
      "                     'model_name=howard_mnist_adversarial_patches_le_net -P '\n",
      "                     'model_version=none -P batch_size=20 -P '\n",
      "                     'adv_tar_name=gaussian_augmentation_dataset.tar.gz -P '\n",
      "                     'adv_data_dir=adv_testing',\n",
      " 'experimentId': 10,\n",
      " 'jobId': '7d4defb2-ec7d-4732-81c3-9588ac53f143',\n",
      " 'lastModified': '2021-04-29T05:49:20.049768',\n",
      " 'mlflowRunId': None,\n",
      " 'queueId': 2,\n",
      " 'status': 'queued',\n",
      " 'timeout': '24h',\n",
      " 'workflowUri': 's3://workflow/f05b38b9b67b4208bca24995bceb58b9/workflows.tar.gz'}\n",
      "\n",
      "Adversarial Patches with Gaussian Augmentation Results: \n",
      "\n",
      "{'accuracy': 0.3254508972167969,\n",
      " 'auc': 0.6982883810997009,\n",
      " 'loss': 2.709391103001061,\n",
      " 'precision': 0.43165016174316406,\n",
      " 'recall': 0.27494990825653076}\n"
     ]
    }
   ],
   "source": [
    "# Wait for defense to complete, then check baseline model on defended test set with adversarial patches.\n",
    "\n",
    "response_evaluate_gaussian_augmentation_images = restapi_client.submit_job(\n",
    "    workflows_file=WORKFLOWS_TAR_GZ,\n",
    "    experiment_name=EXPERIMENT_NAME,\n",
    "    entry_point=\"infer\",\n",
    "    entry_point_kwargs=\" \".join(\n",
    "        [\n",
    "            f\"-P run_id={response_le_net_gaussian_augmentation_test_set['mlflowRunId']}\",\n",
    "            f\"-P model_name={EXPERIMENT_NAME}_le_net\",\n",
    "            f\"-P model_version=none\",\n",
    "            \"-P batch_size=20\",\n",
    "            \"-P adv_tar_name=gaussian_augmentation_dataset.tar.gz\",\n",
    "            \"-P adv_data_dir=adv_testing\",\n",
    "        ]\n",
    "    ),\n",
    "    queue=\"tensorflow_gpu\",\n",
    "    depends_on=response_le_net_gaussian_augmentation_test_set[\"jobId\"],\n",
    ")\n",
    "\n",
    "print(\"Inference job submitted\")\n",
    "print(\"\")\n",
    "pprint.pprint(response_evaluate_gaussian_augmentation_images)\n",
    "print(\"\")\n",
    "\n",
    "response_evaluate_gaussian_augmentation_images = wait_until_finished(response_evaluate_gaussian_augmentation_images)\n",
    "results = get_mlflow_results(response_evaluate_gaussian_augmentation_images)\n",
    "print(\"Adversarial Patches with Gaussian Augmentation Results: \\n\")\n",
    "pprint.pprint(results.data.metrics)\n"
   ]
  },
  {
   "cell_type": "markdown",
   "metadata": {},
   "source": [
    "It appears that of the three preprocessing defenses, gaussian augmentation might actually improve patch attach effectiveness.\n",
    "\n",
    "Since preprocessing defenses appear to be ineffective at stopping adversarial patches, let's try another approach."
   ]
  },
  {
   "cell_type": "code",
   "execution_count": 133,
   "metadata": {},
   "outputs": [
    {
     "name": "stdout",
     "output_type": "stream",
     "text": [
      "tar czf workflows.tar.gz src/gaussian_augmentation.py src/deploy_patch.py src/init_model.py src/defenses_image_preprocessing.py src/tasks.py src/train.py src/import_keras.py src/spatial_smoothing.py src/generate_patch.py src/jpeg_compression.py src/attacks_patch_updated.py src/fgm.py src/infer.py src/registry_art_updated.py src/estimators_keras_classifiers_updated.py src/data_tensorflow_updated.py MLproject\n",
      "chmod 644 workflows.tar.gz\n"
     ]
    }
   ],
   "source": [
    "%%bash\n",
    "\n",
    "# Create the workflows.tar.gz file\n",
    "make workflows"
   ]
  },
  {
   "cell_type": "markdown",
   "metadata": {},
   "source": [
    "## Adversarial Training Defense:"
   ]
  },
  {
   "cell_type": "markdown",
   "metadata": {},
   "source": [
    "Finally, we will train a new copy of the LeNet model on training set that contains adversarial patches.\n",
    "In doing so, the model learns to ignore the adversarial patches."
   ]
  },
  {
   "cell_type": "code",
   "execution_count": 134,
   "metadata": {},
   "outputs": [
    {
     "name": "stdout",
     "output_type": "stream",
     "text": [
      "Patch adversarial training (LeNet-5 architecture) job submitted\n",
      "\n",
      "{'createdOn': '2021-04-29T06:04:39.569265',\n",
      " 'dependsOn': 'dd0406ef-01c1-4675-aba9-6c8e2965f0d6',\n",
      " 'entryPoint': 'train',\n",
      " 'entryPointKwargs': '-P '\n",
      "                     'dataset_run_id_testing=209139b3250b4fd0b88aed48c5545787 '\n",
      "                     '-P '\n",
      "                     'dataset_run_id_training=2b54f7a500c94043a1a3cd696fddf4e6 '\n",
      "                     '-P batch_size=256 -P model_architecture=le_net -P '\n",
      "                     'register_model_name=howard_mnist_adversarial_patches_adversarial_patch_le_net '\n",
      "                     '-P epochs=30 -P '\n",
      "                     'data_dir_training=/nfs/data/Mnist/training -P '\n",
      "                     'data_dir_testing=/nfs/data/Mnist/testing -P '\n",
      "                     'load_dataset_from_mlruns=True',\n",
      " 'experimentId': 10,\n",
      " 'jobId': '8acfc0cb-3f74-4fb7-9287-80e27f638b08',\n",
      " 'lastModified': '2021-04-29T06:04:39.569265',\n",
      " 'mlflowRunId': None,\n",
      " 'queueId': 2,\n",
      " 'status': 'queued',\n",
      " 'timeout': '24h',\n",
      " 'workflowUri': 's3://workflow/2dc462a7a55848c6912902b89ee65caf/workflows.tar.gz'}\n",
      "\n"
     ]
    }
   ],
   "source": [
    "# Finally, train and retest patched dataset.\n",
    "\n",
    "response_deploy_le_net_patches_mnist_adv_training = restapi_client.submit_job(\n",
    "    workflows_file=WORKFLOWS_TAR_GZ,\n",
    "    experiment_name=EXPERIMENT_NAME,\n",
    "    entry_point=\"train\",\n",
    "    entry_point_kwargs=\" \".join(\n",
    "        [\n",
    "            f\"-P dataset_run_id_testing={response_deploy_le_net_patches_mnist_testing['mlflowRunId']}\",\n",
    "            f\"-P dataset_run_id_training={response_deploy_le_net_patches_mnist_training['mlflowRunId']}\",\n",
    "            \"-P batch_size=256\",\n",
    "            \"-P model_architecture=le_net\",\n",
    "            f\"-P register_model_name={EXPERIMENT_NAME}_adversarial_patch_le_net\",\n",
    "            \"-P epochs=30\",\n",
    "            f\"-P data_dir_training={DATASET_DIR}/training\",\n",
    "            f\"-P data_dir_testing={DATASET_DIR}/testing\",\n",
    "            \"-P load_dataset_from_mlruns=True\",\n",
    "        ]\n",
    "    ),\n",
    "    queue=\"tensorflow_gpu\",\n",
    "    depends_on=response_deploy_le_net_patches_mnist_training[\"jobId\"],\n",
    ")\n",
    "\n",
    "print(\"Patch adversarial training (LeNet-5 architecture) job submitted\")\n",
    "print(\"\")\n",
    "pprint.pprint(response_deploy_le_net_patches_mnist_adv_training)\n",
    "print(\"\")\n",
    "\n",
    "response_deploy_le_net_patches_mnist_adv_training = get_run_id(response_deploy_le_net_patches_mnist_adv_training)"
   ]
  },
  {
   "cell_type": "code",
   "execution_count": 137,
   "metadata": {},
   "outputs": [
    {
     "name": "stdout",
     "output_type": "stream",
     "text": [
      "Patch evaluation job submitted\n",
      "\n",
      "{'createdOn': '2021-04-29T06:16:42.979016',\n",
      " 'dependsOn': '8acfc0cb-3f74-4fb7-9287-80e27f638b08',\n",
      " 'entryPoint': 'infer',\n",
      " 'entryPointKwargs': '-P run_id=209139b3250b4fd0b88aed48c5545787 -P '\n",
      "                     'model_name=howard_mnist_adversarial_patches_adversarial_patch_le_net '\n",
      "                     '-P model_version=none -P batch_size=20 -P '\n",
      "                     'adv_tar_name=adversarial_patch_dataset.tar.gz -P '\n",
      "                     'adv_data_dir=adv_patch_dataset',\n",
      " 'experimentId': 10,\n",
      " 'jobId': 'd6201cca-1a4e-4f6c-abf0-1b3e733346f4',\n",
      " 'lastModified': '2021-04-29T06:16:42.979016',\n",
      " 'mlflowRunId': None,\n",
      " 'queueId': 2,\n",
      " 'status': 'queued',\n",
      " 'timeout': '24h',\n",
      " 'workflowUri': 's3://workflow/5b404f82e5c14a3c9ed6a7693a1eb84b/workflows.tar.gz'}\n",
      "\n",
      "Adversarial Training Results:\n"
     ]
    }
   ],
   "source": [
    "response_evaluate_adv_training = restapi_client.submit_job(\n",
    "    workflows_file=WORKFLOWS_TAR_GZ,\n",
    "    experiment_name=EXPERIMENT_NAME,\n",
    "    entry_point=\"infer\",\n",
    "    entry_point_kwargs=\" \".join(\n",
    "        [\n",
    "            f\"-P run_id={response_deploy_le_net_patches_mnist_testing['mlflowRunId']}\",\n",
    "            f\"-P model_name={EXPERIMENT_NAME}_adversarial_patch_le_net\",\n",
    "            f\"-P model_version=none\",\n",
    "            \"-P batch_size=20\",\n",
    "            \"-P adv_tar_name=adversarial_patch_dataset.tar.gz\",\n",
    "            \"-P adv_data_dir=adv_patch_dataset\",\n",
    "        ]\n",
    "    ),\n",
    "    queue=\"tensorflow_gpu\",\n",
    "    depends_on=response_deploy_le_net_patches_mnist_adv_training[\"jobId\"],\n",
    ")\n",
    "\n",
    "print(\"Patch evaluation job submitted\")\n",
    "print(\"\")\n",
    "pprint.pprint(response_evaluate_adv_training)\n",
    "print(\"\")\n",
    "\n",
    "response_evaluate_adv_training = wait_until_finished(response_evaluate_adv_training)\n",
    "results = get_mlflow_results(response_evaluate_adv_training)\n",
    "print(\"Adversarial Training Results:\")"
   ]
  },
  {
   "cell_type": "markdown",
   "metadata": {},
   "source": [
    "**We can see that for adversarial patches, adversarial training appears to be a good option.**"
   ]
  },
  {
   "cell_type": "markdown",
   "metadata": {},
   "source": [
    "**Some other interesting approaches that users may want to investigate by modfifying this demo are:**\n",
    "\n",
    "-   Generating a separate set of patches for training and test data. \n",
    "    -   To do so, add a secondary patch generation job and link the run_id of this new job to one of the existing test/training patch deployment jobs.\n",
    "-   Experimenting with alternate adversarially trained models. \n",
    "    -   If both the MNIST patch demo and MNIST FGM demos are run together, then users can swap the `model={EXPERIMENT_NAME}_adversarial_patch_le_net/None` with the model name of the FGM experiment.\n",
    "    -   Doing so can let users quickly check which adversarial training offers robust protection against multiple types of attacks. \n",
    "     \n",
    "**Please consult the README documentation for more information regarding available entrypoints and attack/defense parameters.**"
   ]
  },
  {
   "cell_type": "markdown",
   "metadata": {},
   "source": [
    "<a id='querying_cell'></a>\n",
    "## Querying the MLFlow Tracking Service"
   ]
  },
  {
   "cell_type": "markdown",
   "metadata": {},
   "source": [
    "Currently the lab API can only be used to register experiments and start jobs, so if users wish to extract their results programmatically, they can use the `MlflowClient()` class from the `mlflow` Python package to connect and query their results.\n",
    "Since we captured the run ids generated by MLFlow, we can easily retrieve the data logged about one of our jobs and inspect the results.\n",
    "To start the client, we simply need to run,"
   ]
  },
  {
   "cell_type": "code",
   "execution_count": null,
   "metadata": {},
   "outputs": [],
   "source": [
    "mlflow_client = MlflowClient()"
   ]
  },
  {
   "cell_type": "markdown",
   "metadata": {},
   "source": [
    "The client uses the environment variable `MLFLOW_TRACKING_URI` to figure out how to connect to the MLFlow Tracking Service, which we configured near the top of this notebook.\n",
    "To query the results of one of our runs, we just need to pass the run id to the client's `get_run()` method.\n",
    "As an example, let's query the run results for the patch attack applied to the LeNet-5 architecture,"
   ]
  },
  {
   "cell_type": "code",
   "execution_count": null,
   "metadata": {},
   "outputs": [],
   "source": [
    "run_le_net = mlflow_client.get_run(response_le_net_patches[\"mlflowRunId\"])"
   ]
  },
  {
   "cell_type": "markdown",
   "metadata": {},
   "source": [
    "If the request completed successfully, we should now be able to query data collected during the run.\n",
    "For example, to review the collected metrics, we just use,"
   ]
  },
  {
   "cell_type": "code",
   "execution_count": null,
   "metadata": {},
   "outputs": [],
   "source": [
    "pprint.pprint(run_le_net.data.metrics)"
   ]
  },
  {
   "cell_type": "markdown",
   "metadata": {},
   "source": [
    "To review the run's parameters, we use,"
   ]
  },
  {
   "cell_type": "code",
   "execution_count": null,
   "metadata": {},
   "outputs": [],
   "source": [
    "pprint.pprint(run_le_net.data.params)"
   ]
  },
  {
   "cell_type": "markdown",
   "metadata": {},
   "source": [
    "To review the run's tags, we use,"
   ]
  },
  {
   "cell_type": "code",
   "execution_count": null,
   "metadata": {},
   "outputs": [],
   "source": [
    "pprint.pprint(run_le_net.data.tags)"
   ]
  },
  {
   "cell_type": "markdown",
   "metadata": {},
   "source": [
    "There are many things you can query using the MLFlow client.\n",
    "[The MLFlow documentation gives a full overview of the methods that are available](https://www.mlflow.org/docs/latest/python_api/mlflow.tracking.html#mlflow.tracking.MlflowClient)."
   ]
  }
 ],
 "metadata": {
  "kernelspec": {
   "display_name": "Python 3",
   "language": "python",
   "name": "python3"
  },
  "language_info": {
   "codemirror_mode": {
    "name": "ipython",
    "version": 3
   },
   "file_extension": ".py",
   "mimetype": "text/x-python",
   "name": "python",
   "nbconvert_exporter": "python",
   "pygments_lexer": "ipython3",
   "version": "3.7.7"
  }
 },
 "nbformat": 4,
 "nbformat_minor": 4
}
