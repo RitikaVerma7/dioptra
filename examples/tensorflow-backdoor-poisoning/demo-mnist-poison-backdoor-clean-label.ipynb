{
 "cells": [
  {
   "cell_type": "markdown",
   "metadata": {},
   "source": [
    "# Tensorflow Adversarial Embedding MNIST demo for Securing AI Lab deployment"
   ]
  },
  {
   "cell_type": "markdown",
   "metadata": {},
   "source": [
    "This demo will cover the adversarial clean label backdoor attack on an MNIST-LeNet model.\n",
    "The following two sections cover experiment setup and is similar across all demos.\n",
    "To access demo results in MlFlow, please follow the general experiment setup steps outlined in `basic-mlflow-demo`."
   ]
  },
  {
   "cell_type": "markdown",
   "metadata": {},
   "source": [
    "## Setup: Experiment Name and MNIST Dataset"
   ]
  },
  {
   "cell_type": "markdown",
   "metadata": {},
   "source": [
    "Here we will import the necessary Python modules and ensure the proper environment variables are set so that all the code blocks will work as expected.\n",
    "\n",
    "**Important: Users will need to verify or update the following parameters:**\n",
    "\n",
    "- Ensure that the `USERNAME` parameter is set to your own name.\n",
    "- Ensure that the `DATASET_DIR` parameter is set to the location of the MNIST dataset directory. Currently set to `/nfs/data/Mnist` as the default location.\n",
    "- (Optional) Set the `EXPERIMENT_NAME` parameter to your own preferred experiment name.\n",
    "\n",
    "Other parameters can be modified to alter the RESTful API and MLFlow tracking addresses. "
   ]
  },
  {
   "cell_type": "code",
   "execution_count": 1,
   "metadata": {},
   "outputs": [],
   "source": [
    "# Import packages from the Python standard library\n",
    "import os\n",
    "import pprint\n",
    "import time\n",
    "import warnings\n",
    "from pathlib import Path\n",
    "from typing import Tuple\n",
    "\n",
    "# Filter out warning messages\n",
    "warnings.filterwarnings(\"ignore\")\n",
    "\n",
    "# Please enter custom username here.\n",
    "USERNAME = \"howard\"\n",
    "\n",
    "# Ensure that the dataset location is properly set here.\n",
    "DATASET_DIR = \"/nfs/data/Mnist\"\n",
    "\n",
    "# Experiment name (note the username_ prefix convention)\n",
    "EXPERIMENT_NAME = f\"{USERNAME}_mnist_clean_label_backdoor\"\n",
    "\n",
    "# Address for connecting the docker container to exposed ports on the host device\n",
    "HOST_DOCKER_INTERNAL = \"host.docker.internal\"\n",
    "# HOST_DOCKER_INTERNAL = \"172.17.0.1\"\n",
    "\n",
    "# Testbed API ports\n",
    "RESTAPI_PORT = \"30080\"\n",
    "MLFLOW_TRACKING_PORT = \"35000\"\n",
    "\n",
    "# Default address for accessing the RESTful API service\n",
    "RESTAPI_ADDRESS = (\n",
    "    f\"http://{HOST_DOCKER_INTERNAL}:{RESTAPI_PORT}\"\n",
    "    if os.getenv(\"IS_JUPYTER_SERVICE\")\n",
    "    else f\"http://localhost:{RESTAPI_PORT}\"\n",
    ")\n",
    "\n",
    "# Override the AI_RESTAPI_URI variable, used to connect to RESTful API service\n",
    "os.environ[\"AI_RESTAPI_URI\"] = RESTAPI_ADDRESS\n",
    "\n",
    "# Default address for accessing the MLFlow Tracking server\n",
    "MLFLOW_TRACKING_URI = (\n",
    "    f\"http://{HOST_DOCKER_INTERNAL}:{MLFLOW_TRACKING_PORT}\"\n",
    "    if os.getenv(\"IS_JUPYTER_SERVICE\")\n",
    "    else f\"http://localhost:{MLFLOW_TRACKING_PORT}\"\n",
    ")\n",
    "\n",
    "# Override the MLFLOW_TRACKING_URI variable, used to connect to MLFlow Tracking service\n",
    "os.environ[\"MLFLOW_TRACKING_URI\"] = MLFLOW_TRACKING_URI\n",
    "\n",
    "# Base API address\n",
    "RESTAPI_API_BASE = f\"{RESTAPI_ADDRESS}/api\"\n",
    "\n",
    "# Path to workflows archive\n",
    "WORKFLOWS_TAR_GZ = Path(\"workflows.tar.gz\")\n",
    "\n",
    "# Import third-party Python packages\n",
    "import numpy as np\n",
    "import requests\n",
    "from mlflow.tracking import MlflowClient\n",
    "\n",
    "# Import utils.py file\n",
    "import utils\n",
    "\n",
    "# Create random number generator\n",
    "rng = np.random.default_rng(54399264723942495723666216079516778448)"
   ]
  },
  {
   "cell_type": "markdown",
   "metadata": {},
   "source": [
    "## Submit and run jobs"
   ]
  },
  {
   "cell_type": "markdown",
   "metadata": {},
   "source": [
    "The entrypoints that we will be running in this example are implemented in the Python source files under `src/` and the `MLproject` file.\n",
    "To run these entrypoints within the testbed architecture, we need to package those files up into an archive and submit it to the Testbed RESTful API to create a new job.\n",
    "For convenience, the `Makefile` provides a rule for creating the archive file for this example, just run `make workflows`,"
   ]
  },
  {
   "cell_type": "code",
   "execution_count": 2,
   "metadata": {},
   "outputs": [
    {
     "name": "stdout",
     "output_type": "stream",
     "text": [
      "tar czf workflows.tar.gz src/gaussian_augmentation.py src/infer.py src/defenses_image_preprocessing.py src/tasks.py src/attacks_poison_updated.py src/deploy_poison_data.py src/tracking_mlflow_updated.py src/gen_poison_data.py src/train.py src/import_keras.py src/spatial_smoothing.py src/jpeg_compression.py src/init_model.py src/gen_poison_clean_data.py src/gen_poison_model.py src/registry_art_updated.py src/estimators_keras_classifiers_updated.py src/data_tensorflow_updated.py MLproject\n",
      "chmod 644 workflows.tar.gz\n"
     ]
    },
    {
     "name": "stderr",
     "output_type": "stream",
     "text": [
      "/home/hhuang/.conda/envs/tensorflow-mnist-classifier/lib/python3.7/site-packages/ipykernel/ipkernel.py:287: DeprecationWarning: `should_run_async` will not call `transform_cell` automatically in the future. Please pass the result to `transformed_cell` argument and any exception that happen during thetransform in `preprocessing_exc_tuple` in IPython 7.17 and above.\n",
      "  and should_run_async(code)\n"
     ]
    }
   ],
   "source": [
    "%%bash\n",
    "\n",
    "# Create the workflows.tar.gz file\n",
    "make workflows"
   ]
  },
  {
   "cell_type": "markdown",
   "metadata": {},
   "source": [
    "To connect with the endpoint, we will use a client class defined in the `utils.py` file that is able to connect with the Testbed RESTful API using the HTTP protocol.\n",
    "We connect using the client below, which uses the environment variable `AI_RESTAPI_URI` to figure out how to connect to the Testbed RESTful API,"
   ]
  },
  {
   "cell_type": "code",
   "execution_count": 3,
   "metadata": {},
   "outputs": [
    {
     "name": "stderr",
     "output_type": "stream",
     "text": [
      "/home/hhuang/.conda/envs/tensorflow-mnist-classifier/lib/python3.7/site-packages/ipykernel/ipkernel.py:287: DeprecationWarning: `should_run_async` will not call `transform_cell` automatically in the future. Please pass the result to `transformed_cell` argument and any exception that happen during thetransform in `preprocessing_exc_tuple` in IPython 7.17 and above.\n",
      "  and should_run_async(code)\n"
     ]
    }
   ],
   "source": [
    "restapi_client = utils.SecuringAIClient()"
   ]
  },
  {
   "cell_type": "markdown",
   "metadata": {},
   "source": [
    "We need to register an experiment under which to collect our job runs.\n",
    "The code below checks if the relevant experiment exists.\n",
    "If it does, then it just returns info about the experiment, if it doesn't, it then registers the new experiment."
   ]
  },
  {
   "cell_type": "code",
   "execution_count": 4,
   "metadata": {},
   "outputs": [
    {
     "data": {
      "text/plain": [
       "{'experimentId': 22,\n",
       " 'name': 'howard_mnist_clean_label_backdoor',\n",
       " 'lastModified': '2021-01-25T20:03:56.964324',\n",
       " 'createdOn': '2021-01-25T20:03:56.964324'}"
      ]
     },
     "execution_count": 4,
     "metadata": {},
     "output_type": "execute_result"
    }
   ],
   "source": [
    "response_experiment = restapi_client.get_experiment_by_name(name=EXPERIMENT_NAME)\n",
    "\n",
    "if response_experiment is None or \"Not Found\" in response_experiment.get(\"message\", []):\n",
    "    response_experiment = restapi_client.register_experiment(name=EXPERIMENT_NAME)\n",
    "\n",
    "response_experiment"
   ]
  },
  {
   "cell_type": "markdown",
   "metadata": {},
   "source": [
    "We should also check which queues are available for running our jobs to make sure that the resources that we need are available.\n",
    "The code below queries the Testbed API and returns a list of active queues."
   ]
  },
  {
   "cell_type": "code",
   "execution_count": 5,
   "metadata": {},
   "outputs": [
    {
     "data": {
      "text/plain": [
       "[{'name': 'tensorflow_cpu',\n",
       "  'lastModified': '2020-11-20T17:46:06.756687',\n",
       "  'createdOn': '2020-11-20T17:46:06.756687',\n",
       "  'queueId': 1},\n",
       " {'name': 'tensorflow_gpu',\n",
       "  'lastModified': '2020-11-20T18:00:40.876888',\n",
       "  'createdOn': '2020-11-20T18:00:40.876888',\n",
       "  'queueId': 2},\n",
       " {'name': 'pytorch_cpu',\n",
       "  'lastModified': '2020-11-20T19:52:36.079781',\n",
       "  'createdOn': '2020-11-20T19:52:36.079781',\n",
       "  'queueId': 5},\n",
       " {'name': 'pytorch_gpu',\n",
       "  'lastModified': '2020-11-20T19:52:43.348460',\n",
       "  'createdOn': '2020-11-20T19:52:43.348460',\n",
       "  'queueId': 7}]"
      ]
     },
     "execution_count": 5,
     "metadata": {},
     "output_type": "execute_result"
    }
   ],
   "source": [
    "restapi_client.list_queues()"
   ]
  },
  {
   "cell_type": "markdown",
   "metadata": {},
   "source": [
    "The following helper functions will recheck the job responses until the job is completed or a run ID is available. \n",
    "The run ID is needed to link dependencies between jobs."
   ]
  },
  {
   "cell_type": "code",
   "execution_count": 6,
   "metadata": {},
   "outputs": [],
   "source": [
    "def mlflow_run_id_is_not_known(job_response):\n",
    "    return job_response[\"mlflowRunId\"] is None and job_response[\"status\"] not in [\n",
    "        \"failed\",\n",
    "        \"finished\",\n",
    "    ]\n",
    "\n",
    "\n",
    "def get_run_id(job_response):\n",
    "    while mlflow_run_id_is_not_known(job_response):\n",
    "        time.sleep(1)\n",
    "        job_response = restapi_client.get_job_by_id(job_response[\"jobId\"])\n",
    "        \n",
    "    return job_response\n",
    "\n",
    "\n",
    "def wait_until_finished(job_response):\n",
    "    # First make sure job has started.\n",
    "    job_response = get_run_id(job_response)\n",
    "    \n",
    "    # Next re-check job until it has stopped running.\n",
    "    while (job_response[\"status\"] not in [\"failed\", \"finished\"]):\n",
    "        time.sleep(1)\n",
    "        job_response = restapi_client.get_job_by_id(job_response[\"jobId\"])\n",
    "    \n",
    "    return job_response\n",
    "\n",
    "\n",
    "# Helper function for viewing MLflow results\n",
    "def get_mlflow_results(job_response):\n",
    "    mlflow_client = MlflowClient()\n",
    "    job_response = wait_until_finished(job_response)\n",
    "    \n",
    "    if(job_response['status']==\"failed\"):\n",
    "        return {}\n",
    "    \n",
    "    run = mlflow_client.get_run(job_response[\"mlflowRunId\"])  \n",
    "    \n",
    "    while(len(run.data.metrics) == 0):\n",
    "        time.sleep(1)\n",
    "        run = mlflow_client.get_run(job_response[\"mlflowRunId\"])\n",
    "        \n",
    "    return run\n",
    "\n",
    "\n",
    "def print_mlflow_results(response):\n",
    "    results = get_mlflow_results(response)\n",
    "    pprint.pprint(results.data.metrics)"
   ]
  },
  {
   "cell_type": "markdown",
   "metadata": {},
   "source": [
    "## MNIST Training: Baseline Model"
   ]
  },
  {
   "cell_type": "markdown",
   "metadata": {},
   "source": [
    "Next, we need to train our baseline model that will serve as a reference point for the effectiveness of our attacks.\n",
    "We will be submitting our job to the `\"tensorflow_gpu\"` queue."
   ]
  },
  {
   "cell_type": "code",
   "execution_count": 7,
   "metadata": {},
   "outputs": [
    {
     "name": "stdout",
     "output_type": "stream",
     "text": [
      "Training job for LeNet-5 neural network submitted\n",
      "\n",
      "{'createdOn': '2021-06-02T08:07:28.751618',\n",
      " 'dependsOn': None,\n",
      " 'entryPoint': 'train',\n",
      " 'entryPointKwargs': '-P batch_size=256 -P '\n",
      "                     'register_model_name=howard_mnist_clean_label_backdoor_le_net '\n",
      "                     '-P model_architecture=le_net -P epochs=30 -P '\n",
      "                     'data_dir_training=/nfs/data/Mnist/training -P '\n",
      "                     'data_dir_testing=/nfs/data/Mnist/testing',\n",
      " 'experimentId': 22,\n",
      " 'jobId': '1634741f-f0cb-4e21-9afe-53dc4e1e898b',\n",
      " 'lastModified': '2021-06-02T08:07:28.751618',\n",
      " 'mlflowRunId': None,\n",
      " 'queueId': 2,\n",
      " 'status': 'queued',\n",
      " 'timeout': '1h',\n",
      " 'workflowUri': 's3://workflow/c55c6252451140b9a353fd36edf6c12c/workflows.tar.gz'}\n",
      "{'accuracy': 0.9768561124801636,\n",
      " 'auc': 0.9988279342651367,\n",
      " 'loss': 0.0771464533466278,\n",
      " 'precision': 0.9808854460716248,\n",
      " 'recall': 0.9738563299179077,\n",
      " 'restored_epoch': 2.0,\n",
      " 'stopped_epoch': 7.0,\n",
      " 'training_time_in_minutes': 5.0481032,\n",
      " 'val_accuracy': 0.985995352268219,\n",
      " 'val_auc': 0.9992187023162842,\n",
      " 'val_loss': 0.04799683207764904,\n",
      " 'val_precision': 0.9876264333724976,\n",
      " 'val_recall': 0.9847449064254761}\n"
     ]
    }
   ],
   "source": [
    "response_le_net_train = restapi_client.submit_job(\n",
    "    workflows_file=WORKFLOWS_TAR_GZ,\n",
    "    experiment_name=EXPERIMENT_NAME,\n",
    "    entry_point=\"train\",\n",
    "    entry_point_kwargs=\" \".join([\n",
    "        \"-P batch_size=256\",\n",
    "        f\"-P register_model_name={EXPERIMENT_NAME}_le_net\",\n",
    "        \"-P model_architecture=le_net\",\n",
    "        \"-P epochs=30\",\n",
    "        f\"-P data_dir_training={DATASET_DIR}/training\",\n",
    "        f\"-P data_dir_testing={DATASET_DIR}/testing\",\n",
    "    ]),\n",
    "    queue=\"tensorflow_gpu\",\n",
    "    timeout=\"1h\",    \n",
    ")\n",
    "\n",
    "print(\"Training job for LeNet-5 neural network submitted\")\n",
    "print(\"\")\n",
    "pprint.pprint(response_le_net_train)\n",
    "\n",
    "response_le_net_train = get_run_id(response_le_net_train)\n",
    "print_mlflow_results(response_le_net_train)"
   ]
  },
  {
   "cell_type": "code",
   "execution_count": 29,
   "metadata": {},
   "outputs": [
    {
     "name": "stderr",
     "output_type": "stream",
     "text": [
      "/home/hhuang/.conda/envs/tensorflow-mnist-classifier/lib/python3.7/site-packages/ipykernel/ipkernel.py:287: DeprecationWarning: `should_run_async` will not call `transform_cell` automatically in the future. Please pass the result to `transformed_cell` argument and any exception that happen during thetransform in `preprocessing_exc_tuple` in IPython 7.17 and above.\n",
      "  and should_run_async(code)\n"
     ]
    },
    {
     "name": "stdout",
     "output_type": "stream",
     "text": [
      "Training job for LeNet-5 neural network submitted\n",
      "\n",
      "{'createdOn': '2021-06-02T09:38:44.367335',\n",
      " 'dependsOn': None,\n",
      " 'entryPoint': 'train_madry_pgd',\n",
      " 'entryPointKwargs': '-P batch_size=256 -P '\n",
      "                     'register_model_name=howard_mnist_clean_label_backdoor_robust_le_net '\n",
      "                     '-P model_architecture=le_net -P epochs=30 -P '\n",
      "                     'data_dir_training=/nfs/data/Mnist/training -P '\n",
      "                     'data_dir_testing=/nfs/data/Mnist/testing',\n",
      " 'experimentId': 22,\n",
      " 'jobId': '85268ee2-d315-4cf5-98f1-9e78a6c35d9e',\n",
      " 'lastModified': '2021-06-02T09:38:44.367335',\n",
      " 'mlflowRunId': None,\n",
      " 'queueId': 2,\n",
      " 'status': 'queued',\n",
      " 'timeout': '1h',\n",
      " 'workflowUri': 's3://workflow/3f1e1c60d49d47fcbcde4ee1e7f84ed0/workflows.tar.gz'}\n"
     ]
    },
    {
     "ename": "KeyboardInterrupt",
     "evalue": "",
     "output_type": "error",
     "traceback": [
      "\u001b[0;31m---------------------------------------------------------------------------\u001b[0m",
      "\u001b[0;31mKeyboardInterrupt\u001b[0m                         Traceback (most recent call last)",
      "\u001b[0;32m<ipython-input-29-cedeb51273f3>\u001b[0m in \u001b[0;36m<module>\u001b[0;34m\u001b[0m\n\u001b[1;32m     22\u001b[0m \u001b[0;34m\u001b[0m\u001b[0m\n\u001b[1;32m     23\u001b[0m \u001b[0mresponse_le_net_train_robust\u001b[0m \u001b[0;34m=\u001b[0m \u001b[0mget_run_id\u001b[0m\u001b[0;34m(\u001b[0m\u001b[0mresponse_le_net_train_robust\u001b[0m\u001b[0;34m)\u001b[0m\u001b[0;34m\u001b[0m\u001b[0;34m\u001b[0m\u001b[0m\n\u001b[0;32m---> 24\u001b[0;31m \u001b[0mprint_mlflow_results\u001b[0m\u001b[0;34m(\u001b[0m\u001b[0mresponse_le_net_train_robust\u001b[0m\u001b[0;34m)\u001b[0m\u001b[0;34m\u001b[0m\u001b[0;34m\u001b[0m\u001b[0m\n\u001b[0m",
      "\u001b[0;32m<ipython-input-6-6fc42497b43e>\u001b[0m in \u001b[0;36mprint_mlflow_results\u001b[0;34m(response)\u001b[0m\n\u001b[1;32m     44\u001b[0m \u001b[0;34m\u001b[0m\u001b[0m\n\u001b[1;32m     45\u001b[0m \u001b[0;32mdef\u001b[0m \u001b[0mprint_mlflow_results\u001b[0m\u001b[0;34m(\u001b[0m\u001b[0mresponse\u001b[0m\u001b[0;34m)\u001b[0m\u001b[0;34m:\u001b[0m\u001b[0;34m\u001b[0m\u001b[0;34m\u001b[0m\u001b[0m\n\u001b[0;32m---> 46\u001b[0;31m     \u001b[0mresults\u001b[0m \u001b[0;34m=\u001b[0m \u001b[0mget_mlflow_results\u001b[0m\u001b[0;34m(\u001b[0m\u001b[0mresponse\u001b[0m\u001b[0;34m)\u001b[0m\u001b[0;34m\u001b[0m\u001b[0;34m\u001b[0m\u001b[0m\n\u001b[0m\u001b[1;32m     47\u001b[0m     \u001b[0mpprint\u001b[0m\u001b[0;34m.\u001b[0m\u001b[0mpprint\u001b[0m\u001b[0;34m(\u001b[0m\u001b[0mresults\u001b[0m\u001b[0;34m.\u001b[0m\u001b[0mdata\u001b[0m\u001b[0;34m.\u001b[0m\u001b[0mmetrics\u001b[0m\u001b[0;34m)\u001b[0m\u001b[0;34m\u001b[0m\u001b[0;34m\u001b[0m\u001b[0m\n",
      "\u001b[0;32m<ipython-input-6-6fc42497b43e>\u001b[0m in \u001b[0;36mget_mlflow_results\u001b[0;34m(job_response)\u001b[0m\n\u001b[1;32m     29\u001b[0m \u001b[0;32mdef\u001b[0m \u001b[0mget_mlflow_results\u001b[0m\u001b[0;34m(\u001b[0m\u001b[0mjob_response\u001b[0m\u001b[0;34m)\u001b[0m\u001b[0;34m:\u001b[0m\u001b[0;34m\u001b[0m\u001b[0;34m\u001b[0m\u001b[0m\n\u001b[1;32m     30\u001b[0m     \u001b[0mmlflow_client\u001b[0m \u001b[0;34m=\u001b[0m \u001b[0mMlflowClient\u001b[0m\u001b[0;34m(\u001b[0m\u001b[0;34m)\u001b[0m\u001b[0;34m\u001b[0m\u001b[0;34m\u001b[0m\u001b[0m\n\u001b[0;32m---> 31\u001b[0;31m     \u001b[0mjob_response\u001b[0m \u001b[0;34m=\u001b[0m \u001b[0mwait_until_finished\u001b[0m\u001b[0;34m(\u001b[0m\u001b[0mjob_response\u001b[0m\u001b[0;34m)\u001b[0m\u001b[0;34m\u001b[0m\u001b[0;34m\u001b[0m\u001b[0m\n\u001b[0m\u001b[1;32m     32\u001b[0m \u001b[0;34m\u001b[0m\u001b[0m\n\u001b[1;32m     33\u001b[0m     \u001b[0;32mif\u001b[0m\u001b[0;34m(\u001b[0m\u001b[0mjob_response\u001b[0m\u001b[0;34m[\u001b[0m\u001b[0;34m'status'\u001b[0m\u001b[0;34m]\u001b[0m\u001b[0;34m==\u001b[0m\u001b[0;34m\"failed\"\u001b[0m\u001b[0;34m)\u001b[0m\u001b[0;34m:\u001b[0m\u001b[0;34m\u001b[0m\u001b[0;34m\u001b[0m\u001b[0m\n",
      "\u001b[0;32m<ipython-input-6-6fc42497b43e>\u001b[0m in \u001b[0;36mwait_until_finished\u001b[0;34m(job_response)\u001b[0m\n\u001b[1;32m     20\u001b[0m     \u001b[0;31m# Next re-check job until it has stopped running.\u001b[0m\u001b[0;34m\u001b[0m\u001b[0;34m\u001b[0m\u001b[0;34m\u001b[0m\u001b[0m\n\u001b[1;32m     21\u001b[0m     \u001b[0;32mwhile\u001b[0m \u001b[0;34m(\u001b[0m\u001b[0mjob_response\u001b[0m\u001b[0;34m[\u001b[0m\u001b[0;34m\"status\"\u001b[0m\u001b[0;34m]\u001b[0m \u001b[0;32mnot\u001b[0m \u001b[0;32min\u001b[0m \u001b[0;34m[\u001b[0m\u001b[0;34m\"failed\"\u001b[0m\u001b[0;34m,\u001b[0m \u001b[0;34m\"finished\"\u001b[0m\u001b[0;34m]\u001b[0m\u001b[0;34m)\u001b[0m\u001b[0;34m:\u001b[0m\u001b[0;34m\u001b[0m\u001b[0;34m\u001b[0m\u001b[0m\n\u001b[0;32m---> 22\u001b[0;31m         \u001b[0mtime\u001b[0m\u001b[0;34m.\u001b[0m\u001b[0msleep\u001b[0m\u001b[0;34m(\u001b[0m\u001b[0;36m1\u001b[0m\u001b[0;34m)\u001b[0m\u001b[0;34m\u001b[0m\u001b[0;34m\u001b[0m\u001b[0m\n\u001b[0m\u001b[1;32m     23\u001b[0m         \u001b[0mjob_response\u001b[0m \u001b[0;34m=\u001b[0m \u001b[0mrestapi_client\u001b[0m\u001b[0;34m.\u001b[0m\u001b[0mget_job_by_id\u001b[0m\u001b[0;34m(\u001b[0m\u001b[0mjob_response\u001b[0m\u001b[0;34m[\u001b[0m\u001b[0;34m\"jobId\"\u001b[0m\u001b[0;34m]\u001b[0m\u001b[0;34m)\u001b[0m\u001b[0;34m\u001b[0m\u001b[0;34m\u001b[0m\u001b[0m\n\u001b[1;32m     24\u001b[0m \u001b[0;34m\u001b[0m\u001b[0m\n",
      "\u001b[0;31mKeyboardInterrupt\u001b[0m: "
     ]
    }
   ],
   "source": [
    "# Train a special model for making poisons\n",
    "response_le_net_train_robust = restapi_client.submit_job(\n",
    "    workflows_file=WORKFLOWS_TAR_GZ,\n",
    "    experiment_name=EXPERIMENT_NAME,\n",
    "    entry_point=\"train_madry_pgd\",\n",
    "    entry_point_kwargs=\" \".join([\n",
    "        \"-P batch_size=256\",\n",
    "        f\"-P register_model_name={EXPERIMENT_NAME}_robust_le_net\",\n",
    "        \"-P model_architecture=le_net\",\n",
    "        \"-P epochs=10\",\n",
    "        f\"-P data_dir_training={DATASET_DIR}/training\",\n",
    "        f\"-P data_dir_testing={DATASET_DIR}/testing\",\n",
    "    ]),\n",
    "    queue=\"tensorflow_gpu\",\n",
    "    timeout=\"1h\",\n",
    "    \n",
    ")\n",
    "\n",
    "print(\"Training job for LeNet-5 neural network submitted\")\n",
    "print(\"\")\n",
    "pprint.pprint(response_le_net_train_robust)\n",
    "\n",
    "response_le_net_train_robust = get_run_id(response_le_net_train_robust)\n",
    "print_mlflow_results(response_le_net_train_robust)"
   ]
  },
  {
   "cell_type": "markdown",
   "metadata": {},
   "source": [
    "### Generating Poisoned Images"
   ]
  },
  {
   "cell_type": "markdown",
   "metadata": {},
   "source": [
    "Now we will create our set of poisoned images.\n",
    "Start by submitting the poison generation job below."
   ]
  },
  {
   "cell_type": "code",
   "execution_count": 8,
   "metadata": {},
   "outputs": [
    {
     "name": "stdout",
     "output_type": "stream",
     "text": [
      "Backdoor poison attack (LeNet-5 architecture) job submitted\n",
      "\n",
      "{'createdOn': '2021-06-02T08:12:55.075049',\n",
      " 'dependsOn': '1634741f-f0cb-4e21-9afe-53dc4e1e898b',\n",
      " 'entryPoint': 'gen_poison_data',\n",
      " 'entryPointKwargs': '-P data_dir=/nfs/data/Mnist/testing -P batch_size=100 -P '\n",
      "                     'target_class=1 -P poison_fraction=1 -P label_type=test',\n",
      " 'experimentId': 22,\n",
      " 'jobId': 'ee35f03e-21c9-459e-ab7a-6022b182526b',\n",
      " 'lastModified': '2021-06-02T08:12:55.075049',\n",
      " 'mlflowRunId': None,\n",
      " 'queueId': 2,\n",
      " 'status': 'queued',\n",
      " 'timeout': '24h',\n",
      " 'workflowUri': 's3://workflow/6a58bbf3966a4a95b60e5569d08d69d4/workflows.tar.gz'}\n",
      "\n"
     ]
    }
   ],
   "source": [
    "## Create poisoned test images.\n",
    "response_gen_poison_le_net_test = restapi_client.submit_job(\n",
    "    workflows_file=WORKFLOWS_TAR_GZ,\n",
    "    experiment_name=EXPERIMENT_NAME,\n",
    "    entry_point=\"gen_poison_data\",\n",
    "    entry_point_kwargs=\" \".join(\n",
    "        [\n",
    "            f\"-P data_dir={DATASET_DIR}/testing\",\n",
    "            \"-P batch_size=100\",\n",
    "            \"-P target_class=1\",\n",
    "            \"-P poison_fraction=1\",\n",
    "            \"-P label_type=test\"\n",
    "        ]\n",
    "    ),\n",
    "    queue=\"tensorflow_gpu\",\n",
    "    depends_on=response_le_net_train[\"jobId\"],\n",
    ")\n",
    "\n",
    "print(\"Backdoor poison attack (LeNet-5 architecture) job submitted\")\n",
    "print(\"\")\n",
    "pprint.pprint(response_gen_poison_le_net_test)\n",
    "print(\"\")\n",
    "\n",
    "response_gen_poison_le_net_test = get_run_id(response_gen_poison_le_net_test)"
   ]
  },
  {
   "cell_type": "code",
   "execution_count": 33,
   "metadata": {},
   "outputs": [
    {
     "name": "stdout",
     "output_type": "stream",
     "text": [
      "Backdoor poison attack (LeNet-5 architecture) job submitted\n",
      "\n",
      "{'createdOn': '2021-06-02T10:03:42.877898',\n",
      " 'dependsOn': '1634741f-f0cb-4e21-9afe-53dc4e1e898b',\n",
      " 'entryPoint': 'gen_poison_clean_data',\n",
      " 'entryPointKwargs': '-P '\n",
      "                     'model_name=howard_mnist_clean_label_backdoor_robust_le_net '\n",
      "                     '-P model_version=none -P '\n",
      "                     'data_dir=/nfs/data/Mnist/testing -P batch_size=200 -P '\n",
      "                     'target_index=1 -P poison_fraction=0.33 -P '\n",
      "                     'label_type=train',\n",
      " 'experimentId': 22,\n",
      " 'jobId': '50ba53c6-4f20-4522-89fb-069f0e101b75',\n",
      " 'lastModified': '2021-06-02T10:03:42.877898',\n",
      " 'mlflowRunId': None,\n",
      " 'queueId': 2,\n",
      " 'status': 'queued',\n",
      " 'timeout': '24h',\n",
      " 'workflowUri': 's3://workflow/2d706ed35a754d12a97ebc054b4a3341/workflows.tar.gz'}\n",
      "\n"
     ]
    }
   ],
   "source": [
    "## Create poisoned training images (clean_label)\n",
    "response_gen_poison_le_net_train_clean = restapi_client.submit_job(\n",
    "    workflows_file=WORKFLOWS_TAR_GZ,\n",
    "    experiment_name=EXPERIMENT_NAME,\n",
    "    entry_point=\"gen_poison_clean_data\",\n",
    "    entry_point_kwargs=\" \".join(\n",
    "        [\n",
    "             f\"-P model_name={EXPERIMENT_NAME}_robust_le_net\",\n",
    "            \"-P model_version=none\",\n",
    "            f\"-P data_dir={DATASET_DIR}/testing\",\n",
    "            \"-P batch_size=200\",\n",
    "            \"-P target_index=1\",\n",
    "            \"-P poison_fraction=0.33\",\n",
    "            \"-P label_type=train\"\n",
    "        ]\n",
    "    ),\n",
    "    queue=\"tensorflow_gpu\",\n",
    "    depends_on=response_le_net_train[\"jobId\"],\n",
    ")\n",
    "\n",
    "print(\"Backdoor poison attack (LeNet-5 architecture) job submitted\")\n",
    "print(\"\")\n",
    "pprint.pprint(response_gen_poison_le_net_train_clean)\n",
    "print(\"\")\n",
    "\n",
    "response_gen_poison_le_net_train_clean = get_run_id(response_gen_poison_le_net_train_clean)"
   ]
  },
  {
   "cell_type": "markdown",
   "metadata": {},
   "source": [
    "## MNIST Training: Poisoned Model using a Clean Label technique"
   ]
  },
  {
   "cell_type": "markdown",
   "metadata": {},
   "source": [
    "Next we will train our poisoned model using a clean label technique. "
   ]
  },
  {
   "cell_type": "code",
   "execution_count": 32,
   "metadata": {},
   "outputs": [
    {
     "name": "stdout",
     "output_type": "stream",
     "text": [
      "Training job for LeNet-5 neural network submitted\n",
      "\n",
      "{'createdOn': '2021-06-02T09:57:37.847602',\n",
      " 'dependsOn': '90bdf6c5-7997-4566-8589-9da6bfcee096',\n",
      " 'entryPoint': 'train',\n",
      " 'entryPointKwargs': '-P batch_size=256 -P '\n",
      "                     'register_model_name=howard_mnist_clean_label_backdoor_data_poison_le_net '\n",
      "                     '-P model_architecture=le_net -P epochs=30 -P '\n",
      "                     'data_dir_training=/nfs/data/Mnist/training -P '\n",
      "                     'data_dir_testing=/nfs/data/Mnist/testing -P '\n",
      "                     'load_dataset_from_mlruns=true -P '\n",
      "                     'dataset_run_id_training=3b6a77c80d174ac6bb459f9e9fe6400d '\n",
      "                     '-P adv_tar_name=adversarial_poison.tar.gz -P '\n",
      "                     'adv_data_dir=adv_poison_data',\n",
      " 'experimentId': 22,\n",
      " 'jobId': 'a2732b3b-11e7-43b3-817a-b12c804043cf',\n",
      " 'lastModified': '2021-06-02T09:57:37.847602',\n",
      " 'mlflowRunId': None,\n",
      " 'queueId': 2,\n",
      " 'status': 'queued',\n",
      " 'timeout': '1h',\n",
      " 'workflowUri': 's3://workflow/0b73094edb97451eb5a7b47f7f4b89e2/workflows.tar.gz'}\n"
     ]
    },
    {
     "ename": "KeyboardInterrupt",
     "evalue": "",
     "output_type": "error",
     "traceback": [
      "\u001b[0;31m---------------------------------------------------------------------------\u001b[0m",
      "\u001b[0;31mKeyboardInterrupt\u001b[0m                         Traceback (most recent call last)",
      "\u001b[0;32m<ipython-input-32-6dcf58edced1>\u001b[0m in \u001b[0;36m<module>\u001b[0;34m\u001b[0m\n\u001b[1;32m     26\u001b[0m \u001b[0mpprint\u001b[0m\u001b[0;34m.\u001b[0m\u001b[0mpprint\u001b[0m\u001b[0;34m(\u001b[0m\u001b[0mresponse_le_net_train_backdoor_model_clean\u001b[0m\u001b[0;34m)\u001b[0m\u001b[0;34m\u001b[0m\u001b[0;34m\u001b[0m\u001b[0m\n\u001b[1;32m     27\u001b[0m \u001b[0;34m\u001b[0m\u001b[0m\n\u001b[0;32m---> 28\u001b[0;31m \u001b[0mresponse_le_net_train_backdoor_model_clean\u001b[0m \u001b[0;34m=\u001b[0m \u001b[0mget_run_id\u001b[0m\u001b[0;34m(\u001b[0m\u001b[0mresponse_le_net_train_backdoor_model_clean\u001b[0m\u001b[0;34m)\u001b[0m\u001b[0;34m\u001b[0m\u001b[0;34m\u001b[0m\u001b[0m\n\u001b[0m\u001b[1;32m     29\u001b[0m \u001b[0mprint_mlflow_results\u001b[0m\u001b[0;34m(\u001b[0m\u001b[0mresponse_le_net_train_backdoor_model_clean\u001b[0m\u001b[0;34m)\u001b[0m\u001b[0;34m\u001b[0m\u001b[0;34m\u001b[0m\u001b[0m\n",
      "\u001b[0;32m<ipython-input-6-6fc42497b43e>\u001b[0m in \u001b[0;36mget_run_id\u001b[0;34m(job_response)\u001b[0m\n\u001b[1;32m      8\u001b[0m \u001b[0;32mdef\u001b[0m \u001b[0mget_run_id\u001b[0m\u001b[0;34m(\u001b[0m\u001b[0mjob_response\u001b[0m\u001b[0;34m)\u001b[0m\u001b[0;34m:\u001b[0m\u001b[0;34m\u001b[0m\u001b[0;34m\u001b[0m\u001b[0m\n\u001b[1;32m      9\u001b[0m     \u001b[0;32mwhile\u001b[0m \u001b[0mmlflow_run_id_is_not_known\u001b[0m\u001b[0;34m(\u001b[0m\u001b[0mjob_response\u001b[0m\u001b[0;34m)\u001b[0m\u001b[0;34m:\u001b[0m\u001b[0;34m\u001b[0m\u001b[0;34m\u001b[0m\u001b[0m\n\u001b[0;32m---> 10\u001b[0;31m         \u001b[0mtime\u001b[0m\u001b[0;34m.\u001b[0m\u001b[0msleep\u001b[0m\u001b[0;34m(\u001b[0m\u001b[0;36m1\u001b[0m\u001b[0;34m)\u001b[0m\u001b[0;34m\u001b[0m\u001b[0;34m\u001b[0m\u001b[0m\n\u001b[0m\u001b[1;32m     11\u001b[0m         \u001b[0mjob_response\u001b[0m \u001b[0;34m=\u001b[0m \u001b[0mrestapi_client\u001b[0m\u001b[0;34m.\u001b[0m\u001b[0mget_job_by_id\u001b[0m\u001b[0;34m(\u001b[0m\u001b[0mjob_response\u001b[0m\u001b[0;34m[\u001b[0m\u001b[0;34m\"jobId\"\u001b[0m\u001b[0;34m]\u001b[0m\u001b[0;34m)\u001b[0m\u001b[0;34m\u001b[0m\u001b[0;34m\u001b[0m\u001b[0m\n\u001b[1;32m     12\u001b[0m \u001b[0;34m\u001b[0m\u001b[0m\n",
      "\u001b[0;31mKeyboardInterrupt\u001b[0m: "
     ]
    }
   ],
   "source": [
    "# Now train a new model on the poisoned clean label images\n",
    "response_le_net_train_backdoor_model_clean = restapi_client.submit_job(\n",
    "    workflows_file=WORKFLOWS_TAR_GZ,\n",
    "    experiment_name=EXPERIMENT_NAME,\n",
    "    entry_point=\"train\",\n",
    "    entry_point_kwargs=\" \".join([\n",
    "        \"-P batch_size=256\",\n",
    "        f\"-P register_model_name={EXPERIMENT_NAME}_data_poison_le_net\",\n",
    "        \"-P model_architecture=le_net\",\n",
    "        \"-P epochs=30\",\n",
    "        f\"-P data_dir_training={DATASET_DIR}/training\",\n",
    "        f\"-P data_dir_testing={DATASET_DIR}/testing\",\n",
    "        \"-P load_dataset_from_mlruns=true\",\n",
    "        f\"-P dataset_run_id_training={response_gen_poison_le_net_train_clean['mlflowRunId']}\",\n",
    "        \"-P adv_tar_name=adversarial_poison.tar.gz\",\n",
    "        \"-P adv_data_dir=adv_poison_data\"\n",
    "    ]),\n",
    "    depends_on=response_gen_poison_le_net_train_clean[\"jobId\"],\n",
    "    queue=\"tensorflow_gpu\",\n",
    "    timeout=\"1h\",\n",
    "    \n",
    ")\n",
    "\n",
    "print(\"Training job for LeNet-5 neural network submitted\")\n",
    "print(\"\")\n",
    "pprint.pprint(response_le_net_train_backdoor_model_clean)\n",
    "\n",
    "response_le_net_train_backdoor_model_clean = get_run_id(response_le_net_train_backdoor_model_clean)\n",
    "print_mlflow_results(response_le_net_train_backdoor_model_clean)"
   ]
  },
  {
   "cell_type": "markdown",
   "metadata": {},
   "source": [
    "## Model Evaluation: Poisoned vs Regular Models on Backdoor-Poisoned Images."
   ]
  },
  {
   "cell_type": "markdown",
   "metadata": {},
   "source": [
    "Below we will compare the results of the regular model vs poisoned-backdoor model on backdoor test images."
   ]
  },
  {
   "cell_type": "code",
   "execution_count": 19,
   "metadata": {},
   "outputs": [
    {
     "name": "stdout",
     "output_type": "stream",
     "text": [
      "Inference job for LeNet-5 neural network submitted\n",
      "\n",
      "{'createdOn': '2021-06-02T08:37:31.766959',\n",
      " 'dependsOn': 'fc134c7e-64c4-4af0-878a-ae32283000c4',\n",
      " 'entryPoint': 'infer',\n",
      " 'entryPointKwargs': '-P run_id=360e53d8a70344bc8ab908debd1e437f -P '\n",
      "                     'model_name=howard_mnist_clean_label_backdoor_data_poison_le_net '\n",
      "                     '-P model_version=none -P batch_size=512 -P '\n",
      "                     'adv_tar_name=adversarial_poison.tar.gz -P '\n",
      "                     'adv_data_dir=adv_poison_data',\n",
      " 'experimentId': 22,\n",
      " 'jobId': '20c090e7-7b21-41ee-91d3-3924c5ab415f',\n",
      " 'lastModified': '2021-06-02T08:37:31.766959',\n",
      " 'mlflowRunId': None,\n",
      " 'queueId': 2,\n",
      " 'status': 'queued',\n",
      " 'timeout': '24h',\n",
      " 'workflowUri': 's3://workflow/3e1da1945685477298efc765007fdea4/workflows.tar.gz'}\n",
      "{'accuracy': 0.14790000021457672,\n",
      " 'auc': 0.6006970405578613,\n",
      " 'loss': 8.332611465454102,\n",
      " 'precision': 0.14790000021457672,\n",
      " 'recall': 0.14790000021457672}\n"
     ]
    }
   ],
   "source": [
    "# Inference: Model trained on poisoned backdoor attack\n",
    "response_infer_pos_model_clean = restapi_client.submit_job(\n",
    "    workflows_file=WORKFLOWS_TAR_GZ,\n",
    "    experiment_name=EXPERIMENT_NAME,\n",
    "    entry_point=\"infer\",\n",
    "    entry_point_kwargs=\" \".join(\n",
    "        [\n",
    "            f\"-P run_id={response_gen_poison_le_net_test['mlflowRunId']}\",\n",
    "            f\"-P model_name={EXPERIMENT_NAME}_data_poison_le_net\",\n",
    "            \"-P model_version=none\",\n",
    "            \"-P batch_size=512\",\n",
    "            \"-P adv_tar_name=adversarial_poison.tar.gz\",\n",
    "            \"-P adv_data_dir=adv_poison_data\",\n",
    "        ]\n",
    "    ),\n",
    "    queue=\"tensorflow_gpu\",\n",
    "    depends_on=response_le_net_train_backdoor_model_clean[\"jobId\"],\n",
    ")\n",
    "\n",
    "print(\"Inference job for LeNet-5 neural network submitted\")\n",
    "print(\"\")\n",
    "\n",
    "pprint.pprint(response_infer_pos_model_clean)\n",
    "response_infer_pos_model_clean = get_run_id(response_infer_pos_model_clean)\n",
    "print_mlflow_results(response_infer_pos_model_clean)"
   ]
  },
  {
   "cell_type": "code",
   "execution_count": 20,
   "metadata": {},
   "outputs": [
    {
     "name": "stdout",
     "output_type": "stream",
     "text": [
      "Inference job for LeNet-5 neural network submitted\n",
      "\n",
      "{'createdOn': '2021-06-02T08:38:03.109778',\n",
      " 'dependsOn': '1634741f-f0cb-4e21-9afe-53dc4e1e898b',\n",
      " 'entryPoint': 'infer',\n",
      " 'entryPointKwargs': '-P run_id=360e53d8a70344bc8ab908debd1e437f -P '\n",
      "                     'model_name=howard_mnist_clean_label_backdoor_le_net -P '\n",
      "                     'model_version=none -P batch_size=512 -P '\n",
      "                     'adv_tar_name=adversarial_poison.tar.gz -P '\n",
      "                     'adv_data_dir=adv_poison_data',\n",
      " 'experimentId': 22,\n",
      " 'jobId': '0c4ce22c-e530-4834-aee2-c706937a39d2',\n",
      " 'lastModified': '2021-06-02T08:38:03.109778',\n",
      " 'mlflowRunId': None,\n",
      " 'queueId': 2,\n",
      " 'status': 'queued',\n",
      " 'timeout': '24h',\n",
      " 'workflowUri': 's3://workflow/227eb85ad9ad45828d1c3ea32abb026a/workflows.tar.gz'}\n",
      "{'accuracy': 0.9873999953269958,\n",
      " 'auc': 0.9996170401573181,\n",
      " 'loss': 0.03629831066355109,\n",
      " 'precision': 0.9892570376396179,\n",
      " 'recall': 0.9853000044822693}\n"
     ]
    }
   ],
   "source": [
    "# Inference: Regular model on poisoned test images\n",
    "response_infer_reg_model = restapi_client.submit_job(\n",
    "    workflows_file=WORKFLOWS_TAR_GZ,\n",
    "    experiment_name=EXPERIMENT_NAME,\n",
    "    entry_point=\"infer\",\n",
    "    entry_point_kwargs=\" \".join(\n",
    "        [\n",
    "            f\"-P run_id={response_gen_poison_le_net_test['mlflowRunId']}\",\n",
    "            f\"-P model_name={EXPERIMENT_NAME}_le_net\",\n",
    "            \"-P model_version=none\",\n",
    "            \"-P batch_size=512\",\n",
    "            \"-P adv_tar_name=adversarial_poison.tar.gz\",\n",
    "            \"-P adv_data_dir=adv_poison_data\",\n",
    "        ]\n",
    "    ),\n",
    "    queue=\"tensorflow_gpu\",\n",
    "    depends_on=response_le_net_train[\"jobId\"],\n",
    ")\n",
    "\n",
    "print(\"Inference job for LeNet-5 neural network submitted\")\n",
    "print(\"\")\n",
    "pprint.pprint(response_infer_reg_model)\n",
    "print_mlflow_results(response_infer_reg_model)"
   ]
  },
  {
   "cell_type": "markdown",
   "metadata": {},
   "source": [
    "## Defending against the clean label poisoning attack"
   ]
  },
  {
   "cell_type": "markdown",
   "metadata": {},
   "source": [
    "Now we will explore available defenses on the adversarial backdoor poisoning attack.\n",
    "The following three jobs will run a selected defense (spatial smoothing, gaussian augmentation, or jpeg compression) and evaluate the defense on the baseline and backdoor trained models.\n",
    "\n",
    "- The first job uses the selected defense entrypoint to apply a preprocessing defense over the poisoned test images.\n",
    "- The second job runs the defended images against the poisoned backdoor model.\n",
    "- The final job runs the defended images against the baseline model.\n",
    "\n",
    "Ideally the defense will not impact the baseline model accuracy, while improving the backdoor model accuracy scores."
   ]
  },
  {
   "cell_type": "code",
   "execution_count": 22,
   "metadata": {},
   "outputs": [
    {
     "name": "stdout",
     "output_type": "stream",
     "text": [
      "FGM jpeg_compression defense (LeNet architecture) job submitted\n",
      "\n",
      "{'createdOn': '2021-06-02T08:40:45.548431',\n",
      " 'dependsOn': 'ee35f03e-21c9-459e-ab7a-6022b182526b',\n",
      " 'entryPoint': 'jpeg_compression',\n",
      " 'entryPointKwargs': '-P data_dir=/nfs/data/Mnist/testing -P batch_size=20 -P '\n",
      "                     'load_dataset_from_mlruns=true -P '\n",
      "                     'dataset_run_id=360e53d8a70344bc8ab908debd1e437f -P '\n",
      "                     'dataset_tar_name=adversarial_poison.tar.gz -P '\n",
      "                     'dataset_name=adv_poison_data',\n",
      " 'experimentId': 22,\n",
      " 'jobId': '74db6834-92e1-488f-af29-01eefa21c2fb',\n",
      " 'lastModified': '2021-06-02T08:40:45.548431',\n",
      " 'mlflowRunId': None,\n",
      " 'queueId': 2,\n",
      " 'status': 'queued',\n",
      " 'timeout': '24h',\n",
      " 'workflowUri': 's3://workflow/3c4bec354eb94bc09ace77d182a37d5e/workflows.tar.gz'}\n",
      "\n"
     ]
    }
   ],
   "source": [
    "defenses = [\"gaussian_augmentation\", \"spatial_smoothing\", \"jpeg_compression\"]\n",
    "defense = defenses[2]\n",
    "response_poison_def = restapi_client.submit_job(\n",
    "    workflows_file=WORKFLOWS_TAR_GZ,\n",
    "    experiment_name=EXPERIMENT_NAME,\n",
    "    entry_point=defense,\n",
    "    entry_point_kwargs=\" \".join(\n",
    "        [\n",
    "            f\"-P data_dir={DATASET_DIR}/testing\",\n",
    "            \"-P batch_size=20\",\n",
    "            \"-P load_dataset_from_mlruns=true\",\n",
    "            f\"-P dataset_run_id={response_gen_poison_le_net_test['mlflowRunId']}\",\n",
    "            \"-P dataset_tar_name=adversarial_poison.tar.gz\",\n",
    "            \"-P dataset_name=adv_poison_data\",\n",
    "        ]\n",
    "    ),\n",
    "    queue=\"tensorflow_gpu\",\n",
    "    depends_on=response_gen_poison_le_net_test[\"jobId\"],\n",
    ")\n",
    "\n",
    "\n",
    "print(f\"FGM {defense} defense (LeNet architecture) job submitted\")\n",
    "print(\"\")\n",
    "pprint.pprint(response_poison_def)\n",
    "print(\"\")\n",
    "\n",
    "response_poison_def = get_run_id(response_poison_def)"
   ]
  },
  {
   "cell_type": "code",
   "execution_count": 23,
   "metadata": {},
   "outputs": [
    {
     "name": "stdout",
     "output_type": "stream",
     "text": [
      "Inference job for LeNet-5 neural network submitted\n",
      "\n",
      "{'createdOn': '2021-06-02T08:41:04.206798',\n",
      " 'dependsOn': '74db6834-92e1-488f-af29-01eefa21c2fb',\n",
      " 'entryPoint': 'infer',\n",
      " 'entryPointKwargs': '-P run_id=c681461be82349c78eac0397e1fda7dd -P '\n",
      "                     'model_name=howard_mnist_clean_label_backdoor_data_poison_le_net '\n",
      "                     '-P model_version=none -P batch_size=512 -P '\n",
      "                     'adv_tar_name=jpeg_compression_dataset.tar.gz -P '\n",
      "                     'adv_data_dir=adv_testing',\n",
      " 'experimentId': 22,\n",
      " 'jobId': 'bce00cd1-ffcc-4342-ac66-21e8ac92ea21',\n",
      " 'lastModified': '2021-06-02T08:41:04.206798',\n",
      " 'mlflowRunId': None,\n",
      " 'queueId': 2,\n",
      " 'status': 'queued',\n",
      " 'timeout': '24h',\n",
      " 'workflowUri': 's3://workflow/5eaaff02375c44c1ac1e1d1b7cbd1526/workflows.tar.gz'}\n",
      "{'accuracy': 0.13840000331401825,\n",
      " 'auc': 0.5923616886138916,\n",
      " 'loss': 8.432003355026245,\n",
      " 'precision': 0.13831382989883423,\n",
      " 'recall': 0.13830000162124634}\n"
     ]
    }
   ],
   "source": [
    "# Inference: Poisoned model on poisoned test images.\n",
    "response_infer_pos_model = restapi_client.submit_job(\n",
    "    workflows_file=WORKFLOWS_TAR_GZ,\n",
    "    experiment_name=EXPERIMENT_NAME,\n",
    "    entry_point=\"infer\",\n",
    "    entry_point_kwargs=\" \".join(\n",
    "        [\n",
    "            f\"-P run_id={response_poison_def['mlflowRunId']}\",\n",
    "            f\"-P model_name={EXPERIMENT_NAME}_data_poison_le_net\",\n",
    "            f\"-P model_version=none\",\n",
    "            \"-P batch_size=512\",\n",
    "            f\"-P adv_tar_name={defense}_dataset.tar.gz\",\n",
    "            \"-P adv_data_dir=adv_testing\",\n",
    "        ]\n",
    "    ),\n",
    "    queue=\"tensorflow_gpu\",\n",
    "    depends_on=response_poison_def[\"jobId\"],\n",
    ")\n",
    "\n",
    "print(\"Inference job for LeNet-5 neural network submitted\")\n",
    "print(\"\")\n",
    "pprint.pprint(response_infer_pos_model)\n",
    "print_mlflow_results(response_infer_pos_model)\n"
   ]
  },
  {
   "cell_type": "code",
   "execution_count": 24,
   "metadata": {},
   "outputs": [
    {
     "name": "stdout",
     "output_type": "stream",
     "text": [
      "Inference job for LeNet-5 neural network submitted\n",
      "\n",
      "{'createdOn': '2021-06-02T08:41:46.861085',\n",
      " 'dependsOn': '74db6834-92e1-488f-af29-01eefa21c2fb',\n",
      " 'entryPoint': 'infer',\n",
      " 'entryPointKwargs': '-P run_id=c681461be82349c78eac0397e1fda7dd -P '\n",
      "                     'model_name=howard_mnist_clean_label_backdoor_le_net -P '\n",
      "                     'model_version=none -P batch_size=512 -P '\n",
      "                     'adv_tar_name=jpeg_compression_dataset.tar.gz -P '\n",
      "                     'adv_data_dir=adv_testing',\n",
      " 'experimentId': 22,\n",
      " 'jobId': '7576bbe6-dd41-4ee9-8af2-b8e3c5eca99c',\n",
      " 'lastModified': '2021-06-02T08:41:46.861085',\n",
      " 'mlflowRunId': None,\n",
      " 'queueId': 2,\n",
      " 'status': 'queued',\n",
      " 'timeout': '24h',\n",
      " 'workflowUri': 's3://workflow/4ab7916cd7ab47f081529168a763903a/workflows.tar.gz'}\n",
      "{'accuracy': 0.9869999885559082,\n",
      " 'auc': 0.9997146725654602,\n",
      " 'loss': 0.03738134503364563,\n",
      " 'precision': 0.989255964756012,\n",
      " 'recall': 0.9851999878883362}\n"
     ]
    }
   ],
   "source": [
    "# Inference: Regular model on poisoned test images.\n",
    "response_infer_reg_model = restapi_client.submit_job(\n",
    "    workflows_file=WORKFLOWS_TAR_GZ,\n",
    "    experiment_name=EXPERIMENT_NAME,\n",
    "    entry_point=\"infer\",\n",
    "    entry_point_kwargs=\" \".join(\n",
    "        [\n",
    "            f\"-P run_id={response_poison_def['mlflowRunId']}\",\n",
    "            f\"-P model_name={EXPERIMENT_NAME}_le_net\",\n",
    "            f\"-P model_version=none\",\n",
    "            \"-P batch_size=512\",\n",
    "            f\"-P adv_tar_name={defense}_dataset.tar.gz\",\n",
    "            \"-P adv_data_dir=adv_testing\",\n",
    "        ]\n",
    "    ),\n",
    "    queue=\"tensorflow_gpu\",\n",
    "    depends_on=response_poison_def[\"jobId\"],\n",
    ")\n",
    "\n",
    "print(\"Inference job for LeNet-5 neural network submitted\")\n",
    "print(\"\")\n",
    "pprint.pprint(response_infer_reg_model)\n",
    "print_mlflow_results(response_infer_reg_model)"
   ]
  },
  {
   "cell_type": "markdown",
   "metadata": {},
   "source": [
    "<a id='querying_cell'></a>\n",
    "## Querying the MLFlow Tracking Service"
   ]
  },
  {
   "cell_type": "markdown",
   "metadata": {},
   "source": [
    "Currently the lab API can only be used to register experiments and start jobs, so if users wish to extract their results programmatically, they can use the `MlflowClient()` class from the `mlflow` Python package to connect and query their results.\n",
    "Since we captured the run ids generated by MLFlow, we can easily retrieve the data logged about one of our jobs and inspect the results.\n",
    "To start the client, we simply need to run,"
   ]
  },
  {
   "cell_type": "code",
   "execution_count": null,
   "metadata": {},
   "outputs": [],
   "source": [
    "mlflow_client = MlflowClient()"
   ]
  },
  {
   "cell_type": "markdown",
   "metadata": {},
   "source": [
    "The client uses the environment variable `MLFLOW_TRACKING_URI` to figure out how to connect to the MLFlow Tracking Service, which we configured near the top of this notebook.\n",
    "To query the results of one of our runs, we just need to pass the run id to the client's `get_run()` method.\n",
    "As an example, let's query the run results for the patch attack applied to the LeNet-5 architecture,"
   ]
  },
  {
   "cell_type": "code",
   "execution_count": null,
   "metadata": {},
   "outputs": [],
   "source": [
    "run_le_net = mlflow_client.get_run(response_le_net_train[\"mlflowRunId\"])"
   ]
  },
  {
   "cell_type": "markdown",
   "metadata": {},
   "source": [
    "If the request completed successfully, we should now be able to query data collected during the run.\n",
    "For example, to review the collected metrics, we just use,"
   ]
  },
  {
   "cell_type": "code",
   "execution_count": null,
   "metadata": {},
   "outputs": [],
   "source": [
    "pprint.pprint(run_le_net.data.metrics)"
   ]
  },
  {
   "cell_type": "markdown",
   "metadata": {},
   "source": [
    "To review the run's parameters, we use,"
   ]
  },
  {
   "cell_type": "code",
   "execution_count": null,
   "metadata": {},
   "outputs": [],
   "source": [
    "pprint.pprint(run_le_net.data.params)"
   ]
  },
  {
   "cell_type": "markdown",
   "metadata": {},
   "source": [
    "To review the run's tags, we use,"
   ]
  },
  {
   "cell_type": "code",
   "execution_count": null,
   "metadata": {},
   "outputs": [],
   "source": [
    "pprint.pprint(run_le_net.data.tags)"
   ]
  },
  {
   "cell_type": "markdown",
   "metadata": {},
   "source": [
    "There are many things you can query using the MLFlow client.\n",
    "[The MLFlow documentation gives a full overview of the methods that are available](https://www.mlflow.org/docs/latest/python_api/mlflow.tracking.html#mlflow.tracking.MlflowClient)."
   ]
  }
 ],
 "metadata": {
  "kernelspec": {
   "display_name": "Python 3",
   "language": "python",
   "name": "python3"
  },
  "language_info": {
   "codemirror_mode": {
    "name": "ipython",
    "version": 3
   },
   "file_extension": ".py",
   "mimetype": "text/x-python",
   "name": "python",
   "nbconvert_exporter": "python",
   "pygments_lexer": "ipython3",
   "version": "3.7.7"
  }
 },
 "nbformat": 4,
 "nbformat_minor": 4
}
